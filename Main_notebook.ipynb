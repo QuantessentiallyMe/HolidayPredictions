{
 "cells": [
  {
   "cell_type": "markdown",
   "metadata": {},
   "source": [
    "# USING THE NEW YORK TIME API, WE WILL ANALYZE SENTIMENT OF THE LAST TWO MONTHS OF THE YEAR FROM 1992-2019 TO PREDICT SENTIMENT FOR 2020."
   ]
  },
  {
   "cell_type": "code",
   "execution_count": 13,
   "metadata": {},
   "outputs": [
    {
     "data": {
      "text/plain": [
       "True"
      ]
     },
     "execution_count": 13,
     "metadata": {},
     "output_type": "execute_result"
    }
   ],
   "source": [
    "import os\n",
    "import pandas as pd\n",
    "from dotenv import load_dotenv\n",
    "from nytimesarticle import articleAPI\n",
    "import nltk\n",
    "from nltk.sentiment.vader import SentimentIntensityAnalyzer\n",
    "from numpy.random import seed\n",
    "seed(1)\n",
    "from tensorflow import random\n",
    "random.set_seed(2)\n",
    "from pathlib import Path\n",
    "\n",
    "import numpy as np\n",
    "import hvplot.pandas\n",
    "\n",
    "from sklearn import tree\n",
    "from sklearn.preprocessing import StandardScaler\n",
    "from sklearn.model_selection import train_test_split\n",
    "from sklearn.metrics import confusion_matrix, accuracy_score, classification_report\n",
    "\n",
    "# Needed for decision tree visualization\n",
    "import pydotplus\n",
    "from IPython.display import Image\n",
    "\n",
    "from sklearn.ensemble import RandomForestRegressor\n",
    "\n",
    "# Needed for decision tree visualization\n",
    "import pydotplus\n",
    "from IPython.display import Image\n",
    "\n",
    "from sklearn.ensemble import GradientBoostingRegressor\n",
    "\n",
    "%matplotlib inline\n",
    "load_dotenv()"
   ]
  },
  {
   "cell_type": "code",
   "execution_count": 14,
   "metadata": {},
   "outputs": [
    {
     "data": {
      "text/plain": [
       "<nytimesarticle.articleAPI at 0x7fded79e9910>"
      ]
     },
     "execution_count": 14,
     "metadata": {},
     "output_type": "execute_result"
    }
   ],
   "source": [
    "#called api key\n",
    "nyt_api_key = os.getenv(\"NYT_API\")\n",
    "\n",
    "api= articleAPI(nyt_api_key)\n",
    "\n",
    "api"
   ]
  },
  {
   "cell_type": "code",
   "execution_count": null,
   "metadata": {},
   "outputs": [],
   "source": []
  },
  {
   "cell_type": "code",
   "execution_count": 15,
   "metadata": {},
   "outputs": [],
   "source": [
    "# pulled articles from NYT (90s)\n",
    "articles_92 = api.search(q=\"holiday sales\",begin_date=19921101, end_date=19921231)\n",
    "articles_93 = api.search(q=\"holiday sales\",begin_date=19931101, end_date=19931231)\n",
    "articles_94 = api.search(q=\"holiday sales\",begin_date=19941101, end_date=19941231)\n",
    "articles_95 = api.search(q=\"holiday sales\",begin_date=19951101, end_date=19951231)\n",
    "articles_96 = api.search(q=\"holiday sales\",begin_date=19961101, end_date=19961231)\n",
    "articles_97 = api.search(q=\"holiday sales\",begin_date=19971101, end_date=19971231)\n",
    "articles_98 = api.search(q=\"holiday sales\",begin_date=19981101, end_date=19981231)\n",
    "articles_99 = api.search(q=\"holiday sales\",begin_date=19991101, end_date=19991231)"
   ]
  },
  {
   "cell_type": "code",
   "execution_count": null,
   "metadata": {},
   "outputs": [],
   "source": []
  },
  {
   "cell_type": "code",
   "execution_count": 16,
   "metadata": {},
   "outputs": [],
   "source": [
    "# pulled articles from NYT(00s)\n",
    "articles_00 = api.search(q=\"holiday sales\",begin_date=20001101, end_date=20001231)\n",
    "articles_01 = api.search(q=\"holiday sales\",begin_date=20011101, end_date=20011231)\n",
    "articles_02 = api.search(q=\"holiday sales\",begin_date=20021101, end_date=20021231)\n",
    "articles_03 = api.search(q=\"holiday sales\",begin_date=20031101, end_date=20031231)\n",
    "articles_04 = api.search(q=\"holiday sales\",begin_date=20041101, end_date=20041231)\n",
    "articles_05 = api.search(q=\"holiday sales\",begin_date=20051101, end_date=20051231)\n",
    "articles_06 = api.search(q=\"holiday sales\",begin_date=20061101, end_date=20061231)\n",
    "articles_07 = api.search(q=\"holiday sales\",begin_date=20071101, end_date=20071231)\n",
    "articles_08 = api.search(q=\"holiday sales\",begin_date=20081101, end_date=20081231)\n",
    "articles_09 = api.search(q=\"holiday sales\",begin_date=20091101, end_date=20091231)\n"
   ]
  },
  {
   "cell_type": "code",
   "execution_count": 17,
   "metadata": {},
   "outputs": [],
   "source": [
    "#pulled articles for NYT (00-19)\n",
    "articles_10 = api.search(q=\"holiday sales\",begin_date=20101101, end_date=20101231)\n",
    "articles_11 = api.search(q=\"holiday sales\",begin_date=20111101, end_date=20111231)\n",
    "articles_12 = api.search(q=\"holiday sales\",begin_date=20121101, end_date=20121231)\n",
    "articles_13 = api.search(q=\"holiday sales\",begin_date=20131101, end_date=20131231)\n",
    "articles_14 = api.search(q=\"holiday sales\",begin_date=20141101, end_date=20141231)\n",
    "articles_15 = api.search(q=\"holiday sales\",begin_date=20151101, end_date=20151231)\n",
    "articles_16 = api.search(q=\"holiday sales\",begin_date=20161101, end_date=20161231)\n",
    "articles_17 = api.search(q=\"holiday sales\",begin_date=20171101, end_date=20171231)\n",
    "articles_18 = api.search(q=\"holiday sales\",begin_date=20181101, end_date=20181231)\n",
    "articles_19 = api.search(q=\"holiday sales\",begin_date=20191101, end_date=20191231)\n"
   ]
  },
  {
   "cell_type": "code",
   "execution_count": 18,
   "metadata": {},
   "outputs": [
    {
     "data": {
      "text/plain": [
       "{'status': 'OK',\n",
       " 'copyright': 'Copyright (c) 2020 The New York Times Company. All Rights Reserved.',\n",
       " 'response': {'docs': [], 'meta': {'hits': 0, 'offset': 0, 'time': 15}}}"
      ]
     },
     "execution_count": 18,
     "metadata": {},
     "output_type": "execute_result"
    }
   ],
   "source": [
    "articles_92\n"
   ]
  },
  {
   "cell_type": "code",
   "execution_count": 19,
   "metadata": {},
   "outputs": [
    {
     "ename": "KeyError",
     "evalue": "'pub_date'",
     "output_type": "error",
     "traceback": [
      "\u001b[0;31m---------------------------------------------------------------------------\u001b[0m",
      "\u001b[0;31mKeyError\u001b[0m                                  Traceback (most recent call last)",
      "\u001b[0;32m/opt/anaconda3/lib/python3.7/site-packages/pandas/core/indexes/base.py\u001b[0m in \u001b[0;36mget_loc\u001b[0;34m(self, key, method, tolerance)\u001b[0m\n\u001b[1;32m   2656\u001b[0m             \u001b[0;32mtry\u001b[0m\u001b[0;34m:\u001b[0m\u001b[0;34m\u001b[0m\u001b[0;34m\u001b[0m\u001b[0m\n\u001b[0;32m-> 2657\u001b[0;31m                 \u001b[0;32mreturn\u001b[0m \u001b[0mself\u001b[0m\u001b[0;34m.\u001b[0m\u001b[0m_engine\u001b[0m\u001b[0;34m.\u001b[0m\u001b[0mget_loc\u001b[0m\u001b[0;34m(\u001b[0m\u001b[0mkey\u001b[0m\u001b[0;34m)\u001b[0m\u001b[0;34m\u001b[0m\u001b[0;34m\u001b[0m\u001b[0m\n\u001b[0m\u001b[1;32m   2658\u001b[0m             \u001b[0;32mexcept\u001b[0m \u001b[0mKeyError\u001b[0m\u001b[0;34m:\u001b[0m\u001b[0;34m\u001b[0m\u001b[0;34m\u001b[0m\u001b[0m\n",
      "\u001b[0;32mpandas/_libs/index.pyx\u001b[0m in \u001b[0;36mpandas._libs.index.IndexEngine.get_loc\u001b[0;34m()\u001b[0m\n",
      "\u001b[0;32mpandas/_libs/index.pyx\u001b[0m in \u001b[0;36mpandas._libs.index.IndexEngine.get_loc\u001b[0;34m()\u001b[0m\n",
      "\u001b[0;32mpandas/_libs/hashtable_class_helper.pxi\u001b[0m in \u001b[0;36mpandas._libs.hashtable.PyObjectHashTable.get_item\u001b[0;34m()\u001b[0m\n",
      "\u001b[0;32mpandas/_libs/hashtable_class_helper.pxi\u001b[0m in \u001b[0;36mpandas._libs.hashtable.PyObjectHashTable.get_item\u001b[0;34m()\u001b[0m\n",
      "\u001b[0;31mKeyError\u001b[0m: 'pub_date'",
      "\nDuring handling of the above exception, another exception occurred:\n",
      "\u001b[0;31mKeyError\u001b[0m                                  Traceback (most recent call last)",
      "\u001b[0;32m<ipython-input-19-40afaa44404e>\u001b[0m in \u001b[0;36m<module>\u001b[0;34m\u001b[0m\n\u001b[1;32m      1\u001b[0m \u001b[0;31m# Dataframe for 92\u001b[0m\u001b[0;34m\u001b[0m\u001b[0;34m\u001b[0m\u001b[0;34m\u001b[0m\u001b[0m\n\u001b[1;32m      2\u001b[0m \u001b[0marticles92\u001b[0m\u001b[0;34m=\u001b[0m \u001b[0marticles_92\u001b[0m\u001b[0;34m[\u001b[0m\u001b[0;34m'response'\u001b[0m\u001b[0;34m]\u001b[0m\u001b[0;34m\u001b[0m\u001b[0;34m\u001b[0m\u001b[0m\n\u001b[0;32m----> 3\u001b[0;31m articles_df_92 = pd.DataFrame(articles92['docs']).set_index('pub_date').drop(columns = ['_id','byline', 'document_type','multimedia','news_desk'\n\u001b[0m\u001b[1;32m      4\u001b[0m                                                                          \u001b[0;34m,\u001b[0m\u001b[0;34m'print_page'\u001b[0m\u001b[0;34m,\u001b[0m\u001b[0;34m'print_section'\u001b[0m\u001b[0;34m,\u001b[0m\u001b[0;34m'snippet'\u001b[0m\u001b[0;34m,\u001b[0m\u001b[0;34m'source'\u001b[0m\u001b[0;34m,\u001b[0m\u001b[0;34m'subsection_name'\u001b[0m\u001b[0;34m\u001b[0m\u001b[0;34m\u001b[0m\u001b[0m\n\u001b[1;32m      5\u001b[0m                                                                          ,'type_of_material', 'uri','web_url','word_count','section_name'])\n",
      "\u001b[0;32m/opt/anaconda3/lib/python3.7/site-packages/pandas/core/frame.py\u001b[0m in \u001b[0;36mset_index\u001b[0;34m(self, keys, drop, append, inplace, verify_integrity)\u001b[0m\n\u001b[1;32m   4176\u001b[0m                 \u001b[0mnames\u001b[0m\u001b[0;34m.\u001b[0m\u001b[0mappend\u001b[0m\u001b[0;34m(\u001b[0m\u001b[0;32mNone\u001b[0m\u001b[0;34m)\u001b[0m\u001b[0;34m\u001b[0m\u001b[0;34m\u001b[0m\u001b[0m\n\u001b[1;32m   4177\u001b[0m             \u001b[0;32melse\u001b[0m\u001b[0;34m:\u001b[0m\u001b[0;34m\u001b[0m\u001b[0;34m\u001b[0m\u001b[0m\n\u001b[0;32m-> 4178\u001b[0;31m                 \u001b[0mlevel\u001b[0m \u001b[0;34m=\u001b[0m \u001b[0mframe\u001b[0m\u001b[0;34m[\u001b[0m\u001b[0mcol\u001b[0m\u001b[0;34m]\u001b[0m\u001b[0;34m.\u001b[0m\u001b[0m_values\u001b[0m\u001b[0;34m\u001b[0m\u001b[0;34m\u001b[0m\u001b[0m\n\u001b[0m\u001b[1;32m   4179\u001b[0m                 \u001b[0mnames\u001b[0m\u001b[0;34m.\u001b[0m\u001b[0mappend\u001b[0m\u001b[0;34m(\u001b[0m\u001b[0mcol\u001b[0m\u001b[0;34m)\u001b[0m\u001b[0;34m\u001b[0m\u001b[0;34m\u001b[0m\u001b[0m\n\u001b[1;32m   4180\u001b[0m                 \u001b[0;32mif\u001b[0m \u001b[0mdrop\u001b[0m\u001b[0;34m:\u001b[0m\u001b[0;34m\u001b[0m\u001b[0;34m\u001b[0m\u001b[0m\n",
      "\u001b[0;32m/opt/anaconda3/lib/python3.7/site-packages/pandas/core/frame.py\u001b[0m in \u001b[0;36m__getitem__\u001b[0;34m(self, key)\u001b[0m\n\u001b[1;32m   2925\u001b[0m             \u001b[0;32mif\u001b[0m \u001b[0mself\u001b[0m\u001b[0;34m.\u001b[0m\u001b[0mcolumns\u001b[0m\u001b[0;34m.\u001b[0m\u001b[0mnlevels\u001b[0m \u001b[0;34m>\u001b[0m \u001b[0;36m1\u001b[0m\u001b[0;34m:\u001b[0m\u001b[0;34m\u001b[0m\u001b[0;34m\u001b[0m\u001b[0m\n\u001b[1;32m   2926\u001b[0m                 \u001b[0;32mreturn\u001b[0m \u001b[0mself\u001b[0m\u001b[0;34m.\u001b[0m\u001b[0m_getitem_multilevel\u001b[0m\u001b[0;34m(\u001b[0m\u001b[0mkey\u001b[0m\u001b[0;34m)\u001b[0m\u001b[0;34m\u001b[0m\u001b[0;34m\u001b[0m\u001b[0m\n\u001b[0;32m-> 2927\u001b[0;31m             \u001b[0mindexer\u001b[0m \u001b[0;34m=\u001b[0m \u001b[0mself\u001b[0m\u001b[0;34m.\u001b[0m\u001b[0mcolumns\u001b[0m\u001b[0;34m.\u001b[0m\u001b[0mget_loc\u001b[0m\u001b[0;34m(\u001b[0m\u001b[0mkey\u001b[0m\u001b[0;34m)\u001b[0m\u001b[0;34m\u001b[0m\u001b[0;34m\u001b[0m\u001b[0m\n\u001b[0m\u001b[1;32m   2928\u001b[0m             \u001b[0;32mif\u001b[0m \u001b[0mis_integer\u001b[0m\u001b[0;34m(\u001b[0m\u001b[0mindexer\u001b[0m\u001b[0;34m)\u001b[0m\u001b[0;34m:\u001b[0m\u001b[0;34m\u001b[0m\u001b[0;34m\u001b[0m\u001b[0m\n\u001b[1;32m   2929\u001b[0m                 \u001b[0mindexer\u001b[0m \u001b[0;34m=\u001b[0m \u001b[0;34m[\u001b[0m\u001b[0mindexer\u001b[0m\u001b[0;34m]\u001b[0m\u001b[0;34m\u001b[0m\u001b[0;34m\u001b[0m\u001b[0m\n",
      "\u001b[0;32m/opt/anaconda3/lib/python3.7/site-packages/pandas/core/indexes/base.py\u001b[0m in \u001b[0;36mget_loc\u001b[0;34m(self, key, method, tolerance)\u001b[0m\n\u001b[1;32m   2657\u001b[0m                 \u001b[0;32mreturn\u001b[0m \u001b[0mself\u001b[0m\u001b[0;34m.\u001b[0m\u001b[0m_engine\u001b[0m\u001b[0;34m.\u001b[0m\u001b[0mget_loc\u001b[0m\u001b[0;34m(\u001b[0m\u001b[0mkey\u001b[0m\u001b[0;34m)\u001b[0m\u001b[0;34m\u001b[0m\u001b[0;34m\u001b[0m\u001b[0m\n\u001b[1;32m   2658\u001b[0m             \u001b[0;32mexcept\u001b[0m \u001b[0mKeyError\u001b[0m\u001b[0;34m:\u001b[0m\u001b[0;34m\u001b[0m\u001b[0;34m\u001b[0m\u001b[0m\n\u001b[0;32m-> 2659\u001b[0;31m                 \u001b[0;32mreturn\u001b[0m \u001b[0mself\u001b[0m\u001b[0;34m.\u001b[0m\u001b[0m_engine\u001b[0m\u001b[0;34m.\u001b[0m\u001b[0mget_loc\u001b[0m\u001b[0;34m(\u001b[0m\u001b[0mself\u001b[0m\u001b[0;34m.\u001b[0m\u001b[0m_maybe_cast_indexer\u001b[0m\u001b[0;34m(\u001b[0m\u001b[0mkey\u001b[0m\u001b[0;34m)\u001b[0m\u001b[0;34m)\u001b[0m\u001b[0;34m\u001b[0m\u001b[0;34m\u001b[0m\u001b[0m\n\u001b[0m\u001b[1;32m   2660\u001b[0m         \u001b[0mindexer\u001b[0m \u001b[0;34m=\u001b[0m \u001b[0mself\u001b[0m\u001b[0;34m.\u001b[0m\u001b[0mget_indexer\u001b[0m\u001b[0;34m(\u001b[0m\u001b[0;34m[\u001b[0m\u001b[0mkey\u001b[0m\u001b[0;34m]\u001b[0m\u001b[0;34m,\u001b[0m \u001b[0mmethod\u001b[0m\u001b[0;34m=\u001b[0m\u001b[0mmethod\u001b[0m\u001b[0;34m,\u001b[0m \u001b[0mtolerance\u001b[0m\u001b[0;34m=\u001b[0m\u001b[0mtolerance\u001b[0m\u001b[0;34m)\u001b[0m\u001b[0;34m\u001b[0m\u001b[0;34m\u001b[0m\u001b[0m\n\u001b[1;32m   2661\u001b[0m         \u001b[0;32mif\u001b[0m \u001b[0mindexer\u001b[0m\u001b[0;34m.\u001b[0m\u001b[0mndim\u001b[0m \u001b[0;34m>\u001b[0m \u001b[0;36m1\u001b[0m \u001b[0;32mor\u001b[0m \u001b[0mindexer\u001b[0m\u001b[0;34m.\u001b[0m\u001b[0msize\u001b[0m \u001b[0;34m>\u001b[0m \u001b[0;36m1\u001b[0m\u001b[0;34m:\u001b[0m\u001b[0;34m\u001b[0m\u001b[0;34m\u001b[0m\u001b[0m\n",
      "\u001b[0;32mpandas/_libs/index.pyx\u001b[0m in \u001b[0;36mpandas._libs.index.IndexEngine.get_loc\u001b[0;34m()\u001b[0m\n",
      "\u001b[0;32mpandas/_libs/index.pyx\u001b[0m in \u001b[0;36mpandas._libs.index.IndexEngine.get_loc\u001b[0;34m()\u001b[0m\n",
      "\u001b[0;32mpandas/_libs/hashtable_class_helper.pxi\u001b[0m in \u001b[0;36mpandas._libs.hashtable.PyObjectHashTable.get_item\u001b[0;34m()\u001b[0m\n",
      "\u001b[0;32mpandas/_libs/hashtable_class_helper.pxi\u001b[0m in \u001b[0;36mpandas._libs.hashtable.PyObjectHashTable.get_item\u001b[0;34m()\u001b[0m\n",
      "\u001b[0;31mKeyError\u001b[0m: 'pub_date'"
     ]
    }
   ],
   "source": [
    "# Dataframe for 92\n",
    "articles92= articles_92['response']\n",
    "articles_df_92 = pd.DataFrame(articles92['docs']).set_index('pub_date').drop(columns = ['_id','byline', 'document_type','multimedia','news_desk'\n",
    "                                                                         ,'print_page','print_section','snippet','source','subsection_name'\n",
    "                                                                         ,'type_of_material', 'uri','web_url','word_count','section_name'])\n",
    "\n",
    "articles_df_92.head()"
   ]
  },
  {
   "cell_type": "code",
   "execution_count": 20,
   "metadata": {},
   "outputs": [
    {
     "ename": "KeyError",
     "evalue": "'pub_date'",
     "output_type": "error",
     "traceback": [
      "\u001b[0;31m---------------------------------------------------------------------------\u001b[0m",
      "\u001b[0;31mKeyError\u001b[0m                                  Traceback (most recent call last)",
      "\u001b[0;32m/opt/anaconda3/lib/python3.7/site-packages/pandas/core/indexes/base.py\u001b[0m in \u001b[0;36mget_loc\u001b[0;34m(self, key, method, tolerance)\u001b[0m\n\u001b[1;32m   2656\u001b[0m             \u001b[0;32mtry\u001b[0m\u001b[0;34m:\u001b[0m\u001b[0;34m\u001b[0m\u001b[0;34m\u001b[0m\u001b[0m\n\u001b[0;32m-> 2657\u001b[0;31m                 \u001b[0;32mreturn\u001b[0m \u001b[0mself\u001b[0m\u001b[0;34m.\u001b[0m\u001b[0m_engine\u001b[0m\u001b[0;34m.\u001b[0m\u001b[0mget_loc\u001b[0m\u001b[0;34m(\u001b[0m\u001b[0mkey\u001b[0m\u001b[0;34m)\u001b[0m\u001b[0;34m\u001b[0m\u001b[0;34m\u001b[0m\u001b[0m\n\u001b[0m\u001b[1;32m   2658\u001b[0m             \u001b[0;32mexcept\u001b[0m \u001b[0mKeyError\u001b[0m\u001b[0;34m:\u001b[0m\u001b[0;34m\u001b[0m\u001b[0;34m\u001b[0m\u001b[0m\n",
      "\u001b[0;32mpandas/_libs/index.pyx\u001b[0m in \u001b[0;36mpandas._libs.index.IndexEngine.get_loc\u001b[0;34m()\u001b[0m\n",
      "\u001b[0;32mpandas/_libs/index.pyx\u001b[0m in \u001b[0;36mpandas._libs.index.IndexEngine.get_loc\u001b[0;34m()\u001b[0m\n",
      "\u001b[0;32mpandas/_libs/hashtable_class_helper.pxi\u001b[0m in \u001b[0;36mpandas._libs.hashtable.PyObjectHashTable.get_item\u001b[0;34m()\u001b[0m\n",
      "\u001b[0;32mpandas/_libs/hashtable_class_helper.pxi\u001b[0m in \u001b[0;36mpandas._libs.hashtable.PyObjectHashTable.get_item\u001b[0;34m()\u001b[0m\n",
      "\u001b[0;31mKeyError\u001b[0m: 'pub_date'",
      "\nDuring handling of the above exception, another exception occurred:\n",
      "\u001b[0;31mKeyError\u001b[0m                                  Traceback (most recent call last)",
      "\u001b[0;32m<ipython-input-20-2a353c588f84>\u001b[0m in \u001b[0;36m<module>\u001b[0;34m\u001b[0m\n\u001b[1;32m      1\u001b[0m \u001b[0;31m# Dataframe for 93\u001b[0m\u001b[0;34m\u001b[0m\u001b[0;34m\u001b[0m\u001b[0;34m\u001b[0m\u001b[0m\n\u001b[1;32m      2\u001b[0m \u001b[0marticles93\u001b[0m\u001b[0;34m=\u001b[0m \u001b[0marticles_93\u001b[0m\u001b[0;34m[\u001b[0m\u001b[0;34m'response'\u001b[0m\u001b[0;34m]\u001b[0m\u001b[0;34m\u001b[0m\u001b[0;34m\u001b[0m\u001b[0m\n\u001b[0;32m----> 3\u001b[0;31m articles_df_93 = pd.DataFrame(articles93['docs']).set_index('pub_date').drop(columns = ['_id','byline', 'document_type','multimedia','news_desk'\n\u001b[0m\u001b[1;32m      4\u001b[0m                                                                          \u001b[0;34m,\u001b[0m\u001b[0;34m'print_page'\u001b[0m\u001b[0;34m,\u001b[0m\u001b[0;34m'print_section'\u001b[0m\u001b[0;34m,\u001b[0m\u001b[0;34m'snippet'\u001b[0m\u001b[0;34m,\u001b[0m\u001b[0;34m'source'\u001b[0m\u001b[0;34m\u001b[0m\u001b[0;34m\u001b[0m\u001b[0m\n\u001b[1;32m      5\u001b[0m                                                                          ,'type_of_material', 'uri','web_url','word_count','section_name'])\n",
      "\u001b[0;32m/opt/anaconda3/lib/python3.7/site-packages/pandas/core/frame.py\u001b[0m in \u001b[0;36mset_index\u001b[0;34m(self, keys, drop, append, inplace, verify_integrity)\u001b[0m\n\u001b[1;32m   4176\u001b[0m                 \u001b[0mnames\u001b[0m\u001b[0;34m.\u001b[0m\u001b[0mappend\u001b[0m\u001b[0;34m(\u001b[0m\u001b[0;32mNone\u001b[0m\u001b[0;34m)\u001b[0m\u001b[0;34m\u001b[0m\u001b[0;34m\u001b[0m\u001b[0m\n\u001b[1;32m   4177\u001b[0m             \u001b[0;32melse\u001b[0m\u001b[0;34m:\u001b[0m\u001b[0;34m\u001b[0m\u001b[0;34m\u001b[0m\u001b[0m\n\u001b[0;32m-> 4178\u001b[0;31m                 \u001b[0mlevel\u001b[0m \u001b[0;34m=\u001b[0m \u001b[0mframe\u001b[0m\u001b[0;34m[\u001b[0m\u001b[0mcol\u001b[0m\u001b[0;34m]\u001b[0m\u001b[0;34m.\u001b[0m\u001b[0m_values\u001b[0m\u001b[0;34m\u001b[0m\u001b[0;34m\u001b[0m\u001b[0m\n\u001b[0m\u001b[1;32m   4179\u001b[0m                 \u001b[0mnames\u001b[0m\u001b[0;34m.\u001b[0m\u001b[0mappend\u001b[0m\u001b[0;34m(\u001b[0m\u001b[0mcol\u001b[0m\u001b[0;34m)\u001b[0m\u001b[0;34m\u001b[0m\u001b[0;34m\u001b[0m\u001b[0m\n\u001b[1;32m   4180\u001b[0m                 \u001b[0;32mif\u001b[0m \u001b[0mdrop\u001b[0m\u001b[0;34m:\u001b[0m\u001b[0;34m\u001b[0m\u001b[0;34m\u001b[0m\u001b[0m\n",
      "\u001b[0;32m/opt/anaconda3/lib/python3.7/site-packages/pandas/core/frame.py\u001b[0m in \u001b[0;36m__getitem__\u001b[0;34m(self, key)\u001b[0m\n\u001b[1;32m   2925\u001b[0m             \u001b[0;32mif\u001b[0m \u001b[0mself\u001b[0m\u001b[0;34m.\u001b[0m\u001b[0mcolumns\u001b[0m\u001b[0;34m.\u001b[0m\u001b[0mnlevels\u001b[0m \u001b[0;34m>\u001b[0m \u001b[0;36m1\u001b[0m\u001b[0;34m:\u001b[0m\u001b[0;34m\u001b[0m\u001b[0;34m\u001b[0m\u001b[0m\n\u001b[1;32m   2926\u001b[0m                 \u001b[0;32mreturn\u001b[0m \u001b[0mself\u001b[0m\u001b[0;34m.\u001b[0m\u001b[0m_getitem_multilevel\u001b[0m\u001b[0;34m(\u001b[0m\u001b[0mkey\u001b[0m\u001b[0;34m)\u001b[0m\u001b[0;34m\u001b[0m\u001b[0;34m\u001b[0m\u001b[0m\n\u001b[0;32m-> 2927\u001b[0;31m             \u001b[0mindexer\u001b[0m \u001b[0;34m=\u001b[0m \u001b[0mself\u001b[0m\u001b[0;34m.\u001b[0m\u001b[0mcolumns\u001b[0m\u001b[0;34m.\u001b[0m\u001b[0mget_loc\u001b[0m\u001b[0;34m(\u001b[0m\u001b[0mkey\u001b[0m\u001b[0;34m)\u001b[0m\u001b[0;34m\u001b[0m\u001b[0;34m\u001b[0m\u001b[0m\n\u001b[0m\u001b[1;32m   2928\u001b[0m             \u001b[0;32mif\u001b[0m \u001b[0mis_integer\u001b[0m\u001b[0;34m(\u001b[0m\u001b[0mindexer\u001b[0m\u001b[0;34m)\u001b[0m\u001b[0;34m:\u001b[0m\u001b[0;34m\u001b[0m\u001b[0;34m\u001b[0m\u001b[0m\n\u001b[1;32m   2929\u001b[0m                 \u001b[0mindexer\u001b[0m \u001b[0;34m=\u001b[0m \u001b[0;34m[\u001b[0m\u001b[0mindexer\u001b[0m\u001b[0;34m]\u001b[0m\u001b[0;34m\u001b[0m\u001b[0;34m\u001b[0m\u001b[0m\n",
      "\u001b[0;32m/opt/anaconda3/lib/python3.7/site-packages/pandas/core/indexes/base.py\u001b[0m in \u001b[0;36mget_loc\u001b[0;34m(self, key, method, tolerance)\u001b[0m\n\u001b[1;32m   2657\u001b[0m                 \u001b[0;32mreturn\u001b[0m \u001b[0mself\u001b[0m\u001b[0;34m.\u001b[0m\u001b[0m_engine\u001b[0m\u001b[0;34m.\u001b[0m\u001b[0mget_loc\u001b[0m\u001b[0;34m(\u001b[0m\u001b[0mkey\u001b[0m\u001b[0;34m)\u001b[0m\u001b[0;34m\u001b[0m\u001b[0;34m\u001b[0m\u001b[0m\n\u001b[1;32m   2658\u001b[0m             \u001b[0;32mexcept\u001b[0m \u001b[0mKeyError\u001b[0m\u001b[0;34m:\u001b[0m\u001b[0;34m\u001b[0m\u001b[0;34m\u001b[0m\u001b[0m\n\u001b[0;32m-> 2659\u001b[0;31m                 \u001b[0;32mreturn\u001b[0m \u001b[0mself\u001b[0m\u001b[0;34m.\u001b[0m\u001b[0m_engine\u001b[0m\u001b[0;34m.\u001b[0m\u001b[0mget_loc\u001b[0m\u001b[0;34m(\u001b[0m\u001b[0mself\u001b[0m\u001b[0;34m.\u001b[0m\u001b[0m_maybe_cast_indexer\u001b[0m\u001b[0;34m(\u001b[0m\u001b[0mkey\u001b[0m\u001b[0;34m)\u001b[0m\u001b[0;34m)\u001b[0m\u001b[0;34m\u001b[0m\u001b[0;34m\u001b[0m\u001b[0m\n\u001b[0m\u001b[1;32m   2660\u001b[0m         \u001b[0mindexer\u001b[0m \u001b[0;34m=\u001b[0m \u001b[0mself\u001b[0m\u001b[0;34m.\u001b[0m\u001b[0mget_indexer\u001b[0m\u001b[0;34m(\u001b[0m\u001b[0;34m[\u001b[0m\u001b[0mkey\u001b[0m\u001b[0;34m]\u001b[0m\u001b[0;34m,\u001b[0m \u001b[0mmethod\u001b[0m\u001b[0;34m=\u001b[0m\u001b[0mmethod\u001b[0m\u001b[0;34m,\u001b[0m \u001b[0mtolerance\u001b[0m\u001b[0;34m=\u001b[0m\u001b[0mtolerance\u001b[0m\u001b[0;34m)\u001b[0m\u001b[0;34m\u001b[0m\u001b[0;34m\u001b[0m\u001b[0m\n\u001b[1;32m   2661\u001b[0m         \u001b[0;32mif\u001b[0m \u001b[0mindexer\u001b[0m\u001b[0;34m.\u001b[0m\u001b[0mndim\u001b[0m \u001b[0;34m>\u001b[0m \u001b[0;36m1\u001b[0m \u001b[0;32mor\u001b[0m \u001b[0mindexer\u001b[0m\u001b[0;34m.\u001b[0m\u001b[0msize\u001b[0m \u001b[0;34m>\u001b[0m \u001b[0;36m1\u001b[0m\u001b[0;34m:\u001b[0m\u001b[0;34m\u001b[0m\u001b[0;34m\u001b[0m\u001b[0m\n",
      "\u001b[0;32mpandas/_libs/index.pyx\u001b[0m in \u001b[0;36mpandas._libs.index.IndexEngine.get_loc\u001b[0;34m()\u001b[0m\n",
      "\u001b[0;32mpandas/_libs/index.pyx\u001b[0m in \u001b[0;36mpandas._libs.index.IndexEngine.get_loc\u001b[0;34m()\u001b[0m\n",
      "\u001b[0;32mpandas/_libs/hashtable_class_helper.pxi\u001b[0m in \u001b[0;36mpandas._libs.hashtable.PyObjectHashTable.get_item\u001b[0;34m()\u001b[0m\n",
      "\u001b[0;32mpandas/_libs/hashtable_class_helper.pxi\u001b[0m in \u001b[0;36mpandas._libs.hashtable.PyObjectHashTable.get_item\u001b[0;34m()\u001b[0m\n",
      "\u001b[0;31mKeyError\u001b[0m: 'pub_date'"
     ]
    }
   ],
   "source": [
    "# Dataframe for 93\n",
    "articles93= articles_93['response']\n",
    "articles_df_93 = pd.DataFrame(articles93['docs']).set_index('pub_date').drop(columns = ['_id','byline', 'document_type','multimedia','news_desk'\n",
    "                                                                         ,'print_page','print_section','snippet','source'\n",
    "                                                                         ,'type_of_material', 'uri','web_url','word_count','section_name'])\n",
    "articles_df_93.head()"
   ]
  },
  {
   "cell_type": "code",
   "execution_count": null,
   "metadata": {},
   "outputs": [],
   "source": [
    "# Dataframe for 94\n",
    "articles94= articles_94['response']\n",
    "articles_df_94 = pd.DataFrame(articles94['docs']).set_index('pub_date').drop(columns = ['_id','byline', 'document_type','multimedia','news_desk'\n",
    "                                                                         ,'print_page','print_section','snippet','source','subsection_name'\n",
    "                                                                         ,'type_of_material', 'uri','web_url','word_count','section_name'])\n",
    "articles_df_94.head()"
   ]
  },
  {
   "cell_type": "code",
   "execution_count": null,
   "metadata": {},
   "outputs": [],
   "source": [
    "# Dataframe for 95\n",
    "articles95= articles_95['response']\n",
    "articles_df_95 = pd.DataFrame(articles95['docs']).set_index('pub_date').drop(columns = ['_id','byline', 'document_type','multimedia','news_desk'\n",
    "                                                                         ,'print_page','print_section','snippet','source'\n",
    "                                                                         ,'type_of_material', 'uri','web_url','word_count','section_name'])\n",
    "articles_df_95.head()"
   ]
  },
  {
   "cell_type": "code",
   "execution_count": null,
   "metadata": {},
   "outputs": [],
   "source": [
    "# Dataframe for 96\n",
    "articles96= articles_96['response']\n",
    "articles_df_96 = pd.DataFrame(articles96['docs']).set_index('pub_date').drop(columns = ['_id','byline', 'document_type','multimedia','news_desk'\n",
    "                                                                         ,'print_page','print_section','snippet','source'\n",
    "                                                                         ,'type_of_material', 'uri','web_url','word_count','section_name'])\n",
    "articles_df_96.head()"
   ]
  },
  {
   "cell_type": "code",
   "execution_count": null,
   "metadata": {},
   "outputs": [],
   "source": [
    "# Dataframe for 97\n",
    "articles97= articles_97['response']\n",
    "articles_df_97 = pd.DataFrame(articles97['docs']).set_index('pub_date').drop(columns = ['_id','byline', 'document_type','multimedia','news_desk'\n",
    "                                                                         ,'print_page','print_section','snippet','source'\n",
    "                                                                         ,'type_of_material', 'uri','web_url','word_count','section_name'])\n",
    "articles_df_97.head()"
   ]
  },
  {
   "cell_type": "code",
   "execution_count": null,
   "metadata": {},
   "outputs": [],
   "source": [
    "# Dataframe for 98\n",
    "articles98= articles_98['response']\n",
    "articles_df_98 = pd.DataFrame(articles98['docs']).set_index('pub_date').drop(columns = ['_id','byline', 'document_type','multimedia','news_desk'\n",
    "                                                                         ,'print_page','print_section','snippet','source'\n",
    "                                                                         ,'type_of_material', 'uri','web_url','word_count','section_name'])\n",
    "articles_df_98.head()"
   ]
  },
  {
   "cell_type": "code",
   "execution_count": null,
   "metadata": {},
   "outputs": [],
   "source": []
  },
  {
   "cell_type": "code",
   "execution_count": null,
   "metadata": {},
   "outputs": [],
   "source": [
    "# Dataframe for 99\n",
    "articles99= articles_99['response']\n",
    "articles_df_99 = pd.DataFrame(articles99['docs']).set_index('pub_date').drop(columns = ['_id','byline', 'document_type','multimedia','news_desk'\n",
    "                                                                         ,'print_page','print_section','snippet','source'\n",
    "                                                                         ,'type_of_material', 'uri','web_url','word_count','section_name'])\n",
    "articles_df_99.head()"
   ]
  },
  {
   "cell_type": "code",
   "execution_count": null,
   "metadata": {},
   "outputs": [],
   "source": [
    "# Dataframe for 00\n",
    "articles00= articles_00['response']\n",
    "articles_df_00 = pd.DataFrame(articles00['docs']).set_index('pub_date').drop(columns = ['_id','byline', 'document_type','multimedia','news_desk'\n",
    "                                                                         ,'print_page','print_section','snippet','source'\n",
    "                                                                         ,'type_of_material', 'uri','web_url','word_count','section_name'])\n",
    "articles_df_00.head()"
   ]
  },
  {
   "cell_type": "code",
   "execution_count": null,
   "metadata": {},
   "outputs": [],
   "source": [
    "# Dataframe for 01\n",
    "articles01= articles_01['response']\n",
    "articles_df_01 = pd.DataFrame(articles01['docs']).set_index('pub_date').drop(columns = ['_id','byline', 'document_type','multimedia','news_desk'\n",
    "                                                                         ,'print_page','print_section','snippet','source'\n",
    "                                                                         ,'type_of_material', 'uri','web_url','word_count','section_name'])\n",
    "articles_df_01.head()"
   ]
  },
  {
   "cell_type": "code",
   "execution_count": null,
   "metadata": {},
   "outputs": [],
   "source": []
  },
  {
   "cell_type": "code",
   "execution_count": null,
   "metadata": {},
   "outputs": [],
   "source": [
    "# Dataframe for 02\n",
    "articles02= articles_02['response']\n",
    "articles_df_02 = pd.DataFrame(articles02['docs']).set_index('pub_date').drop(columns = ['_id','byline', 'document_type','multimedia','news_desk'\n",
    "                                                                         ,'print_page','print_section','snippet','source'\n",
    "                                                                         ,'type_of_material', 'uri','web_url','word_count','section_name'])\n",
    "articles_df_02.head()"
   ]
  },
  {
   "cell_type": "code",
   "execution_count": null,
   "metadata": {},
   "outputs": [],
   "source": [
    "# Dataframe for 03\n",
    "articles03= articles_03['response']\n",
    "articles_df_03 = pd.DataFrame(articles03['docs']).set_index('pub_date').drop(columns = ['_id','byline', 'document_type','multimedia','news_desk'\n",
    "                                                                         ,'print_page','print_section','snippet','source'\n",
    "                                                                         ,'type_of_material', 'uri','web_url','word_count','section_name'])\n",
    "articles_df_03.head()"
   ]
  },
  {
   "cell_type": "code",
   "execution_count": null,
   "metadata": {},
   "outputs": [],
   "source": [
    "# Dataframe for 04\n",
    "articles04= articles_04['response']\n",
    "articles_df_04 = pd.DataFrame(articles04['docs']).set_index('pub_date').drop(columns = ['_id','byline', 'document_type','multimedia','news_desk'\n",
    "                                                                         ,'print_page','print_section','snippet','source'\n",
    "                                                                         ,'type_of_material', 'uri','web_url','word_count','section_name'])\n",
    "articles_df_04.head()"
   ]
  },
  {
   "cell_type": "code",
   "execution_count": null,
   "metadata": {},
   "outputs": [],
   "source": [
    "# Dataframe for 05\n",
    "articles05= articles_05['response']\n",
    "articles_df_05 = pd.DataFrame(articles05['docs']).set_index('pub_date').drop(columns = ['_id','byline', 'document_type','multimedia','news_desk'\n",
    "                                                                         ,'print_page','print_section','snippet','source','subsection_name'\n",
    "                                                                         ,'type_of_material', 'uri','web_url','word_count','section_name'])\n",
    "articles_df_05.head()"
   ]
  },
  {
   "cell_type": "code",
   "execution_count": null,
   "metadata": {},
   "outputs": [],
   "source": [
    "# Dataframe for 06\n",
    "articles06= articles_06['response']\n",
    "articles_df_06 = pd.DataFrame(articles06['docs']).set_index('pub_date').drop(columns = ['_id','byline', 'document_type','multimedia','news_desk'\n",
    "                                                                         ,'print_page','print_section','snippet','source','subsection_name'\n",
    "                                                                         ,'type_of_material', 'uri','web_url','word_count','section_name'])\n",
    "articles_df_06.head()"
   ]
  },
  {
   "cell_type": "code",
   "execution_count": null,
   "metadata": {},
   "outputs": [],
   "source": [
    "# Dataframe for 07\n",
    "articles07= articles_07['response']\n",
    "articles_df_07 = pd.DataFrame(articles07['docs']).set_index('pub_date').drop(columns = ['_id','byline', 'document_type','multimedia','news_desk'\n",
    "                                                                         ,'print_page','print_section','snippet','source','subsection_name'\n",
    "                                                                         ,'type_of_material', 'uri','web_url','word_count','section_name'])\n",
    "articles_df_07.head()"
   ]
  },
  {
   "cell_type": "code",
   "execution_count": null,
   "metadata": {},
   "outputs": [],
   "source": [
    "# Dataframe for 08\n",
    "articles08= articles_08['response']\n",
    "articles_df_08 = pd.DataFrame(articles08['docs']).set_index('pub_date').drop(columns = ['_id','byline', 'document_type','multimedia','news_desk'\n",
    "                                                                         ,'print_page','print_section','snippet','source','subsection_name'\n",
    "                                                                         ,'type_of_material', 'uri','web_url','word_count','section_name'])\n",
    "articles_df_08.head()"
   ]
  },
  {
   "cell_type": "code",
   "execution_count": null,
   "metadata": {},
   "outputs": [],
   "source": [
    "# Dataframe for 09\n",
    "articles09= articles_09['response']\n",
    "articles_df_09 = pd.DataFrame(articles09['docs']).set_index('pub_date').drop(columns = ['_id','byline', 'document_type','multimedia','news_desk'\n",
    "                                                                         ,'print_page','print_section','snippet','source','subsection_name'\n",
    "                                                                         ,'type_of_material', 'uri','web_url','word_count','section_name'])\n",
    "articles_df_09.head()"
   ]
  },
  {
   "cell_type": "code",
   "execution_count": null,
   "metadata": {},
   "outputs": [],
   "source": [
    "# Dataframe for 10\n",
    "articles10= articles_10['response']\n",
    "articles_df_10 = pd.DataFrame(articles10['docs']).set_index('pub_date').drop(columns = ['_id','byline', 'document_type','multimedia','news_desk'\n",
    "                                                                         ,'print_page','print_section','snippet','source','subsection_name'\n",
    "                                                                         ,'type_of_material', 'uri','web_url','word_count','section_name'])\n",
    "articles_df_10.head()"
   ]
  },
  {
   "cell_type": "code",
   "execution_count": null,
   "metadata": {},
   "outputs": [],
   "source": [
    "# Dataframe for 11\n",
    "articles11= articles_11['response']\n",
    "articles_df_11 = pd.DataFrame(articles11['docs']).set_index('pub_date').drop(columns = ['_id','byline', 'document_type','multimedia','news_desk'\n",
    "                                                                         ,'print_page','print_section','snippet','source','subsection_name'\n",
    "                                                                         ,'type_of_material', 'uri','web_url','word_count','section_name'])\n",
    "articles_df_11.head()"
   ]
  },
  {
   "cell_type": "code",
   "execution_count": null,
   "metadata": {},
   "outputs": [],
   "source": [
    "# Dataframe for 12\n",
    "articles12= articles_12['response']\n",
    "articles_df_12 = pd.DataFrame(articles12['docs']).set_index('pub_date').drop(columns = ['_id','byline', 'document_type','multimedia','news_desk'\n",
    "                                                                         ,'print_page','print_section','snippet','source','subsection_name'\n",
    "                                                                         ,'type_of_material', 'uri','web_url','word_count','section_name'])\n",
    "articles_df_12.head()"
   ]
  },
  {
   "cell_type": "code",
   "execution_count": null,
   "metadata": {},
   "outputs": [],
   "source": [
    "# Dataframe for 13\n",
    "articles13= articles_13['response']\n",
    "articles_df_13 = pd.DataFrame(articles13['docs']).set_index('pub_date').drop(columns = ['_id','byline', 'document_type','multimedia','news_desk'\n",
    "                                                                         ,'print_page','print_section','snippet','source'\n",
    "                                                                         ,'type_of_material', 'uri','web_url','word_count','section_name'])\n",
    "articles_df_13.head()"
   ]
  },
  {
   "cell_type": "code",
   "execution_count": null,
   "metadata": {},
   "outputs": [],
   "source": [
    "# Dataframe for 14\n",
    "articles14= articles_14['response']\n",
    "articles_df_14 = pd.DataFrame(articles14['docs']).set_index('pub_date').drop(columns = ['_id','byline', 'document_type','multimedia','news_desk'\n",
    "                                                                         ,'print_page','print_section','snippet','source','subsection_name'\n",
    "                                                                         ,'type_of_material', 'uri','web_url','word_count','section_name'])\n",
    "articles_df_14.head()"
   ]
  },
  {
   "cell_type": "code",
   "execution_count": null,
   "metadata": {},
   "outputs": [],
   "source": [
    "# Dataframe for 15\n",
    "articles15= articles_15['response']\n",
    "articles_df_15 = pd.DataFrame(articles15['docs']).set_index('pub_date').drop(columns = ['_id','byline', 'document_type','multimedia','news_desk'\n",
    "                                                                         ,'print_page','print_section','snippet','source','subsection_name'\n",
    "                                                                         ,'type_of_material', 'uri','web_url','word_count','section_name'])\n",
    "articles_df_15.head()"
   ]
  },
  {
   "cell_type": "code",
   "execution_count": null,
   "metadata": {},
   "outputs": [],
   "source": [
    "# Dataframe for 16\n",
    "articles16= articles_16['response']\n",
    "articles_df_16 = pd.DataFrame(articles16['docs']).set_index('pub_date').drop(columns = ['_id','byline', 'document_type','multimedia','news_desk'\n",
    "                                                                         ,'print_page','print_section','snippet','source','subsection_name'\n",
    "                                                                         ,'type_of_material', 'uri','web_url','word_count','section_name'])\n",
    "articles_df_16.head()"
   ]
  },
  {
   "cell_type": "code",
   "execution_count": null,
   "metadata": {},
   "outputs": [],
   "source": [
    "# Dataframe for 17\n",
    "articles17= articles_17['response']\n",
    "articles_df_17 = pd.DataFrame(articles17['docs']).set_index('pub_date').drop(columns = ['_id','byline', 'document_type','multimedia','news_desk'\n",
    "                                                                         ,'print_page','print_section','snippet','source','subsection_name'\n",
    "                                                                         ,'type_of_material', 'uri','web_url','word_count','section_name'])\n",
    "articles_df_17.head()"
   ]
  },
  {
   "cell_type": "code",
   "execution_count": null,
   "metadata": {},
   "outputs": [],
   "source": [
    "# Dataframe for 18\n",
    "articles18= articles_18['response']\n",
    "articles_df_18 = pd.DataFrame(articles18['docs']).set_index('pub_date').drop(columns = ['_id','byline', 'document_type','multimedia','news_desk'\n",
    "                                                                         ,'print_page','print_section','snippet','source','subsection_name'\n",
    "                                                                         ,'type_of_material', 'uri','web_url','word_count','section_name'])\n",
    "articles_df_18.head()"
   ]
  },
  {
   "cell_type": "code",
   "execution_count": null,
   "metadata": {},
   "outputs": [],
   "source": [
    "# Dataframe for 19\n",
    "articles19= articles_19['response']\n",
    "articles_df_19 = pd.DataFrame(articles19['docs']).set_index('pub_date').drop(columns = ['_id','byline', 'document_type','multimedia','news_desk'\n",
    "                                                                         ,'print_page','print_section','snippet','source','subsection_name'\n",
    "                                                                         ,'type_of_material', 'uri','web_url','word_count','section_name'])\n",
    "articles_df_19.head()"
   ]
  },
  {
   "cell_type": "code",
   "execution_count": null,
   "metadata": {},
   "outputs": [],
   "source": []
  },
  {
   "cell_type": "code",
   "execution_count": null,
   "metadata": {},
   "outputs": [],
   "source": [
    "#concat all dataframes into one\n",
    "\n",
    "NYT_articles= pd.concat([articles_df_92,articles_df_93,articles_df_94, articles_df_95, articles_df_96,articles_df_97,articles_df_98,articles_df_99,articles_df_00\n",
    "                        ,articles_df_01,articles_df_02, articles_df_03, articles_df_04, articles_df_05\n",
    "                        ,articles_df_06, articles_df_07, articles_df_08, articles_df_09\n",
    "                        , articles_df_10,articles_df_11, articles_df_12, articles_df_13,articles_df_14,articles_df_15\n",
    "                        ,articles_df_16, articles_df_17, articles_df_18,articles_df_19])\n",
    "NYT_articles.head()"
   ]
  },
  {
   "cell_type": "code",
   "execution_count": null,
   "metadata": {},
   "outputs": [],
   "source": [
    "# clean up data\n",
    "\n",
    "NYT_articles.isnull().sum()\n"
   ]
  },
  {
   "cell_type": "code",
   "execution_count": null,
   "metadata": {},
   "outputs": [],
   "source": [
    "# create a dataframe with just the abstract.\n",
    "\n",
    "NYT_abstract= NYT_articles.drop(columns=['headline','keywords','lead_paragraph'])\n",
    "NYT_abstract.head()"
   ]
  },
  {
   "cell_type": "code",
   "execution_count": null,
   "metadata": {},
   "outputs": [],
   "source": [
    "NYT_abstract.reset_index().head()"
   ]
  },
  {
   "cell_type": "code",
   "execution_count": null,
   "metadata": {},
   "outputs": [],
   "source": [
    "# function to get sentiment from dataframe NYT_abstract\n",
    "\n",
    "def nltk_sentiment(sentence):\n",
    "    from nltk.sentiment.vader import SentimentIntensityAnalyzer\n",
    "    \n",
    "    nltk_sentiment = SentimentIntensityAnalyzer()\n",
    "    score = nltk_sentiment.polarity_scores(sentence)\n",
    "    return score"
   ]
  },
  {
   "cell_type": "code",
   "execution_count": null,
   "metadata": {},
   "outputs": [],
   "source": [
    "# created sentiment scores for \"abstract\" and a new dataframe with scores.\n",
    "\n",
    "nltk_results=[nltk_sentiment(abstract) for abstract in NYT_abstract[\"abstract\"]]\n",
    "results_df = pd.DataFrame(nltk_results)\n",
    "\n",
    "nltk_df = results_df.join(NYT_abstract.reset_index())\n",
    "nltk_df= nltk_df[['pub_date', 'abstract','compound', 'neg', 'neu', 'pos']]\n",
    "nltk_df.head()"
   ]
  },
  {
   "cell_type": "code",
   "execution_count": null,
   "metadata": {},
   "outputs": [],
   "source": [
    "nltk_df.to_csv(\"NYT_nlk_updated\")"
   ]
  },
  {
   "cell_type": "code",
   "execution_count": null,
   "metadata": {},
   "outputs": [],
   "source": [
    "nltk_df.describe()"
   ]
  },
  {
   "cell_type": "code",
   "execution_count": null,
   "metadata": {},
   "outputs": [],
   "source": [
    "nltk_df.to_csv(\"NYT_updated.csv\")"
   ]
  },
  {
   "cell_type": "code",
   "execution_count": null,
   "metadata": {},
   "outputs": [],
   "source": []
  },
  {
   "cell_type": "code",
   "execution_count": 21,
   "metadata": {},
   "outputs": [
    {
     "data": {
      "text/html": [
       "<div>\n",
       "<style scoped>\n",
       "    .dataframe tbody tr th:only-of-type {\n",
       "        vertical-align: middle;\n",
       "    }\n",
       "\n",
       "    .dataframe tbody tr th {\n",
       "        vertical-align: top;\n",
       "    }\n",
       "\n",
       "    .dataframe thead th {\n",
       "        text-align: right;\n",
       "    }\n",
       "</style>\n",
       "<table border=\"1\" class=\"dataframe\">\n",
       "  <thead>\n",
       "    <tr style=\"text-align: right;\">\n",
       "      <th></th>\n",
       "      <th>compound</th>\n",
       "    </tr>\n",
       "    <tr>\n",
       "      <th>DATE</th>\n",
       "      <th></th>\n",
       "    </tr>\n",
       "  </thead>\n",
       "  <tbody>\n",
       "    <tr>\n",
       "      <th>11/1/1992</th>\n",
       "      <td>0.812100</td>\n",
       "    </tr>\n",
       "    <tr>\n",
       "      <th>11/1/1993</th>\n",
       "      <td>0.762175</td>\n",
       "    </tr>\n",
       "    <tr>\n",
       "      <th>11/1/1994</th>\n",
       "      <td>0.667100</td>\n",
       "    </tr>\n",
       "    <tr>\n",
       "      <th>11/1/1995</th>\n",
       "      <td>0.485533</td>\n",
       "    </tr>\n",
       "    <tr>\n",
       "      <th>11/1/1996</th>\n",
       "      <td>0.722600</td>\n",
       "    </tr>\n",
       "  </tbody>\n",
       "</table>\n",
       "</div>"
      ],
      "text/plain": [
       "           compound\n",
       "DATE               \n",
       "11/1/1992  0.812100\n",
       "11/1/1993  0.762175\n",
       "11/1/1994  0.667100\n",
       "11/1/1995  0.485533\n",
       "11/1/1996  0.722600"
      ]
     },
     "execution_count": 21,
     "metadata": {},
     "output_type": "execute_result"
    }
   ],
   "source": [
    "# loading full data\n",
    "\n",
    "file_path=Path(\"NEW_Nov_Dec_NLTK_Average_Sentiment_Score_2.csv\")\n",
    "NYTIMES_df=pd.read_csv(file_path,infer_datetime_format=True,parse_dates=True)\n",
    "NYTIMES_df=NYTIMES_df.set_index('DATE').sort_values('DATE',ascending=True)\n",
    "NYTIMES_df.head()"
   ]
  },
  {
   "cell_type": "code",
   "execution_count": 22,
   "metadata": {},
   "outputs": [
    {
     "data": {
      "text/html": [
       "<div>\n",
       "<style scoped>\n",
       "    .dataframe tbody tr th:only-of-type {\n",
       "        vertical-align: middle;\n",
       "    }\n",
       "\n",
       "    .dataframe tbody tr th {\n",
       "        vertical-align: top;\n",
       "    }\n",
       "\n",
       "    .dataframe thead th {\n",
       "        text-align: right;\n",
       "    }\n",
       "</style>\n",
       "<table border=\"1\" class=\"dataframe\">\n",
       "  <thead>\n",
       "    <tr style=\"text-align: right;\">\n",
       "      <th></th>\n",
       "      <th>y_monthly_retail</th>\n",
       "      <th>gas_prices</th>\n",
       "      <th>consumer_sentiments</th>\n",
       "      <th>unemployment_rate</th>\n",
       "      <th>CPI</th>\n",
       "      <th>dow_index</th>\n",
       "      <th>Consumer_debt_service</th>\n",
       "      <th>Pct_chng_prv_yr</th>\n",
       "      <th>GDPC1</th>\n",
       "    </tr>\n",
       "    <tr>\n",
       "      <th>DATE</th>\n",
       "      <th></th>\n",
       "      <th></th>\n",
       "      <th></th>\n",
       "      <th></th>\n",
       "      <th></th>\n",
       "      <th></th>\n",
       "      <th></th>\n",
       "      <th></th>\n",
       "      <th></th>\n",
       "    </tr>\n",
       "  </thead>\n",
       "  <tbody>\n",
       "    <tr>\n",
       "      <th>11/1/1992</th>\n",
       "      <td>153583.0</td>\n",
       "      <td>1.11120</td>\n",
       "      <td>85.3</td>\n",
       "      <td>7.4</td>\n",
       "      <td>142.1</td>\n",
       "      <td>91.12</td>\n",
       "      <td>4.660212</td>\n",
       "      <td>4.4</td>\n",
       "      <td>9834.510</td>\n",
       "    </tr>\n",
       "    <tr>\n",
       "      <th>11/1/1993</th>\n",
       "      <td>166594.0</td>\n",
       "      <td>1.06640</td>\n",
       "      <td>81.2</td>\n",
       "      <td>6.6</td>\n",
       "      <td>146.0</td>\n",
       "      <td>96.43</td>\n",
       "      <td>4.755414</td>\n",
       "      <td>2.6</td>\n",
       "      <td>10091.049</td>\n",
       "    </tr>\n",
       "    <tr>\n",
       "      <th>11/1/1994</th>\n",
       "      <td>180703.0</td>\n",
       "      <td>1.11575</td>\n",
       "      <td>91.6</td>\n",
       "      <td>5.6</td>\n",
       "      <td>149.8</td>\n",
       "      <td>89.19</td>\n",
       "      <td>5.120072</td>\n",
       "      <td>4.1</td>\n",
       "      <td>10506.372</td>\n",
       "    </tr>\n",
       "    <tr>\n",
       "      <th>11/1/1995</th>\n",
       "      <td>189055.0</td>\n",
       "      <td>1.06225</td>\n",
       "      <td>88.2</td>\n",
       "      <td>5.6</td>\n",
       "      <td>153.7</td>\n",
       "      <td>85.37</td>\n",
       "      <td>5.594352</td>\n",
       "      <td>2.2</td>\n",
       "      <td>10737.478</td>\n",
       "    </tr>\n",
       "    <tr>\n",
       "      <th>11/1/1996</th>\n",
       "      <td>200174.0</td>\n",
       "      <td>1.23225</td>\n",
       "      <td>99.2</td>\n",
       "      <td>5.4</td>\n",
       "      <td>158.7</td>\n",
       "      <td>87.88</td>\n",
       "      <td>5.777011</td>\n",
       "      <td>4.4</td>\n",
       "      <td>11212.205</td>\n",
       "    </tr>\n",
       "  </tbody>\n",
       "</table>\n",
       "</div>"
      ],
      "text/plain": [
       "           y_monthly_retail  gas_prices  consumer_sentiments  \\\n",
       "DATE                                                           \n",
       "11/1/1992          153583.0     1.11120                 85.3   \n",
       "11/1/1993          166594.0     1.06640                 81.2   \n",
       "11/1/1994          180703.0     1.11575                 91.6   \n",
       "11/1/1995          189055.0     1.06225                 88.2   \n",
       "11/1/1996          200174.0     1.23225                 99.2   \n",
       "\n",
       "           unemployment_rate    CPI  dow_index  Consumer_debt_service  \\\n",
       "DATE                                                                    \n",
       "11/1/1992                7.4  142.1      91.12               4.660212   \n",
       "11/1/1993                6.6  146.0      96.43               4.755414   \n",
       "11/1/1994                5.6  149.8      89.19               5.120072   \n",
       "11/1/1995                5.6  153.7      85.37               5.594352   \n",
       "11/1/1996                5.4  158.7      87.88               5.777011   \n",
       "\n",
       "           Pct_chng_prv_yr      GDPC1  \n",
       "DATE                                   \n",
       "11/1/1992              4.4   9834.510  \n",
       "11/1/1993              2.6  10091.049  \n",
       "11/1/1994              4.1  10506.372  \n",
       "11/1/1995              2.2  10737.478  \n",
       "11/1/1996              4.4  11212.205  "
      ]
     },
     "execution_count": 22,
     "metadata": {},
     "output_type": "execute_result"
    }
   ],
   "source": [
    "file_path=Path(\"nov_dec_featuress.csv\")\n",
    "Nov_dec_df=pd.read_csv(file_path,infer_datetime_format=True,parse_dates=True)\n",
    "Nov_dec_df=Nov_dec_df.set_index('DATE').sort_values('DATE',ascending=True)\n",
    "Nov_dec_df.head()"
   ]
  },
  {
   "cell_type": "code",
   "execution_count": 23,
   "metadata": {},
   "outputs": [
    {
     "data": {
      "text/html": [
       "<div>\n",
       "<style scoped>\n",
       "    .dataframe tbody tr th:only-of-type {\n",
       "        vertical-align: middle;\n",
       "    }\n",
       "\n",
       "    .dataframe tbody tr th {\n",
       "        vertical-align: top;\n",
       "    }\n",
       "\n",
       "    .dataframe thead th {\n",
       "        text-align: right;\n",
       "    }\n",
       "</style>\n",
       "<table border=\"1\" class=\"dataframe\">\n",
       "  <thead>\n",
       "    <tr style=\"text-align: right;\">\n",
       "      <th></th>\n",
       "      <th>compound</th>\n",
       "      <th>y_monthly_retail</th>\n",
       "      <th>gas_prices</th>\n",
       "      <th>consumer_sentiments</th>\n",
       "      <th>unemployment_rate</th>\n",
       "      <th>CPI</th>\n",
       "      <th>dow_index</th>\n",
       "      <th>Consumer_debt_service</th>\n",
       "      <th>Pct_chng_prv_yr</th>\n",
       "      <th>GDPC1</th>\n",
       "    </tr>\n",
       "    <tr>\n",
       "      <th>DATE</th>\n",
       "      <th></th>\n",
       "      <th></th>\n",
       "      <th></th>\n",
       "      <th></th>\n",
       "      <th></th>\n",
       "      <th></th>\n",
       "      <th></th>\n",
       "      <th></th>\n",
       "      <th></th>\n",
       "      <th></th>\n",
       "    </tr>\n",
       "  </thead>\n",
       "  <tbody>\n",
       "    <tr>\n",
       "      <th>11/1/1992</th>\n",
       "      <td>0.812100</td>\n",
       "      <td>153583.0</td>\n",
       "      <td>1.11120</td>\n",
       "      <td>85.3</td>\n",
       "      <td>7.4</td>\n",
       "      <td>142.1</td>\n",
       "      <td>91.12</td>\n",
       "      <td>4.660212</td>\n",
       "      <td>4.4</td>\n",
       "      <td>9834.510</td>\n",
       "    </tr>\n",
       "    <tr>\n",
       "      <th>11/1/1993</th>\n",
       "      <td>0.762175</td>\n",
       "      <td>166594.0</td>\n",
       "      <td>1.06640</td>\n",
       "      <td>81.2</td>\n",
       "      <td>6.6</td>\n",
       "      <td>146.0</td>\n",
       "      <td>96.43</td>\n",
       "      <td>4.755414</td>\n",
       "      <td>2.6</td>\n",
       "      <td>10091.049</td>\n",
       "    </tr>\n",
       "    <tr>\n",
       "      <th>11/1/1994</th>\n",
       "      <td>0.667100</td>\n",
       "      <td>180703.0</td>\n",
       "      <td>1.11575</td>\n",
       "      <td>91.6</td>\n",
       "      <td>5.6</td>\n",
       "      <td>149.8</td>\n",
       "      <td>89.19</td>\n",
       "      <td>5.120072</td>\n",
       "      <td>4.1</td>\n",
       "      <td>10506.372</td>\n",
       "    </tr>\n",
       "    <tr>\n",
       "      <th>11/1/1995</th>\n",
       "      <td>0.485533</td>\n",
       "      <td>189055.0</td>\n",
       "      <td>1.06225</td>\n",
       "      <td>88.2</td>\n",
       "      <td>5.6</td>\n",
       "      <td>153.7</td>\n",
       "      <td>85.37</td>\n",
       "      <td>5.594352</td>\n",
       "      <td>2.2</td>\n",
       "      <td>10737.478</td>\n",
       "    </tr>\n",
       "    <tr>\n",
       "      <th>11/1/1996</th>\n",
       "      <td>0.722600</td>\n",
       "      <td>200174.0</td>\n",
       "      <td>1.23225</td>\n",
       "      <td>99.2</td>\n",
       "      <td>5.4</td>\n",
       "      <td>158.7</td>\n",
       "      <td>87.88</td>\n",
       "      <td>5.777011</td>\n",
       "      <td>4.4</td>\n",
       "      <td>11212.205</td>\n",
       "    </tr>\n",
       "  </tbody>\n",
       "</table>\n",
       "</div>"
      ],
      "text/plain": [
       "           compound  y_monthly_retail  gas_prices  consumer_sentiments  \\\n",
       "DATE                                                                     \n",
       "11/1/1992  0.812100          153583.0     1.11120                 85.3   \n",
       "11/1/1993  0.762175          166594.0     1.06640                 81.2   \n",
       "11/1/1994  0.667100          180703.0     1.11575                 91.6   \n",
       "11/1/1995  0.485533          189055.0     1.06225                 88.2   \n",
       "11/1/1996  0.722600          200174.0     1.23225                 99.2   \n",
       "\n",
       "           unemployment_rate    CPI  dow_index  Consumer_debt_service  \\\n",
       "DATE                                                                    \n",
       "11/1/1992                7.4  142.1      91.12               4.660212   \n",
       "11/1/1993                6.6  146.0      96.43               4.755414   \n",
       "11/1/1994                5.6  149.8      89.19               5.120072   \n",
       "11/1/1995                5.6  153.7      85.37               5.594352   \n",
       "11/1/1996                5.4  158.7      87.88               5.777011   \n",
       "\n",
       "           Pct_chng_prv_yr      GDPC1  \n",
       "DATE                                   \n",
       "11/1/1992              4.4   9834.510  \n",
       "11/1/1993              2.6  10091.049  \n",
       "11/1/1994              4.1  10506.372  \n",
       "11/1/1995              2.2  10737.478  \n",
       "11/1/1996              4.4  11212.205  "
      ]
     },
     "execution_count": 23,
     "metadata": {},
     "output_type": "execute_result"
    }
   ],
   "source": [
    "Main_df= NYTIMES_df.join( Nov_dec_df,sort=False)\n",
    "Main_df.head()"
   ]
  },
  {
   "cell_type": "code",
   "execution_count": null,
   "metadata": {},
   "outputs": [],
   "source": []
  },
  {
   "cell_type": "code",
   "execution_count": 24,
   "metadata": {},
   "outputs": [],
   "source": [
    "#Hodrick-Prescott filter on columns \"y_monthly_retail\" , \"CPI\", 'GDP_growth', 'GDPC1'\n",
    "import statsmodels.api as sm\n",
    "ts_noise1, ts_trend1 = sm.tsa.filters.hpfilter(Main_df['y_monthly_retail'])\n",
    "ts_noise2, ts_trend2 = sm.tsa.filters.hpfilter(Main_df['CPI'])\n",
    "ts_noise4, ts_trend4 = sm.tsa.filters.hpfilter(Main_df['GDPC1'])"
   ]
  },
  {
   "cell_type": "code",
   "execution_count": 25,
   "metadata": {},
   "outputs": [
    {
     "data": {
      "text/html": [
       "<div>\n",
       "<style scoped>\n",
       "    .dataframe tbody tr th:only-of-type {\n",
       "        vertical-align: middle;\n",
       "    }\n",
       "\n",
       "    .dataframe tbody tr th {\n",
       "        vertical-align: top;\n",
       "    }\n",
       "\n",
       "    .dataframe thead th {\n",
       "        text-align: right;\n",
       "    }\n",
       "</style>\n",
       "<table border=\"1\" class=\"dataframe\">\n",
       "  <thead>\n",
       "    <tr style=\"text-align: right;\">\n",
       "      <th></th>\n",
       "      <th>NYT_sentiment</th>\n",
       "      <th>gas_prices</th>\n",
       "      <th>consumer_sentiments</th>\n",
       "      <th>unemployment_rate</th>\n",
       "      <th>CPI</th>\n",
       "      <th>retail_index</th>\n",
       "      <th>Consumer_debt_service</th>\n",
       "      <th>GDP_growth</th>\n",
       "      <th>sales</th>\n",
       "      <th>GDP</th>\n",
       "    </tr>\n",
       "    <tr>\n",
       "      <th>DATE</th>\n",
       "      <th></th>\n",
       "      <th></th>\n",
       "      <th></th>\n",
       "      <th></th>\n",
       "      <th></th>\n",
       "      <th></th>\n",
       "      <th></th>\n",
       "      <th></th>\n",
       "      <th></th>\n",
       "      <th></th>\n",
       "    </tr>\n",
       "  </thead>\n",
       "  <tbody>\n",
       "    <tr>\n",
       "      <th>12/1/2015</th>\n",
       "      <td>-0.421500</td>\n",
       "      <td>2.03750</td>\n",
       "      <td>92.6</td>\n",
       "      <td>5.0</td>\n",
       "      <td>2.003644</td>\n",
       "      <td>98.745</td>\n",
       "      <td>5.399252</td>\n",
       "      <td>2.2</td>\n",
       "      <td>8444.025888</td>\n",
       "      <td>257.481420</td>\n",
       "    </tr>\n",
       "    <tr>\n",
       "      <th>12/1/2016</th>\n",
       "      <td>0.302650</td>\n",
       "      <td>2.25425</td>\n",
       "      <td>98.2</td>\n",
       "      <td>4.7</td>\n",
       "      <td>2.737403</td>\n",
       "      <td>102.286</td>\n",
       "      <td>5.591750</td>\n",
       "      <td>2.1</td>\n",
       "      <td>13296.818400</td>\n",
       "      <td>305.310794</td>\n",
       "    </tr>\n",
       "    <tr>\n",
       "      <th>12/1/2017</th>\n",
       "      <td>0.000000</td>\n",
       "      <td>2.47675</td>\n",
       "      <td>95.9</td>\n",
       "      <td>4.1</td>\n",
       "      <td>3.636880</td>\n",
       "      <td>91.826</td>\n",
       "      <td>5.576678</td>\n",
       "      <td>2.7</td>\n",
       "      <td>23557.309410</td>\n",
       "      <td>471.852246</td>\n",
       "    </tr>\n",
       "    <tr>\n",
       "      <th>12/1/2018</th>\n",
       "      <td>0.346600</td>\n",
       "      <td>2.36560</td>\n",
       "      <td>98.3</td>\n",
       "      <td>3.9</td>\n",
       "      <td>4.197560</td>\n",
       "      <td>95.735</td>\n",
       "      <td>5.520130</td>\n",
       "      <td>2.5</td>\n",
       "      <td>14725.149369</td>\n",
       "      <td>608.339093</td>\n",
       "    </tr>\n",
       "    <tr>\n",
       "      <th>12/1/2019</th>\n",
       "      <td>0.222725</td>\n",
       "      <td>2.55500</td>\n",
       "      <td>99.3</td>\n",
       "      <td>3.5</td>\n",
       "      <td>5.739651</td>\n",
       "      <td>96.058</td>\n",
       "      <td>5.614131</td>\n",
       "      <td>2.3</td>\n",
       "      <td>28358.265413</td>\n",
       "      <td>729.914743</td>\n",
       "    </tr>\n",
       "  </tbody>\n",
       "</table>\n",
       "</div>"
      ],
      "text/plain": [
       "           NYT_sentiment  gas_prices  consumer_sentiments  unemployment_rate  \\\n",
       "DATE                                                                           \n",
       "12/1/2015      -0.421500     2.03750                 92.6                5.0   \n",
       "12/1/2016       0.302650     2.25425                 98.2                4.7   \n",
       "12/1/2017       0.000000     2.47675                 95.9                4.1   \n",
       "12/1/2018       0.346600     2.36560                 98.3                3.9   \n",
       "12/1/2019       0.222725     2.55500                 99.3                3.5   \n",
       "\n",
       "                CPI  retail_index  Consumer_debt_service  GDP_growth  \\\n",
       "DATE                                                                   \n",
       "12/1/2015  2.003644        98.745               5.399252         2.2   \n",
       "12/1/2016  2.737403       102.286               5.591750         2.1   \n",
       "12/1/2017  3.636880        91.826               5.576678         2.7   \n",
       "12/1/2018  4.197560        95.735               5.520130         2.5   \n",
       "12/1/2019  5.739651        96.058               5.614131         2.3   \n",
       "\n",
       "                  sales         GDP  \n",
       "DATE                                 \n",
       "12/1/2015   8444.025888  257.481420  \n",
       "12/1/2016  13296.818400  305.310794  \n",
       "12/1/2017  23557.309410  471.852246  \n",
       "12/1/2018  14725.149369  608.339093  \n",
       "12/1/2019  28358.265413  729.914743  "
      ]
     },
     "execution_count": 25,
     "metadata": {},
     "output_type": "execute_result"
    }
   ],
   "source": [
    "Main_df['Sales']= ts_noise1\n",
    "Main_df['CPI']= ts_noise2\n",
    "Main_df['GDP']= ts_noise4\n",
    "Main_df= Main_df.drop(columns={'y_monthly_retail','GDPC1'})\n",
    "Main_df= Main_df.rename(columns={'Pct_chng_prv_yr':'GDP_growth', 'Sales':'sales', 'compound':'NYT_sentiment', 'dow_index':'retail_index'})\n",
    "Main_df.tail()"
   ]
  },
  {
   "cell_type": "code",
   "execution_count": 26,
   "metadata": {},
   "outputs": [],
   "source": [
    "Main_df.to_csv(\"Main_df.csv\")"
   ]
  },
  {
   "cell_type": "code",
   "execution_count": 97,
   "metadata": {},
   "outputs": [
    {
     "data": {
      "text/html": [
       "<div>\n",
       "<style scoped>\n",
       "    .dataframe tbody tr th:only-of-type {\n",
       "        vertical-align: middle;\n",
       "    }\n",
       "\n",
       "    .dataframe tbody tr th {\n",
       "        vertical-align: top;\n",
       "    }\n",
       "\n",
       "    .dataframe thead th {\n",
       "        text-align: right;\n",
       "    }\n",
       "</style>\n",
       "<table border=\"1\" class=\"dataframe\">\n",
       "  <thead>\n",
       "    <tr style=\"text-align: right;\">\n",
       "      <th></th>\n",
       "      <th>NYT_sentiment</th>\n",
       "      <th>gas_prices</th>\n",
       "      <th>consumer_sentiments</th>\n",
       "      <th>unemployment_rate</th>\n",
       "      <th>CPI</th>\n",
       "      <th>Retail_Index_Returns</th>\n",
       "      <th>Consumer_debt_service</th>\n",
       "      <th>GDP_growth</th>\n",
       "      <th>sales</th>\n",
       "      <th>GDP</th>\n",
       "      <th>Gold_Returns</th>\n",
       "    </tr>\n",
       "    <tr>\n",
       "      <th>DATE</th>\n",
       "      <th></th>\n",
       "      <th></th>\n",
       "      <th></th>\n",
       "      <th></th>\n",
       "      <th></th>\n",
       "      <th></th>\n",
       "      <th></th>\n",
       "      <th></th>\n",
       "      <th></th>\n",
       "      <th></th>\n",
       "      <th></th>\n",
       "    </tr>\n",
       "  </thead>\n",
       "  <tbody>\n",
       "    <tr>\n",
       "      <th>11/1/1992</th>\n",
       "      <td>0.812100</td>\n",
       "      <td>1.11120</td>\n",
       "      <td>85.3</td>\n",
       "      <td>7.4</td>\n",
       "      <td>-3.664766</td>\n",
       "      <td>0.000000</td>\n",
       "      <td>4.660212</td>\n",
       "      <td>4.4</td>\n",
       "      <td>-18182.99304</td>\n",
       "      <td>-576.109447</td>\n",
       "      <td>0.000000</td>\n",
       "    </tr>\n",
       "    <tr>\n",
       "      <th>11/1/1993</th>\n",
       "      <td>0.762175</td>\n",
       "      <td>1.06640</td>\n",
       "      <td>81.2</td>\n",
       "      <td>6.6</td>\n",
       "      <td>-4.077295</td>\n",
       "      <td>0.058275</td>\n",
       "      <td>4.755414</td>\n",
       "      <td>2.6</td>\n",
       "      <td>-15860.78098</td>\n",
       "      <td>-676.804025</td>\n",
       "      <td>0.069956</td>\n",
       "    </tr>\n",
       "    <tr>\n",
       "      <th>11/1/1994</th>\n",
       "      <td>0.667100</td>\n",
       "      <td>1.11575</td>\n",
       "      <td>91.6</td>\n",
       "      <td>5.6</td>\n",
       "      <td>-4.587534</td>\n",
       "      <td>-0.075080</td>\n",
       "      <td>5.120072</td>\n",
       "      <td>4.1</td>\n",
       "      <td>-12429.20455</td>\n",
       "      <td>-618.354534</td>\n",
       "      <td>0.058500</td>\n",
       "    </tr>\n",
       "    <tr>\n",
       "      <th>11/1/1995</th>\n",
       "      <td>0.485533</td>\n",
       "      <td>1.06225</td>\n",
       "      <td>88.2</td>\n",
       "      <td>5.6</td>\n",
       "      <td>-4.990644</td>\n",
       "      <td>-0.042830</td>\n",
       "      <td>5.594352</td>\n",
       "      <td>2.2</td>\n",
       "      <td>-14721.98639</td>\n",
       "      <td>-742.978904</td>\n",
       "      <td>-0.006632</td>\n",
       "    </tr>\n",
       "    <tr>\n",
       "      <th>11/1/1996</th>\n",
       "      <td>0.722600</td>\n",
       "      <td>1.23225</td>\n",
       "      <td>99.2</td>\n",
       "      <td>5.4</td>\n",
       "      <td>-4.278919</td>\n",
       "      <td>0.029401</td>\n",
       "      <td>5.777011</td>\n",
       "      <td>4.4</td>\n",
       "      <td>-14186.08089</td>\n",
       "      <td>-621.669592</td>\n",
       "      <td>-0.011389</td>\n",
       "    </tr>\n",
       "  </tbody>\n",
       "</table>\n",
       "</div>"
      ],
      "text/plain": [
       "           NYT_sentiment  gas_prices  consumer_sentiments  unemployment_rate  \\\n",
       "DATE                                                                           \n",
       "11/1/1992       0.812100     1.11120                 85.3                7.4   \n",
       "11/1/1993       0.762175     1.06640                 81.2                6.6   \n",
       "11/1/1994       0.667100     1.11575                 91.6                5.6   \n",
       "11/1/1995       0.485533     1.06225                 88.2                5.6   \n",
       "11/1/1996       0.722600     1.23225                 99.2                5.4   \n",
       "\n",
       "                CPI  Retail_Index_Returns  Consumer_debt_service  GDP_growth  \\\n",
       "DATE                                                                           \n",
       "11/1/1992 -3.664766              0.000000               4.660212         4.4   \n",
       "11/1/1993 -4.077295              0.058275               4.755414         2.6   \n",
       "11/1/1994 -4.587534             -0.075080               5.120072         4.1   \n",
       "11/1/1995 -4.990644             -0.042830               5.594352         2.2   \n",
       "11/1/1996 -4.278919              0.029401               5.777011         4.4   \n",
       "\n",
       "                 sales         GDP  Gold_Returns  \n",
       "DATE                                              \n",
       "11/1/1992 -18182.99304 -576.109447      0.000000  \n",
       "11/1/1993 -15860.78098 -676.804025      0.069956  \n",
       "11/1/1994 -12429.20455 -618.354534      0.058500  \n",
       "11/1/1995 -14721.98639 -742.978904     -0.006632  \n",
       "11/1/1996 -14186.08089 -621.669592     -0.011389  "
      ]
     },
     "execution_count": 97,
     "metadata": {},
     "output_type": "execute_result"
    }
   ],
   "source": [
    "file_path=Path(\"MAIN_DF_WITH_GOLD.csv\")\n",
    "MAIN_df=pd.read_csv(file_path,infer_datetime_format=True,parse_dates=True)\n",
    "MAIN_df=MAIN_df.set_index('DATE').sort_values('DATE',ascending=True).drop(columns={'Unnamed: 0'})\n",
    "MAIN_df.head()"
   ]
  },
  {
   "cell_type": "code",
   "execution_count": null,
   "metadata": {},
   "outputs": [],
   "source": []
  },
  {
   "cell_type": "code",
   "execution_count": null,
   "metadata": {},
   "outputs": [],
   "source": []
  },
  {
   "cell_type": "markdown",
   "metadata": {},
   "source": [
    "## DECISION TREE"
   ]
  },
  {
   "cell_type": "code",
   "execution_count": 85,
   "metadata": {},
   "outputs": [
    {
     "data": {
      "text/html": [
       "<div>\n",
       "<style scoped>\n",
       "    .dataframe tbody tr th:only-of-type {\n",
       "        vertical-align: middle;\n",
       "    }\n",
       "\n",
       "    .dataframe tbody tr th {\n",
       "        vertical-align: top;\n",
       "    }\n",
       "\n",
       "    .dataframe thead th {\n",
       "        text-align: right;\n",
       "    }\n",
       "</style>\n",
       "<table border=\"1\" class=\"dataframe\">\n",
       "  <thead>\n",
       "    <tr style=\"text-align: right;\">\n",
       "      <th></th>\n",
       "      <th>NYT_sentiment</th>\n",
       "      <th>gas_prices</th>\n",
       "      <th>consumer_sentiments</th>\n",
       "      <th>unemployment_rate</th>\n",
       "      <th>CPI</th>\n",
       "      <th>Retail_Index_Returns</th>\n",
       "      <th>Consumer_debt_service</th>\n",
       "      <th>GDP_growth</th>\n",
       "      <th>GDP</th>\n",
       "      <th>Gold_Returns</th>\n",
       "    </tr>\n",
       "    <tr>\n",
       "      <th>DATE</th>\n",
       "      <th></th>\n",
       "      <th></th>\n",
       "      <th></th>\n",
       "      <th></th>\n",
       "      <th></th>\n",
       "      <th></th>\n",
       "      <th></th>\n",
       "      <th></th>\n",
       "      <th></th>\n",
       "      <th></th>\n",
       "    </tr>\n",
       "  </thead>\n",
       "  <tbody>\n",
       "    <tr>\n",
       "      <th>11/1/1992</th>\n",
       "      <td>0.812100</td>\n",
       "      <td>1.11120</td>\n",
       "      <td>85.3</td>\n",
       "      <td>7.4</td>\n",
       "      <td>-3.664766</td>\n",
       "      <td>0.000000</td>\n",
       "      <td>4.660212</td>\n",
       "      <td>4.4</td>\n",
       "      <td>-576.109447</td>\n",
       "      <td>0.000000</td>\n",
       "    </tr>\n",
       "    <tr>\n",
       "      <th>11/1/1993</th>\n",
       "      <td>0.762175</td>\n",
       "      <td>1.06640</td>\n",
       "      <td>81.2</td>\n",
       "      <td>6.6</td>\n",
       "      <td>-4.077295</td>\n",
       "      <td>0.058275</td>\n",
       "      <td>4.755414</td>\n",
       "      <td>2.6</td>\n",
       "      <td>-676.804025</td>\n",
       "      <td>0.069956</td>\n",
       "    </tr>\n",
       "    <tr>\n",
       "      <th>11/1/1994</th>\n",
       "      <td>0.667100</td>\n",
       "      <td>1.11575</td>\n",
       "      <td>91.6</td>\n",
       "      <td>5.6</td>\n",
       "      <td>-4.587534</td>\n",
       "      <td>-0.075080</td>\n",
       "      <td>5.120072</td>\n",
       "      <td>4.1</td>\n",
       "      <td>-618.354534</td>\n",
       "      <td>0.058500</td>\n",
       "    </tr>\n",
       "    <tr>\n",
       "      <th>11/1/1995</th>\n",
       "      <td>0.485533</td>\n",
       "      <td>1.06225</td>\n",
       "      <td>88.2</td>\n",
       "      <td>5.6</td>\n",
       "      <td>-4.990644</td>\n",
       "      <td>-0.042830</td>\n",
       "      <td>5.594352</td>\n",
       "      <td>2.2</td>\n",
       "      <td>-742.978904</td>\n",
       "      <td>-0.006632</td>\n",
       "    </tr>\n",
       "    <tr>\n",
       "      <th>11/1/1996</th>\n",
       "      <td>0.722600</td>\n",
       "      <td>1.23225</td>\n",
       "      <td>99.2</td>\n",
       "      <td>5.4</td>\n",
       "      <td>-4.278919</td>\n",
       "      <td>0.029401</td>\n",
       "      <td>5.777011</td>\n",
       "      <td>4.4</td>\n",
       "      <td>-621.669592</td>\n",
       "      <td>-0.011389</td>\n",
       "    </tr>\n",
       "  </tbody>\n",
       "</table>\n",
       "</div>"
      ],
      "text/plain": [
       "           NYT_sentiment  gas_prices  consumer_sentiments  unemployment_rate  \\\n",
       "DATE                                                                           \n",
       "11/1/1992       0.812100     1.11120                 85.3                7.4   \n",
       "11/1/1993       0.762175     1.06640                 81.2                6.6   \n",
       "11/1/1994       0.667100     1.11575                 91.6                5.6   \n",
       "11/1/1995       0.485533     1.06225                 88.2                5.6   \n",
       "11/1/1996       0.722600     1.23225                 99.2                5.4   \n",
       "\n",
       "                CPI  Retail_Index_Returns  Consumer_debt_service  GDP_growth  \\\n",
       "DATE                                                                           \n",
       "11/1/1992 -3.664766              0.000000               4.660212         4.4   \n",
       "11/1/1993 -4.077295              0.058275               4.755414         2.6   \n",
       "11/1/1994 -4.587534             -0.075080               5.120072         4.1   \n",
       "11/1/1995 -4.990644             -0.042830               5.594352         2.2   \n",
       "11/1/1996 -4.278919              0.029401               5.777011         4.4   \n",
       "\n",
       "                  GDP  Gold_Returns  \n",
       "DATE                                 \n",
       "11/1/1992 -576.109447      0.000000  \n",
       "11/1/1993 -676.804025      0.069956  \n",
       "11/1/1994 -618.354534      0.058500  \n",
       "11/1/1995 -742.978904     -0.006632  \n",
       "11/1/1996 -621.669592     -0.011389  "
      ]
     },
     "execution_count": 85,
     "metadata": {},
     "output_type": "execute_result"
    }
   ],
   "source": [
    "# Define features set\n",
    "X = MAIN_df.copy()\n",
    "X.drop({\"sales\"}, axis=1, inplace=True)\n",
    "\n",
    "X.head()\n"
   ]
  },
  {
   "cell_type": "code",
   "execution_count": 86,
   "metadata": {},
   "outputs": [
    {
     "data": {
      "text/plain": [
       "array([[-18182.99304],\n",
       "       [-15860.78098],\n",
       "       [-12429.20455],\n",
       "       [-14721.98639],\n",
       "       [-14186.08089]])"
      ]
     },
     "execution_count": 86,
     "metadata": {},
     "output_type": "execute_result"
    }
   ],
   "source": [
    "# Define target vector\n",
    "y = MAIN_df[\"sales\"].values.reshape(-1, 1)\n",
    "y[:5]\n"
   ]
  },
  {
   "cell_type": "code",
   "execution_count": 87,
   "metadata": {},
   "outputs": [],
   "source": [
    "# Splitting into Train and Test sets\n",
    "X_train, X_test, y_train, y_test = train_test_split(X, y, random_state=78)\n"
   ]
  },
  {
   "cell_type": "code",
   "execution_count": 88,
   "metadata": {},
   "outputs": [],
   "source": [
    "# Creating the decision tree classifier instance\n",
    "model = tree.DecisionTreeRegressor()\n",
    "# Fitting the model\n",
    "DecisionRegressor = model.fit(X_train, y_train)\n",
    "\n",
    "\n"
   ]
  },
  {
   "cell_type": "code",
   "execution_count": 89,
   "metadata": {},
   "outputs": [],
   "source": [
    "# Making predictions using the testing data\n",
    "predictions = DecisionRegressor.predict(X_test)\n",
    "\n"
   ]
  },
  {
   "cell_type": "code",
   "execution_count": 90,
   "metadata": {},
   "outputs": [
    {
     "data": {
      "text/html": [
       "<div>\n",
       "<style scoped>\n",
       "    .dataframe tbody tr th:only-of-type {\n",
       "        vertical-align: middle;\n",
       "    }\n",
       "\n",
       "    .dataframe tbody tr th {\n",
       "        vertical-align: top;\n",
       "    }\n",
       "\n",
       "    .dataframe thead th {\n",
       "        text-align: right;\n",
       "    }\n",
       "</style>\n",
       "<table border=\"1\" class=\"dataframe\">\n",
       "  <thead>\n",
       "    <tr style=\"text-align: right;\">\n",
       "      <th></th>\n",
       "      <th>Prediction</th>\n",
       "      <th>Actual</th>\n",
       "    </tr>\n",
       "  </thead>\n",
       "  <tbody>\n",
       "    <tr>\n",
       "      <th>0</th>\n",
       "      <td>-27909.14982</td>\n",
       "      <td>-24116.553180</td>\n",
       "    </tr>\n",
       "    <tr>\n",
       "      <th>1</th>\n",
       "      <td>14695.30502</td>\n",
       "      <td>13296.818400</td>\n",
       "    </tr>\n",
       "    <tr>\n",
       "      <th>2</th>\n",
       "      <td>47667.32448</td>\n",
       "      <td>87065.740710</td>\n",
       "    </tr>\n",
       "    <tr>\n",
       "      <th>3</th>\n",
       "      <td>-14721.98639</td>\n",
       "      <td>10382.970910</td>\n",
       "    </tr>\n",
       "    <tr>\n",
       "      <th>4</th>\n",
       "      <td>23554.14551</td>\n",
       "      <td>4820.265943</td>\n",
       "    </tr>\n",
       "  </tbody>\n",
       "</table>\n",
       "</div>"
      ],
      "text/plain": [
       "    Prediction        Actual\n",
       "0 -27909.14982 -24116.553180\n",
       "1  14695.30502  13296.818400\n",
       "2  47667.32448  87065.740710\n",
       "3 -14721.98639  10382.970910\n",
       "4  23554.14551   4820.265943"
      ]
     },
     "execution_count": 90,
     "metadata": {},
     "output_type": "execute_result"
    }
   ],
   "source": [
    "Predictions_tree=pd.DataFrame({\"Prediction\": predictions, \"Actual\": y_test.ravel()}).head(20)\n",
    "Predictions_tree.head()"
   ]
  },
  {
   "cell_type": "code",
   "execution_count": 91,
   "metadata": {},
   "outputs": [
    {
     "data": {
      "text/plain": [
       "<AxesSubplot:>"
      ]
     },
     "execution_count": 91,
     "metadata": {},
     "output_type": "execute_result"
    },
    {
     "data": {
      "image/png": "[encoded data removed]",
      "text/plain": [
       "<Figure size 432x288 with 1 Axes>"
      ]
     },
     "metadata": {
      "needs_background": "light"
     },
     "output_type": "display_data"
    }
   ],
   "source": [
    "Predictions_tree.plot()"
   ]
  },
  {
   "cell_type": "code",
   "execution_count": 92,
   "metadata": {},
   "outputs": [
    {
     "data": {
      "text/plain": [
       "0.745755446603428"
      ]
     },
     "execution_count": 92,
     "metadata": {},
     "output_type": "execute_result"
    }
   ],
   "source": [
    "from sklearn.metrics import r2_score,mean_squared_error\n",
    "r2_score(y_test, predictions)\n"
   ]
  },
  {
   "cell_type": "code",
   "execution_count": 93,
   "metadata": {},
   "outputs": [
    {
     "data": {
      "text/plain": [
       "409789556.65769035"
      ]
     },
     "execution_count": 93,
     "metadata": {},
     "output_type": "execute_result"
    }
   ],
   "source": [
    "mse = mean_squared_error(y_test, predictions)\n",
    "mse"
   ]
  },
  {
   "cell_type": "code",
   "execution_count": 94,
   "metadata": {},
   "outputs": [
    {
     "data": {
      "text/plain": [
       "20243.259536391128"
      ]
     },
     "execution_count": 94,
     "metadata": {},
     "output_type": "execute_result"
    }
   ],
   "source": [
    "mse= mean_squared_error(y_test, predictions)\n",
    "rmse= np.sqrt(mse)\n",
    "rmse"
   ]
  },
  {
   "cell_type": "markdown",
   "metadata": {},
   "source": [
    "## NEW DF FOR PREDICTIVE MODEL"
   ]
  },
  {
   "cell_type": "code",
   "execution_count": 188,
   "metadata": {},
   "outputs": [
    {
     "data": {
      "text/html": [
       "<div>\n",
       "<style scoped>\n",
       "    .dataframe tbody tr th:only-of-type {\n",
       "        vertical-align: middle;\n",
       "    }\n",
       "\n",
       "    .dataframe tbody tr th {\n",
       "        vertical-align: top;\n",
       "    }\n",
       "\n",
       "    .dataframe thead th {\n",
       "        text-align: right;\n",
       "    }\n",
       "</style>\n",
       "<table border=\"1\" class=\"dataframe\">\n",
       "  <thead>\n",
       "    <tr style=\"text-align: right;\">\n",
       "      <th></th>\n",
       "      <th>DATE</th>\n",
       "      <th>NYT_sentiment</th>\n",
       "      <th>gas_prices</th>\n",
       "      <th>consumer_sentiments</th>\n",
       "      <th>unemployment_rate</th>\n",
       "      <th>CPI</th>\n",
       "      <th>Retail_Index_Returns</th>\n",
       "      <th>Consumer_debt_service</th>\n",
       "      <th>GDP_growth</th>\n",
       "      <th>sales</th>\n",
       "      <th>GDP</th>\n",
       "      <th>Gold_Returns</th>\n",
       "      <th>shifted_sales</th>\n",
       "    </tr>\n",
       "  </thead>\n",
       "  <tbody>\n",
       "    <tr>\n",
       "      <th>0</th>\n",
       "      <td>11/1/1993</td>\n",
       "      <td>0.762175</td>\n",
       "      <td>1.06640</td>\n",
       "      <td>81.2</td>\n",
       "      <td>6.6</td>\n",
       "      <td>-4.077295</td>\n",
       "      <td>0.058275</td>\n",
       "      <td>4.755414</td>\n",
       "      <td>2.6</td>\n",
       "      <td>-15860.78098</td>\n",
       "      <td>-676.804025</td>\n",
       "      <td>0.069956</td>\n",
       "      <td>-18182.99304</td>\n",
       "    </tr>\n",
       "    <tr>\n",
       "      <th>1</th>\n",
       "      <td>11/1/1994</td>\n",
       "      <td>0.667100</td>\n",
       "      <td>1.11575</td>\n",
       "      <td>91.6</td>\n",
       "      <td>5.6</td>\n",
       "      <td>-4.587534</td>\n",
       "      <td>-0.075080</td>\n",
       "      <td>5.120072</td>\n",
       "      <td>4.1</td>\n",
       "      <td>-12429.20455</td>\n",
       "      <td>-618.354534</td>\n",
       "      <td>0.058500</td>\n",
       "      <td>-15860.78098</td>\n",
       "    </tr>\n",
       "    <tr>\n",
       "      <th>2</th>\n",
       "      <td>11/1/1995</td>\n",
       "      <td>0.485533</td>\n",
       "      <td>1.06225</td>\n",
       "      <td>88.2</td>\n",
       "      <td>5.6</td>\n",
       "      <td>-4.990644</td>\n",
       "      <td>-0.042830</td>\n",
       "      <td>5.594352</td>\n",
       "      <td>2.2</td>\n",
       "      <td>-14721.98639</td>\n",
       "      <td>-742.978904</td>\n",
       "      <td>-0.006632</td>\n",
       "      <td>-12429.20455</td>\n",
       "    </tr>\n",
       "    <tr>\n",
       "      <th>3</th>\n",
       "      <td>11/1/1996</td>\n",
       "      <td>0.722600</td>\n",
       "      <td>1.23225</td>\n",
       "      <td>99.2</td>\n",
       "      <td>5.4</td>\n",
       "      <td>-4.278919</td>\n",
       "      <td>0.029401</td>\n",
       "      <td>5.777011</td>\n",
       "      <td>4.4</td>\n",
       "      <td>-14186.08089</td>\n",
       "      <td>-621.669592</td>\n",
       "      <td>-0.011389</td>\n",
       "      <td>-14721.98639</td>\n",
       "    </tr>\n",
       "    <tr>\n",
       "      <th>4</th>\n",
       "      <td>11/1/1997</td>\n",
       "      <td>0.855950</td>\n",
       "      <td>1.17075</td>\n",
       "      <td>107.2</td>\n",
       "      <td>4.6</td>\n",
       "      <td>-5.541533</td>\n",
       "      <td>0.112995</td>\n",
       "      <td>5.705666</td>\n",
       "      <td>4.5</td>\n",
       "      <td>-15907.24120</td>\n",
       "      <td>-467.952693</td>\n",
       "      <td>-0.168962</td>\n",
       "      <td>-14186.08089</td>\n",
       "    </tr>\n",
       "  </tbody>\n",
       "</table>\n",
       "</div>"
      ],
      "text/plain": [
       "        DATE  NYT_sentiment  gas_prices  consumer_sentiments  \\\n",
       "0  11/1/1993       0.762175     1.06640                 81.2   \n",
       "1  11/1/1994       0.667100     1.11575                 91.6   \n",
       "2  11/1/1995       0.485533     1.06225                 88.2   \n",
       "3  11/1/1996       0.722600     1.23225                 99.2   \n",
       "4  11/1/1997       0.855950     1.17075                107.2   \n",
       "\n",
       "   unemployment_rate       CPI  Retail_Index_Returns  Consumer_debt_service  \\\n",
       "0                6.6 -4.077295              0.058275               4.755414   \n",
       "1                5.6 -4.587534             -0.075080               5.120072   \n",
       "2                5.6 -4.990644             -0.042830               5.594352   \n",
       "3                5.4 -4.278919              0.029401               5.777011   \n",
       "4                4.6 -5.541533              0.112995               5.705666   \n",
       "\n",
       "   GDP_growth        sales         GDP  Gold_Returns  shifted_sales  \n",
       "0         2.6 -15860.78098 -676.804025      0.069956   -18182.99304  \n",
       "1         4.1 -12429.20455 -618.354534      0.058500   -15860.78098  \n",
       "2         2.2 -14721.98639 -742.978904     -0.006632   -12429.20455  \n",
       "3         4.4 -14186.08089 -621.669592     -0.011389   -14721.98639  \n",
       "4         4.5 -15907.24120 -467.952693     -0.168962   -14186.08089  "
      ]
     },
     "execution_count": 188,
     "metadata": {},
     "output_type": "execute_result"
    }
   ],
   "source": [
    "Main_2= MAIN_df.copy()\n",
    "Main_2['shifted_sales']= Main_2.sales.shift()\n",
    "Main_2=Main_2.dropna()\n",
    "Main_2=Main_2.reset_index()\n",
    "Main_2.head()"
   ]
  },
  {
   "cell_type": "code",
   "execution_count": 189,
   "metadata": {},
   "outputs": [
    {
     "data": {
      "text/html": [
       "<div>\n",
       "<style scoped>\n",
       "    .dataframe tbody tr th:only-of-type {\n",
       "        vertical-align: middle;\n",
       "    }\n",
       "\n",
       "    .dataframe tbody tr th {\n",
       "        vertical-align: top;\n",
       "    }\n",
       "\n",
       "    .dataframe thead th {\n",
       "        text-align: right;\n",
       "    }\n",
       "</style>\n",
       "<table border=\"1\" class=\"dataframe\">\n",
       "  <thead>\n",
       "    <tr style=\"text-align: right;\">\n",
       "      <th></th>\n",
       "      <th>NYT_sentiment</th>\n",
       "      <th>gas_prices</th>\n",
       "      <th>consumer_sentiments</th>\n",
       "      <th>unemployment_rate</th>\n",
       "      <th>CPI</th>\n",
       "      <th>Retail_Index_Returns</th>\n",
       "      <th>Consumer_debt_service</th>\n",
       "      <th>GDP_growth</th>\n",
       "      <th>sales</th>\n",
       "      <th>GDP</th>\n",
       "      <th>Gold_Returns</th>\n",
       "      <th>shifted_sales</th>\n",
       "    </tr>\n",
       "    <tr>\n",
       "      <th>DATE</th>\n",
       "      <th></th>\n",
       "      <th></th>\n",
       "      <th></th>\n",
       "      <th></th>\n",
       "      <th></th>\n",
       "      <th></th>\n",
       "      <th></th>\n",
       "      <th></th>\n",
       "      <th></th>\n",
       "      <th></th>\n",
       "      <th></th>\n",
       "      <th></th>\n",
       "    </tr>\n",
       "  </thead>\n",
       "  <tbody>\n",
       "    <tr>\n",
       "      <th>1993-11-01</th>\n",
       "      <td>0.762175</td>\n",
       "      <td>1.06640</td>\n",
       "      <td>81.2</td>\n",
       "      <td>6.6</td>\n",
       "      <td>-4.077295</td>\n",
       "      <td>0.058275</td>\n",
       "      <td>4.755414</td>\n",
       "      <td>2.6</td>\n",
       "      <td>-15860.78098</td>\n",
       "      <td>-676.804025</td>\n",
       "      <td>0.069956</td>\n",
       "      <td>-18182.99304</td>\n",
       "    </tr>\n",
       "    <tr>\n",
       "      <th>1994-11-01</th>\n",
       "      <td>0.667100</td>\n",
       "      <td>1.11575</td>\n",
       "      <td>91.6</td>\n",
       "      <td>5.6</td>\n",
       "      <td>-4.587534</td>\n",
       "      <td>-0.075080</td>\n",
       "      <td>5.120072</td>\n",
       "      <td>4.1</td>\n",
       "      <td>-12429.20455</td>\n",
       "      <td>-618.354534</td>\n",
       "      <td>0.058500</td>\n",
       "      <td>-15860.78098</td>\n",
       "    </tr>\n",
       "    <tr>\n",
       "      <th>1995-11-01</th>\n",
       "      <td>0.485533</td>\n",
       "      <td>1.06225</td>\n",
       "      <td>88.2</td>\n",
       "      <td>5.6</td>\n",
       "      <td>-4.990644</td>\n",
       "      <td>-0.042830</td>\n",
       "      <td>5.594352</td>\n",
       "      <td>2.2</td>\n",
       "      <td>-14721.98639</td>\n",
       "      <td>-742.978904</td>\n",
       "      <td>-0.006632</td>\n",
       "      <td>-12429.20455</td>\n",
       "    </tr>\n",
       "    <tr>\n",
       "      <th>1996-11-01</th>\n",
       "      <td>0.722600</td>\n",
       "      <td>1.23225</td>\n",
       "      <td>99.2</td>\n",
       "      <td>5.4</td>\n",
       "      <td>-4.278919</td>\n",
       "      <td>0.029401</td>\n",
       "      <td>5.777011</td>\n",
       "      <td>4.4</td>\n",
       "      <td>-14186.08089</td>\n",
       "      <td>-621.669592</td>\n",
       "      <td>-0.011389</td>\n",
       "      <td>-14721.98639</td>\n",
       "    </tr>\n",
       "    <tr>\n",
       "      <th>1997-11-01</th>\n",
       "      <td>0.855950</td>\n",
       "      <td>1.17075</td>\n",
       "      <td>107.2</td>\n",
       "      <td>4.6</td>\n",
       "      <td>-5.541533</td>\n",
       "      <td>0.112995</td>\n",
       "      <td>5.705666</td>\n",
       "      <td>4.5</td>\n",
       "      <td>-15907.24120</td>\n",
       "      <td>-467.952693</td>\n",
       "      <td>-0.168962</td>\n",
       "      <td>-14186.08089</td>\n",
       "    </tr>\n",
       "  </tbody>\n",
       "</table>\n",
       "</div>"
      ],
      "text/plain": [
       "            NYT_sentiment  gas_prices  consumer_sentiments  unemployment_rate  \\\n",
       "DATE                                                                            \n",
       "1993-11-01       0.762175     1.06640                 81.2                6.6   \n",
       "1994-11-01       0.667100     1.11575                 91.6                5.6   \n",
       "1995-11-01       0.485533     1.06225                 88.2                5.6   \n",
       "1996-11-01       0.722600     1.23225                 99.2                5.4   \n",
       "1997-11-01       0.855950     1.17075                107.2                4.6   \n",
       "\n",
       "                 CPI  Retail_Index_Returns  Consumer_debt_service  GDP_growth  \\\n",
       "DATE                                                                            \n",
       "1993-11-01 -4.077295              0.058275               4.755414         2.6   \n",
       "1994-11-01 -4.587534             -0.075080               5.120072         4.1   \n",
       "1995-11-01 -4.990644             -0.042830               5.594352         2.2   \n",
       "1996-11-01 -4.278919              0.029401               5.777011         4.4   \n",
       "1997-11-01 -5.541533              0.112995               5.705666         4.5   \n",
       "\n",
       "                  sales         GDP  Gold_Returns  shifted_sales  \n",
       "DATE                                                              \n",
       "1993-11-01 -15860.78098 -676.804025      0.069956   -18182.99304  \n",
       "1994-11-01 -12429.20455 -618.354534      0.058500   -15860.78098  \n",
       "1995-11-01 -14721.98639 -742.978904     -0.006632   -12429.20455  \n",
       "1996-11-01 -14186.08089 -621.669592     -0.011389   -14721.98639  \n",
       "1997-11-01 -15907.24120 -467.952693     -0.168962   -14186.08089  "
      ]
     },
     "execution_count": 189,
     "metadata": {},
     "output_type": "execute_result"
    }
   ],
   "source": [
    "Main_2['DATE'] =pd.to_datetime(Main_2.DATE)\n",
    "Main_2= Main_2.set_index(\"DATE\")\n",
    "\n",
    "Main_2.head()"
   ]
  },
  {
   "cell_type": "code",
   "execution_count": 191,
   "metadata": {},
   "outputs": [
    {
     "data": {
      "text/html": [
       "<div>\n",
       "<style scoped>\n",
       "    .dataframe tbody tr th:only-of-type {\n",
       "        vertical-align: middle;\n",
       "    }\n",
       "\n",
       "    .dataframe tbody tr th {\n",
       "        vertical-align: top;\n",
       "    }\n",
       "\n",
       "    .dataframe thead th {\n",
       "        text-align: right;\n",
       "    }\n",
       "</style>\n",
       "<table border=\"1\" class=\"dataframe\">\n",
       "  <thead>\n",
       "    <tr style=\"text-align: right;\">\n",
       "      <th></th>\n",
       "      <th>NYT_sentiment</th>\n",
       "      <th>gas_prices</th>\n",
       "      <th>consumer_sentiments</th>\n",
       "      <th>unemployment_rate</th>\n",
       "      <th>CPI</th>\n",
       "      <th>Retail_Index_Returns</th>\n",
       "      <th>Consumer_debt_service</th>\n",
       "      <th>GDP_growth</th>\n",
       "      <th>sales</th>\n",
       "      <th>GDP</th>\n",
       "      <th>Gold_Returns</th>\n",
       "      <th>shifted_sales</th>\n",
       "    </tr>\n",
       "    <tr>\n",
       "      <th>DATE</th>\n",
       "      <th></th>\n",
       "      <th></th>\n",
       "      <th></th>\n",
       "      <th></th>\n",
       "      <th></th>\n",
       "      <th></th>\n",
       "      <th></th>\n",
       "      <th></th>\n",
       "      <th></th>\n",
       "      <th></th>\n",
       "      <th></th>\n",
       "      <th></th>\n",
       "    </tr>\n",
       "  </thead>\n",
       "  <tbody>\n",
       "    <tr>\n",
       "      <th>1992-12-01</th>\n",
       "      <td>0.458857</td>\n",
       "      <td>1.07750</td>\n",
       "      <td>91.0</td>\n",
       "      <td>7.4</td>\n",
       "      <td>-55.865683</td>\n",
       "      <td>-0.044113</td>\n",
       "      <td>4.660212</td>\n",
       "      <td>4.4</td>\n",
       "      <td>-143836.96580</td>\n",
       "      <td>-4628.850176</td>\n",
       "      <td>-0.770981</td>\n",
       "      <td>155602.46170</td>\n",
       "    </tr>\n",
       "    <tr>\n",
       "      <th>1993-11-01</th>\n",
       "      <td>0.762175</td>\n",
       "      <td>1.06640</td>\n",
       "      <td>81.2</td>\n",
       "      <td>6.6</td>\n",
       "      <td>-4.077295</td>\n",
       "      <td>0.058275</td>\n",
       "      <td>4.755414</td>\n",
       "      <td>2.6</td>\n",
       "      <td>-15860.78098</td>\n",
       "      <td>-676.804025</td>\n",
       "      <td>0.069956</td>\n",
       "      <td>-18182.99304</td>\n",
       "    </tr>\n",
       "    <tr>\n",
       "      <th>1993-12-01</th>\n",
       "      <td>0.500550</td>\n",
       "      <td>1.01400</td>\n",
       "      <td>88.2</td>\n",
       "      <td>6.5</td>\n",
       "      <td>-49.461028</td>\n",
       "      <td>0.038244</td>\n",
       "      <td>4.755414</td>\n",
       "      <td>2.6</td>\n",
       "      <td>-125760.23380</td>\n",
       "      <td>-4202.521831</td>\n",
       "      <td>0.114896</td>\n",
       "      <td>-143836.96580</td>\n",
       "    </tr>\n",
       "    <tr>\n",
       "      <th>1994-11-01</th>\n",
       "      <td>0.667100</td>\n",
       "      <td>1.11575</td>\n",
       "      <td>91.6</td>\n",
       "      <td>5.6</td>\n",
       "      <td>-4.587534</td>\n",
       "      <td>-0.075080</td>\n",
       "      <td>5.120072</td>\n",
       "      <td>4.1</td>\n",
       "      <td>-12429.20455</td>\n",
       "      <td>-618.354534</td>\n",
       "      <td>0.058500</td>\n",
       "      <td>-15860.78098</td>\n",
       "    </tr>\n",
       "    <tr>\n",
       "      <th>1994-12-01</th>\n",
       "      <td>0.366667</td>\n",
       "      <td>1.09050</td>\n",
       "      <td>95.1</td>\n",
       "      <td>5.5</td>\n",
       "      <td>-43.478215</td>\n",
       "      <td>-0.089986</td>\n",
       "      <td>5.120072</td>\n",
       "      <td>4.1</td>\n",
       "      <td>-107366.16520</td>\n",
       "      <td>-3636.164463</td>\n",
       "      <td>0.018762</td>\n",
       "      <td>-125760.23380</td>\n",
       "    </tr>\n",
       "  </tbody>\n",
       "</table>\n",
       "</div>"
      ],
      "text/plain": [
       "            NYT_sentiment  gas_prices  consumer_sentiments  unemployment_rate  \\\n",
       "DATE                                                                            \n",
       "1992-12-01       0.458857     1.07750                 91.0                7.4   \n",
       "1993-11-01       0.762175     1.06640                 81.2                6.6   \n",
       "1993-12-01       0.500550     1.01400                 88.2                6.5   \n",
       "1994-11-01       0.667100     1.11575                 91.6                5.6   \n",
       "1994-12-01       0.366667     1.09050                 95.1                5.5   \n",
       "\n",
       "                  CPI  Retail_Index_Returns  Consumer_debt_service  \\\n",
       "DATE                                                                 \n",
       "1992-12-01 -55.865683             -0.044113               4.660212   \n",
       "1993-11-01  -4.077295              0.058275               4.755414   \n",
       "1993-12-01 -49.461028              0.038244               4.755414   \n",
       "1994-11-01  -4.587534             -0.075080               5.120072   \n",
       "1994-12-01 -43.478215             -0.089986               5.120072   \n",
       "\n",
       "            GDP_growth         sales          GDP  Gold_Returns  shifted_sales  \n",
       "DATE                                                                            \n",
       "1992-12-01         4.4 -143836.96580 -4628.850176     -0.770981   155602.46170  \n",
       "1993-11-01         2.6  -15860.78098  -676.804025      0.069956   -18182.99304  \n",
       "1993-12-01         2.6 -125760.23380 -4202.521831      0.114896  -143836.96580  \n",
       "1994-11-01         4.1  -12429.20455  -618.354534      0.058500   -15860.78098  \n",
       "1994-12-01         4.1 -107366.16520 -3636.164463      0.018762  -125760.23380  "
      ]
     },
     "execution_count": 191,
     "metadata": {},
     "output_type": "execute_result"
    }
   ],
   "source": [
    "Main_2= Main_2.sort_index()\n",
    "Main_2.head()"
   ]
  },
  {
   "cell_type": "markdown",
   "metadata": {},
   "source": [
    "# DECISION TREE MODEL PREDICTIVE MODEL (SHIFTED Y)"
   ]
  },
  {
   "cell_type": "code",
   "execution_count": 192,
   "metadata": {},
   "outputs": [
    {
     "data": {
      "text/html": [
       "<div>\n",
       "<style scoped>\n",
       "    .dataframe tbody tr th:only-of-type {\n",
       "        vertical-align: middle;\n",
       "    }\n",
       "\n",
       "    .dataframe tbody tr th {\n",
       "        vertical-align: top;\n",
       "    }\n",
       "\n",
       "    .dataframe thead th {\n",
       "        text-align: right;\n",
       "    }\n",
       "</style>\n",
       "<table border=\"1\" class=\"dataframe\">\n",
       "  <thead>\n",
       "    <tr style=\"text-align: right;\">\n",
       "      <th></th>\n",
       "      <th>NYT_sentiment</th>\n",
       "      <th>unemployment_rate</th>\n",
       "      <th>CPI</th>\n",
       "      <th>Consumer_debt_service</th>\n",
       "      <th>GDP_growth</th>\n",
       "      <th>GDP</th>\n",
       "      <th>Gold_Returns</th>\n",
       "    </tr>\n",
       "    <tr>\n",
       "      <th>DATE</th>\n",
       "      <th></th>\n",
       "      <th></th>\n",
       "      <th></th>\n",
       "      <th></th>\n",
       "      <th></th>\n",
       "      <th></th>\n",
       "      <th></th>\n",
       "    </tr>\n",
       "  </thead>\n",
       "  <tbody>\n",
       "    <tr>\n",
       "      <th>1992-12-01</th>\n",
       "      <td>0.458857</td>\n",
       "      <td>7.4</td>\n",
       "      <td>-55.865683</td>\n",
       "      <td>4.660212</td>\n",
       "      <td>4.4</td>\n",
       "      <td>-4628.850176</td>\n",
       "      <td>-0.770981</td>\n",
       "    </tr>\n",
       "    <tr>\n",
       "      <th>1993-11-01</th>\n",
       "      <td>0.762175</td>\n",
       "      <td>6.6</td>\n",
       "      <td>-4.077295</td>\n",
       "      <td>4.755414</td>\n",
       "      <td>2.6</td>\n",
       "      <td>-676.804025</td>\n",
       "      <td>0.069956</td>\n",
       "    </tr>\n",
       "    <tr>\n",
       "      <th>1993-12-01</th>\n",
       "      <td>0.500550</td>\n",
       "      <td>6.5</td>\n",
       "      <td>-49.461028</td>\n",
       "      <td>4.755414</td>\n",
       "      <td>2.6</td>\n",
       "      <td>-4202.521831</td>\n",
       "      <td>0.114896</td>\n",
       "    </tr>\n",
       "    <tr>\n",
       "      <th>1994-11-01</th>\n",
       "      <td>0.667100</td>\n",
       "      <td>5.6</td>\n",
       "      <td>-4.587534</td>\n",
       "      <td>5.120072</td>\n",
       "      <td>4.1</td>\n",
       "      <td>-618.354534</td>\n",
       "      <td>0.058500</td>\n",
       "    </tr>\n",
       "    <tr>\n",
       "      <th>1994-12-01</th>\n",
       "      <td>0.366667</td>\n",
       "      <td>5.5</td>\n",
       "      <td>-43.478215</td>\n",
       "      <td>5.120072</td>\n",
       "      <td>4.1</td>\n",
       "      <td>-3636.164463</td>\n",
       "      <td>0.018762</td>\n",
       "    </tr>\n",
       "  </tbody>\n",
       "</table>\n",
       "</div>"
      ],
      "text/plain": [
       "            NYT_sentiment  unemployment_rate        CPI  \\\n",
       "DATE                                                      \n",
       "1992-12-01       0.458857                7.4 -55.865683   \n",
       "1993-11-01       0.762175                6.6  -4.077295   \n",
       "1993-12-01       0.500550                6.5 -49.461028   \n",
       "1994-11-01       0.667100                5.6  -4.587534   \n",
       "1994-12-01       0.366667                5.5 -43.478215   \n",
       "\n",
       "            Consumer_debt_service  GDP_growth          GDP  Gold_Returns  \n",
       "DATE                                                                      \n",
       "1992-12-01               4.660212         4.4 -4628.850176     -0.770981  \n",
       "1993-11-01               4.755414         2.6  -676.804025      0.069956  \n",
       "1993-12-01               4.755414         2.6 -4202.521831      0.114896  \n",
       "1994-11-01               5.120072         4.1  -618.354534      0.058500  \n",
       "1994-12-01               5.120072         4.1 -3636.164463      0.018762  "
      ]
     },
     "execution_count": 192,
     "metadata": {},
     "output_type": "execute_result"
    }
   ],
   "source": [
    "# Define features set\n",
    "X = Main_2.copy()\n",
    "X.drop({\"sales\",'shifted_sales','Retail_Index_Returns', 'consumer_sentiments', 'gas_prices'}, axis=1, inplace=True)\n",
    "\n",
    "X.head()\n"
   ]
  },
  {
   "cell_type": "code",
   "execution_count": 193,
   "metadata": {},
   "outputs": [
    {
     "data": {
      "text/plain": [
       "array([[ 155602.4617 ],\n",
       "       [ -18182.99304],\n",
       "       [-143836.9658 ],\n",
       "       [ -15860.78098],\n",
       "       [-125760.2338 ]])"
      ]
     },
     "execution_count": 193,
     "metadata": {},
     "output_type": "execute_result"
    }
   ],
   "source": [
    "# Define target vector\n",
    "y = Main_2[\"shifted_sales\"].values.reshape(-1, 1)\n",
    "y[:5]\n"
   ]
  },
  {
   "cell_type": "code",
   "execution_count": 194,
   "metadata": {},
   "outputs": [],
   "source": [
    "# Splitting into Train and Test sets\n",
    "X_train, X_test, y_train, y_test = train_test_split(X, y, random_state=78)\n"
   ]
  },
  {
   "cell_type": "code",
   "execution_count": 195,
   "metadata": {},
   "outputs": [
    {
     "data": {
      "text/plain": [
       "(14, 7)"
      ]
     },
     "execution_count": 195,
     "metadata": {},
     "output_type": "execute_result"
    }
   ],
   "source": [
    "X_test.shape"
   ]
  },
  {
   "cell_type": "code",
   "execution_count": 196,
   "metadata": {},
   "outputs": [
    {
     "data": {
      "text/plain": [
       "(41, 7)"
      ]
     },
     "execution_count": 196,
     "metadata": {},
     "output_type": "execute_result"
    }
   ],
   "source": [
    "X_train.shape"
   ]
  },
  {
   "cell_type": "code",
   "execution_count": 197,
   "metadata": {},
   "outputs": [],
   "source": [
    "# Creating the decision tree classifier instance\n",
    "model = tree.DecisionTreeRegressor()\n",
    "# Fitting the model\n",
    "DecisionRegressor = model.fit(X_train, y_train)\n",
    "\n",
    "\n"
   ]
  },
  {
   "cell_type": "code",
   "execution_count": 198,
   "metadata": {},
   "outputs": [],
   "source": [
    "# Making predictions using the testing data\n",
    "predictions = DecisionRegressor.predict(X_test)\n",
    "\n"
   ]
  },
  {
   "cell_type": "code",
   "execution_count": 199,
   "metadata": {},
   "outputs": [
    {
     "data": {
      "text/html": [
       "<div>\n",
       "<style scoped>\n",
       "    .dataframe tbody tr th:only-of-type {\n",
       "        vertical-align: middle;\n",
       "    }\n",
       "\n",
       "    .dataframe tbody tr th {\n",
       "        vertical-align: top;\n",
       "    }\n",
       "\n",
       "    .dataframe thead th {\n",
       "        text-align: right;\n",
       "    }\n",
       "</style>\n",
       "<table border=\"1\" class=\"dataframe\">\n",
       "  <thead>\n",
       "    <tr style=\"text-align: right;\">\n",
       "      <th></th>\n",
       "      <th>Prediction</th>\n",
       "      <th>Actual</th>\n",
       "    </tr>\n",
       "  </thead>\n",
       "  <tbody>\n",
       "    <tr>\n",
       "      <th>0</th>\n",
       "      <td>-12957.246610</td>\n",
       "      <td>4820.265943</td>\n",
       "    </tr>\n",
       "    <tr>\n",
       "      <th>1</th>\n",
       "      <td>21482.947170</td>\n",
       "      <td>24356.842720</td>\n",
       "    </tr>\n",
       "    <tr>\n",
       "      <th>2</th>\n",
       "      <td>-4139.194174</td>\n",
       "      <td>-10306.371500</td>\n",
       "    </tr>\n",
       "    <tr>\n",
       "      <th>3</th>\n",
       "      <td>116289.428200</td>\n",
       "      <td>87065.740710</td>\n",
       "    </tr>\n",
       "    <tr>\n",
       "      <th>4</th>\n",
       "      <td>-4842.438969</td>\n",
       "      <td>-27909.149820</td>\n",
       "    </tr>\n",
       "  </tbody>\n",
       "</table>\n",
       "</div>"
      ],
      "text/plain": [
       "      Prediction        Actual\n",
       "0  -12957.246610   4820.265943\n",
       "1   21482.947170  24356.842720\n",
       "2   -4139.194174 -10306.371500\n",
       "3  116289.428200  87065.740710\n",
       "4   -4842.438969 -27909.149820"
      ]
     },
     "execution_count": 199,
     "metadata": {},
     "output_type": "execute_result"
    }
   ],
   "source": [
    "Predictions_tree=pd.DataFrame({\"Prediction\": predictions, \"Actual\": y_test.ravel()}).head(20)\n",
    "Predictions_tree.head()"
   ]
  },
  {
   "cell_type": "code",
   "execution_count": null,
   "metadata": {},
   "outputs": [],
   "source": []
  },
  {
   "cell_type": "code",
   "execution_count": 200,
   "metadata": {},
   "outputs": [
    {
     "data": {
      "text/plain": [
       "<AxesSubplot:>"
      ]
     },
     "execution_count": 200,
     "metadata": {},
     "output_type": "execute_result"
    },
    {
     "data": {
      "image/png": "[encoded data removed]",
      "text/plain": [
       "<Figure size 432x288 with 1 Axes>"
      ]
     },
     "metadata": {
      "needs_background": "light"
     },
     "output_type": "display_data"
    }
   ],
   "source": [
    "Predictions_tree.plot()"
   ]
  },
  {
   "cell_type": "code",
   "execution_count": 201,
   "metadata": {},
   "outputs": [
    {
     "data": {
      "text/plain": [
       "array([ -12957.24661 ,   21482.94717 ,   -4139.194174,  116289.4282  ,\n",
       "         -4842.438969,   23554.14551 ,  -12429.20455 ,  -10241.50053 ,\n",
       "        -14186.08089 ,  -54482.40899 , -125760.2338  ,    5678.009712,\n",
       "         -8292.319532,  -18182.99304 ])"
      ]
     },
     "execution_count": 201,
     "metadata": {},
     "output_type": "execute_result"
    }
   ],
   "source": [
    "predictions"
   ]
  },
  {
   "cell_type": "code",
   "execution_count": null,
   "metadata": {},
   "outputs": [],
   "source": []
  },
  {
   "cell_type": "code",
   "execution_count": 202,
   "metadata": {},
   "outputs": [
    {
     "data": {
      "text/plain": [
       "0.8786481710499019"
      ]
     },
     "execution_count": 202,
     "metadata": {},
     "output_type": "execute_result"
    }
   ],
   "source": [
    "from sklearn.metrics import r2_score,mean_squared_error\n",
    "r2_score(y_test, predictions)\n"
   ]
  },
  {
   "cell_type": "code",
   "execution_count": 203,
   "metadata": {},
   "outputs": [
    {
     "data": {
      "text/plain": [
       "243538750.19026047"
      ]
     },
     "execution_count": 203,
     "metadata": {},
     "output_type": "execute_result"
    }
   ],
   "source": [
    "mse = mean_squared_error(y_test, predictions)\n",
    "mse"
   ]
  },
  {
   "cell_type": "code",
   "execution_count": 204,
   "metadata": {},
   "outputs": [
    {
     "data": {
      "text/plain": [
       "15605.728121118234"
      ]
     },
     "execution_count": 204,
     "metadata": {},
     "output_type": "execute_result"
    }
   ],
   "source": [
    "mse= mean_squared_error(y_test, predictions)\n",
    "rmse= np.sqrt(mse)\n",
    "rmse"
   ]
  },
  {
   "cell_type": "code",
   "execution_count": null,
   "metadata": {},
   "outputs": [],
   "source": []
  },
  {
   "cell_type": "code",
   "execution_count": null,
   "metadata": {},
   "outputs": [],
   "source": []
  },
  {
   "cell_type": "markdown",
   "metadata": {},
   "source": [
    "# RANDOM FOREST MODEL"
   ]
  },
  {
   "cell_type": "code",
   "execution_count": 205,
   "metadata": {},
   "outputs": [
    {
     "data": {
      "text/plain": [
       "array([[-18182.99304049],\n",
       "       [-15860.78098196],\n",
       "       [-12429.20455277],\n",
       "       [-14721.98639417],\n",
       "       [-14186.08089454]])"
      ]
     },
     "execution_count": 205,
     "metadata": {},
     "output_type": "execute_result"
    }
   ],
   "source": [
    "# Define features set\n",
    "X = Main_df.copy()\n",
    "X.drop({\"sales\"}, axis=1, inplace=True)\n",
    "X.head()\n",
    "\n",
    "# Define target vector\n",
    "y = Main_df[\"sales\"].values.reshape(-1, 1)\n",
    "y[:5]\n",
    "\n"
   ]
  },
  {
   "cell_type": "code",
   "execution_count": 206,
   "metadata": {},
   "outputs": [],
   "source": [
    "# Splitting into Train and Test sets\n",
    "X_train, X_test, y_train, y_test = train_test_split(X, y, random_state=78)\n"
   ]
  },
  {
   "cell_type": "code",
   "execution_count": null,
   "metadata": {},
   "outputs": [],
   "source": []
  },
  {
   "cell_type": "markdown",
   "metadata": {},
   "source": [
    "## Fitting the Random Forest Model"
   ]
  },
  {
   "cell_type": "code",
   "execution_count": 207,
   "metadata": {},
   "outputs": [
    {
     "name": "stderr",
     "output_type": "stream",
     "text": [
      "/opt/anaconda3/lib/python3.7/site-packages/ipykernel_launcher.py:4: DataConversionWarning: A column-vector y was passed when a 1d array was expected. Please change the shape of y to (n_samples,), for example using ravel().\n",
      "  after removing the cwd from sys.path.\n"
     ]
    }
   ],
   "source": [
    "# Create a random forest classifier\n",
    "rf_model = RandomForestRegressor(n_estimators=500, random_state=78)\n",
    "# Fitting the model\n",
    "rf_model = rf_model.fit(X_train, y_train)\n",
    "# Making predictions using the testing data\n",
    "predictions = rf_model.predict(X_test)\n"
   ]
  },
  {
   "cell_type": "code",
   "execution_count": 208,
   "metadata": {},
   "outputs": [
    {
     "data": {
      "text/plain": [
       "<AxesSubplot:>"
      ]
     },
     "execution_count": 208,
     "metadata": {},
     "output_type": "execute_result"
    },
    {
     "data": {
      "image/png": "[encoded data removed]",
      "text/plain": [
       "<Figure size 432x288 with 1 Axes>"
      ]
     },
     "metadata": {
      "needs_background": "light"
     },
     "output_type": "display_data"
    }
   ],
   "source": [
    "\n",
    "Predictions_forest=pd.DataFrame({\"Prediction\": predictions, \"Actual\": y_test.ravel()}).head(20)\n",
    "Predictions_forest.plot()"
   ]
  },
  {
   "cell_type": "markdown",
   "metadata": {},
   "source": [
    "## EVALUATING RANDOM FOREST"
   ]
  },
  {
   "cell_type": "code",
   "execution_count": 209,
   "metadata": {},
   "outputs": [
    {
     "data": {
      "text/plain": [
       "0.9554075279949993"
      ]
     },
     "execution_count": 209,
     "metadata": {},
     "output_type": "execute_result"
    }
   ],
   "source": [
    "r2_score(y_test, predictions)\n"
   ]
  },
  {
   "cell_type": "code",
   "execution_count": 210,
   "metadata": {},
   "outputs": [
    {
     "data": {
      "text/plain": [
       "71873828.12550409"
      ]
     },
     "execution_count": 210,
     "metadata": {},
     "output_type": "execute_result"
    }
   ],
   "source": [
    "mse = mean_squared_error(y_test, predictions)\n",
    "mse"
   ]
  },
  {
   "cell_type": "code",
   "execution_count": 211,
   "metadata": {},
   "outputs": [
    {
     "data": {
      "text/plain": [
       "8477.843365237653"
      ]
     },
     "execution_count": 211,
     "metadata": {},
     "output_type": "execute_result"
    }
   ],
   "source": [
    "mse= mean_squared_error(y_test, predictions)\n",
    "rmse= np.sqrt(mse)\n",
    "rmse"
   ]
  },
  {
   "cell_type": "code",
   "execution_count": null,
   "metadata": {},
   "outputs": [],
   "source": []
  },
  {
   "cell_type": "markdown",
   "metadata": {},
   "source": [
    "## RANDOM FOREST PREDICTIVE MODEL"
   ]
  },
  {
   "cell_type": "code",
   "execution_count": 212,
   "metadata": {},
   "outputs": [
    {
     "data": {
      "text/html": [
       "<div>\n",
       "<style scoped>\n",
       "    .dataframe tbody tr th:only-of-type {\n",
       "        vertical-align: middle;\n",
       "    }\n",
       "\n",
       "    .dataframe tbody tr th {\n",
       "        vertical-align: top;\n",
       "    }\n",
       "\n",
       "    .dataframe thead th {\n",
       "        text-align: right;\n",
       "    }\n",
       "</style>\n",
       "<table border=\"1\" class=\"dataframe\">\n",
       "  <thead>\n",
       "    <tr style=\"text-align: right;\">\n",
       "      <th></th>\n",
       "      <th>NYT_sentiment</th>\n",
       "      <th>unemployment_rate</th>\n",
       "      <th>CPI</th>\n",
       "      <th>Consumer_debt_service</th>\n",
       "      <th>GDP_growth</th>\n",
       "      <th>GDP</th>\n",
       "      <th>Gold_Returns</th>\n",
       "    </tr>\n",
       "    <tr>\n",
       "      <th>DATE</th>\n",
       "      <th></th>\n",
       "      <th></th>\n",
       "      <th></th>\n",
       "      <th></th>\n",
       "      <th></th>\n",
       "      <th></th>\n",
       "      <th></th>\n",
       "    </tr>\n",
       "  </thead>\n",
       "  <tbody>\n",
       "    <tr>\n",
       "      <th>1992-12-01</th>\n",
       "      <td>0.458857</td>\n",
       "      <td>7.4</td>\n",
       "      <td>-55.865683</td>\n",
       "      <td>4.660212</td>\n",
       "      <td>4.4</td>\n",
       "      <td>-4628.850176</td>\n",
       "      <td>-0.770981</td>\n",
       "    </tr>\n",
       "    <tr>\n",
       "      <th>1993-11-01</th>\n",
       "      <td>0.762175</td>\n",
       "      <td>6.6</td>\n",
       "      <td>-4.077295</td>\n",
       "      <td>4.755414</td>\n",
       "      <td>2.6</td>\n",
       "      <td>-676.804025</td>\n",
       "      <td>0.069956</td>\n",
       "    </tr>\n",
       "    <tr>\n",
       "      <th>1993-12-01</th>\n",
       "      <td>0.500550</td>\n",
       "      <td>6.5</td>\n",
       "      <td>-49.461028</td>\n",
       "      <td>4.755414</td>\n",
       "      <td>2.6</td>\n",
       "      <td>-4202.521831</td>\n",
       "      <td>0.114896</td>\n",
       "    </tr>\n",
       "    <tr>\n",
       "      <th>1994-11-01</th>\n",
       "      <td>0.667100</td>\n",
       "      <td>5.6</td>\n",
       "      <td>-4.587534</td>\n",
       "      <td>5.120072</td>\n",
       "      <td>4.1</td>\n",
       "      <td>-618.354534</td>\n",
       "      <td>0.058500</td>\n",
       "    </tr>\n",
       "    <tr>\n",
       "      <th>1994-12-01</th>\n",
       "      <td>0.366667</td>\n",
       "      <td>5.5</td>\n",
       "      <td>-43.478215</td>\n",
       "      <td>5.120072</td>\n",
       "      <td>4.1</td>\n",
       "      <td>-3636.164463</td>\n",
       "      <td>0.018762</td>\n",
       "    </tr>\n",
       "  </tbody>\n",
       "</table>\n",
       "</div>"
      ],
      "text/plain": [
       "            NYT_sentiment  unemployment_rate        CPI  \\\n",
       "DATE                                                      \n",
       "1992-12-01       0.458857                7.4 -55.865683   \n",
       "1993-11-01       0.762175                6.6  -4.077295   \n",
       "1993-12-01       0.500550                6.5 -49.461028   \n",
       "1994-11-01       0.667100                5.6  -4.587534   \n",
       "1994-12-01       0.366667                5.5 -43.478215   \n",
       "\n",
       "            Consumer_debt_service  GDP_growth          GDP  Gold_Returns  \n",
       "DATE                                                                      \n",
       "1992-12-01               4.660212         4.4 -4628.850176     -0.770981  \n",
       "1993-11-01               4.755414         2.6  -676.804025      0.069956  \n",
       "1993-12-01               4.755414         2.6 -4202.521831      0.114896  \n",
       "1994-11-01               5.120072         4.1  -618.354534      0.058500  \n",
       "1994-12-01               5.120072         4.1 -3636.164463      0.018762  "
      ]
     },
     "execution_count": 212,
     "metadata": {},
     "output_type": "execute_result"
    }
   ],
   "source": [
    "# Define features set\n",
    "X = Main_2.copy()\n",
    "X.drop({\"sales\",'shifted_sales','Retail_Index_Returns', 'consumer_sentiments', 'gas_prices'}, axis=1, inplace=True)\n",
    "\n",
    "X.head()\n"
   ]
  },
  {
   "cell_type": "code",
   "execution_count": 213,
   "metadata": {},
   "outputs": [
    {
     "data": {
      "text/plain": [
       "array([[ 155602.4617 ],\n",
       "       [ -18182.99304],\n",
       "       [-143836.9658 ],\n",
       "       [ -15860.78098],\n",
       "       [-125760.2338 ]])"
      ]
     },
     "execution_count": 213,
     "metadata": {},
     "output_type": "execute_result"
    }
   ],
   "source": [
    "# Define target vector\n",
    "y = Main_2[\"shifted_sales\"].values.reshape(-1, 1)\n",
    "y[:5]\n"
   ]
  },
  {
   "cell_type": "code",
   "execution_count": 214,
   "metadata": {},
   "outputs": [],
   "source": [
    "# Splitting into Train and Test sets\n",
    "X_train, X_test, y_train, y_test = train_test_split(X, y, random_state=78)\n"
   ]
  },
  {
   "cell_type": "code",
   "execution_count": 215,
   "metadata": {},
   "outputs": [
    {
     "name": "stderr",
     "output_type": "stream",
     "text": [
      "/opt/anaconda3/lib/python3.7/site-packages/ipykernel_launcher.py:4: DataConversionWarning: A column-vector y was passed when a 1d array was expected. Please change the shape of y to (n_samples,), for example using ravel().\n",
      "  after removing the cwd from sys.path.\n"
     ]
    }
   ],
   "source": [
    "# Create a random forest classifier\n",
    "rf_model = RandomForestRegressor(n_estimators=500, random_state=78)\n",
    "# Fitting the model\n",
    "rf_model = rf_model.fit(X_train, y_train)\n",
    "# Making predictions using the testing data\n",
    "predictions_1 = rf_model.predict(X_test)\n"
   ]
  },
  {
   "cell_type": "code",
   "execution_count": 216,
   "metadata": {},
   "outputs": [
    {
     "data": {
      "text/plain": [
       "<AxesSubplot:>"
      ]
     },
     "execution_count": 216,
     "metadata": {},
     "output_type": "execute_result"
    },
    {
     "data": {
      "image/png": "[encoded data removed]",
      "text/plain": [
       "<Figure size 432x288 with 1 Axes>"
      ]
     },
     "metadata": {
      "needs_background": "light"
     },
     "output_type": "display_data"
    }
   ],
   "source": [
    "\n",
    "Predictions_forest=pd.DataFrame({\"Prediction\": predictions_1, \"Actual\": y_test.ravel()}).head(20)\n",
    "Predictions_forest.plot()"
   ]
  },
  {
   "cell_type": "code",
   "execution_count": 217,
   "metadata": {},
   "outputs": [
    {
     "data": {
      "text/plain": [
       "0.9628939513351432"
      ]
     },
     "execution_count": 217,
     "metadata": {},
     "output_type": "execute_result"
    }
   ],
   "source": [
    "r2_score(y_test, predictions_1)\n"
   ]
  },
  {
   "cell_type": "code",
   "execution_count": 218,
   "metadata": {},
   "outputs": [
    {
     "data": {
      "text/plain": [
       "74467445.56321658"
      ]
     },
     "execution_count": 218,
     "metadata": {},
     "output_type": "execute_result"
    }
   ],
   "source": [
    "mse = mean_squared_error(y_test, predictions_1)\n",
    "mse"
   ]
  },
  {
   "cell_type": "code",
   "execution_count": 219,
   "metadata": {},
   "outputs": [
    {
     "data": {
      "text/plain": [
       "8629.452216868494"
      ]
     },
     "execution_count": 219,
     "metadata": {},
     "output_type": "execute_result"
    }
   ],
   "source": [
    "mse= mean_squared_error(y_test, predictions_1)\n",
    "rmse= np.sqrt(mse)\n",
    "rmse"
   ]
  },
  {
   "cell_type": "code",
   "execution_count": 230,
   "metadata": {},
   "outputs": [
    {
     "data": {
      "text/html": [
       "<div>\n",
       "<style scoped>\n",
       "    .dataframe tbody tr th:only-of-type {\n",
       "        vertical-align: middle;\n",
       "    }\n",
       "\n",
       "    .dataframe tbody tr th {\n",
       "        vertical-align: top;\n",
       "    }\n",
       "\n",
       "    .dataframe thead th {\n",
       "        text-align: right;\n",
       "    }\n",
       "</style>\n",
       "<table border=\"1\" class=\"dataframe\">\n",
       "  <thead>\n",
       "    <tr style=\"text-align: right;\">\n",
       "      <th></th>\n",
       "      <th>NYT_sentiment</th>\n",
       "      <th>gas_prices</th>\n",
       "      <th>consumer_sentiments</th>\n",
       "      <th>unemployment_rate</th>\n",
       "      <th>CPI</th>\n",
       "      <th>Retail_Index_Returns</th>\n",
       "      <th>Consumer_debt_service</th>\n",
       "      <th>GDP_growth</th>\n",
       "      <th>sales</th>\n",
       "      <th>GDP</th>\n",
       "      <th>Gold_Returns</th>\n",
       "      <th>shifted_sales</th>\n",
       "    </tr>\n",
       "    <tr>\n",
       "      <th>DATE</th>\n",
       "      <th></th>\n",
       "      <th></th>\n",
       "      <th></th>\n",
       "      <th></th>\n",
       "      <th></th>\n",
       "      <th></th>\n",
       "      <th></th>\n",
       "      <th></th>\n",
       "      <th></th>\n",
       "      <th></th>\n",
       "      <th></th>\n",
       "      <th></th>\n",
       "    </tr>\n",
       "  </thead>\n",
       "  <tbody>\n",
       "    <tr>\n",
       "      <th>2019-11-01</th>\n",
       "      <td>0.000000</td>\n",
       "      <td>2.59775</td>\n",
       "      <td>96.8</td>\n",
       "      <td>3.5</td>\n",
       "      <td>57.165400</td>\n",
       "      <td>0.010350</td>\n",
       "      <td>5.614131</td>\n",
       "      <td>2.3</td>\n",
       "      <td>155602.46170</td>\n",
       "      <td>4612.023799</td>\n",
       "      <td>0.186882</td>\n",
       "      <td>136264.76990</td>\n",
       "    </tr>\n",
       "    <tr>\n",
       "      <th>2019-12-01</th>\n",
       "      <td>0.222725</td>\n",
       "      <td>2.55500</td>\n",
       "      <td>99.3</td>\n",
       "      <td>3.5</td>\n",
       "      <td>5.739651</td>\n",
       "      <td>0.003374</td>\n",
       "      <td>5.614131</td>\n",
       "      <td>2.3</td>\n",
       "      <td>28358.26541</td>\n",
       "      <td>729.914743</td>\n",
       "      <td>0.266333</td>\n",
       "      <td>14725.14937</td>\n",
       "    </tr>\n",
       "  </tbody>\n",
       "</table>\n",
       "</div>"
      ],
      "text/plain": [
       "            NYT_sentiment  gas_prices  consumer_sentiments  unemployment_rate  \\\n",
       "DATE                                                                            \n",
       "2019-11-01       0.000000     2.59775                 96.8                3.5   \n",
       "2019-12-01       0.222725     2.55500                 99.3                3.5   \n",
       "\n",
       "                  CPI  Retail_Index_Returns  Consumer_debt_service  \\\n",
       "DATE                                                                 \n",
       "2019-11-01  57.165400              0.010350               5.614131   \n",
       "2019-12-01   5.739651              0.003374               5.614131   \n",
       "\n",
       "            GDP_growth         sales          GDP  Gold_Returns  shifted_sales  \n",
       "DATE                                                                            \n",
       "2019-11-01         2.3  155602.46170  4612.023799      0.186882   136264.76990  \n",
       "2019-12-01         2.3   28358.26541   729.914743      0.266333    14725.14937  "
      ]
     },
     "execution_count": 230,
     "metadata": {},
     "output_type": "execute_result"
    }
   ],
   "source": [
    "X_P= Main_2.tail(2)\n",
    "X_P"
   ]
  },
  {
   "cell_type": "code",
   "execution_count": 232,
   "metadata": {},
   "outputs": [
    {
     "data": {
      "text/plain": [
       "array([  54944.84552452,  -13916.33571303, -101407.76352706,\n",
       "        -16159.75164795, -110716.65222824,  -14233.10371317,\n",
       "       -107675.28276355,  -14146.86076554,  -88727.10719252,\n",
       "        -13632.41496685,  -70901.57016347,  -12791.34639226,\n",
       "        -63163.4103279 ,  -12224.37430836,  -50377.78350674,\n",
       "         -6923.25764525,  -27951.00081986,   -7770.50772708,\n",
       "        -18371.32886851,  -15043.74023048,  -20461.93277406,\n",
       "         -9335.21603985,  -15698.94515781,   -2192.97378871,\n",
       "         -4892.1908865 ,    6784.17906909,    6430.35648868,\n",
       "         15202.80732776,   14733.481425  ,   17646.5483508 ,\n",
       "         19196.96155336,   14300.40391301,   14364.09584834,\n",
       "         -7839.58235775,   -9811.54095412,   -6314.09806866,\n",
       "        -14608.66272231,   16103.1190931 ,   -7718.59528539,\n",
       "         27173.88432872,   -1585.78428583,   37094.04444547,\n",
       "          3584.70421286,   53571.73278819,    8070.81945819,\n",
       "         62077.37030336,   11035.51983019,   71468.99014946,\n",
       "          8789.13548437,   92071.68040207,   12173.28314673,\n",
       "        111066.79947166,   20826.98184924,  120184.35385522,\n",
       "         17772.42584256])"
      ]
     },
     "execution_count": 232,
     "metadata": {},
     "output_type": "execute_result"
    }
   ],
   "source": [
    "predictions_end = rf_model.predict(X)\n",
    "predictions_end"
   ]
  },
  {
   "cell_type": "code",
   "execution_count": 234,
   "metadata": {},
   "outputs": [
    {
     "ename": "ValueError",
     "evalue": "arrays must all be same length",
     "output_type": "error",
     "traceback": [
      "\u001b[0;31m---------------------------------------------------------------------------\u001b[0m",
      "\u001b[0;31mValueError\u001b[0m                                Traceback (most recent call last)",
      "\u001b[0;32m<ipython-input-234-317dce9ebaab>\u001b[0m in \u001b[0;36m<module>\u001b[0;34m\u001b[0m\n\u001b[0;32m----> 1\u001b[0;31m \u001b[0mPredictions_f\u001b[0m\u001b[0;34m=\u001b[0m\u001b[0mpd\u001b[0m\u001b[0;34m.\u001b[0m\u001b[0mDataFrame\u001b[0m\u001b[0;34m(\u001b[0m\u001b[0;34m{\u001b[0m\u001b[0;34m\"Prediction\"\u001b[0m\u001b[0;34m:\u001b[0m \u001b[0mpredictions_end\u001b[0m\u001b[0;34m,\u001b[0m \u001b[0;34m\"Actual\"\u001b[0m\u001b[0;34m:\u001b[0m \u001b[0my_test\u001b[0m\u001b[0;34m.\u001b[0m\u001b[0mravel\u001b[0m\u001b[0;34m(\u001b[0m\u001b[0;34m)\u001b[0m\u001b[0;34m}\u001b[0m\u001b[0;34m)\u001b[0m\u001b[0;34m\u001b[0m\u001b[0;34m\u001b[0m\u001b[0m\n\u001b[0m\u001b[1;32m      2\u001b[0m \u001b[0mPredictions_f\u001b[0m\u001b[0;34m\u001b[0m\u001b[0;34m\u001b[0m\u001b[0m\n",
      "\u001b[0;32m/opt/anaconda3/lib/python3.7/site-packages/pandas/core/frame.py\u001b[0m in \u001b[0;36m__init__\u001b[0;34m(self, data, index, columns, dtype, copy)\u001b[0m\n\u001b[1;32m    390\u001b[0m                                  dtype=dtype, copy=copy)\n\u001b[1;32m    391\u001b[0m         \u001b[0;32melif\u001b[0m \u001b[0misinstance\u001b[0m\u001b[0;34m(\u001b[0m\u001b[0mdata\u001b[0m\u001b[0;34m,\u001b[0m \u001b[0mdict\u001b[0m\u001b[0;34m)\u001b[0m\u001b[0;34m:\u001b[0m\u001b[0;34m\u001b[0m\u001b[0;34m\u001b[0m\u001b[0m\n\u001b[0;32m--> 392\u001b[0;31m             \u001b[0mmgr\u001b[0m \u001b[0;34m=\u001b[0m \u001b[0minit_dict\u001b[0m\u001b[0;34m(\u001b[0m\u001b[0mdata\u001b[0m\u001b[0;34m,\u001b[0m \u001b[0mindex\u001b[0m\u001b[0;34m,\u001b[0m \u001b[0mcolumns\u001b[0m\u001b[0;34m,\u001b[0m \u001b[0mdtype\u001b[0m\u001b[0;34m=\u001b[0m\u001b[0mdtype\u001b[0m\u001b[0;34m)\u001b[0m\u001b[0;34m\u001b[0m\u001b[0;34m\u001b[0m\u001b[0m\n\u001b[0m\u001b[1;32m    393\u001b[0m         \u001b[0;32melif\u001b[0m \u001b[0misinstance\u001b[0m\u001b[0;34m(\u001b[0m\u001b[0mdata\u001b[0m\u001b[0;34m,\u001b[0m \u001b[0mma\u001b[0m\u001b[0;34m.\u001b[0m\u001b[0mMaskedArray\u001b[0m\u001b[0;34m)\u001b[0m\u001b[0;34m:\u001b[0m\u001b[0;34m\u001b[0m\u001b[0;34m\u001b[0m\u001b[0m\n\u001b[1;32m    394\u001b[0m             \u001b[0;32mimport\u001b[0m \u001b[0mnumpy\u001b[0m\u001b[0;34m.\u001b[0m\u001b[0mma\u001b[0m\u001b[0;34m.\u001b[0m\u001b[0mmrecords\u001b[0m \u001b[0;32mas\u001b[0m \u001b[0mmrecords\u001b[0m\u001b[0;34m\u001b[0m\u001b[0;34m\u001b[0m\u001b[0m\n",
      "\u001b[0;32m/opt/anaconda3/lib/python3.7/site-packages/pandas/core/internals/construction.py\u001b[0m in \u001b[0;36minit_dict\u001b[0;34m(data, index, columns, dtype)\u001b[0m\n\u001b[1;32m    210\u001b[0m         \u001b[0marrays\u001b[0m \u001b[0;34m=\u001b[0m \u001b[0;34m[\u001b[0m\u001b[0mdata\u001b[0m\u001b[0;34m[\u001b[0m\u001b[0mk\u001b[0m\u001b[0;34m]\u001b[0m \u001b[0;32mfor\u001b[0m \u001b[0mk\u001b[0m \u001b[0;32min\u001b[0m \u001b[0mkeys\u001b[0m\u001b[0;34m]\u001b[0m\u001b[0;34m\u001b[0m\u001b[0;34m\u001b[0m\u001b[0m\n\u001b[1;32m    211\u001b[0m \u001b[0;34m\u001b[0m\u001b[0m\n\u001b[0;32m--> 212\u001b[0;31m     \u001b[0;32mreturn\u001b[0m \u001b[0marrays_to_mgr\u001b[0m\u001b[0;34m(\u001b[0m\u001b[0marrays\u001b[0m\u001b[0;34m,\u001b[0m \u001b[0mdata_names\u001b[0m\u001b[0;34m,\u001b[0m \u001b[0mindex\u001b[0m\u001b[0;34m,\u001b[0m \u001b[0mcolumns\u001b[0m\u001b[0;34m,\u001b[0m \u001b[0mdtype\u001b[0m\u001b[0;34m=\u001b[0m\u001b[0mdtype\u001b[0m\u001b[0;34m)\u001b[0m\u001b[0;34m\u001b[0m\u001b[0;34m\u001b[0m\u001b[0m\n\u001b[0m\u001b[1;32m    213\u001b[0m \u001b[0;34m\u001b[0m\u001b[0m\n\u001b[1;32m    214\u001b[0m \u001b[0;34m\u001b[0m\u001b[0m\n",
      "\u001b[0;32m/opt/anaconda3/lib/python3.7/site-packages/pandas/core/internals/construction.py\u001b[0m in \u001b[0;36marrays_to_mgr\u001b[0;34m(arrays, arr_names, index, columns, dtype)\u001b[0m\n\u001b[1;32m     49\u001b[0m     \u001b[0;31m# figure out the index, if necessary\u001b[0m\u001b[0;34m\u001b[0m\u001b[0;34m\u001b[0m\u001b[0;34m\u001b[0m\u001b[0m\n\u001b[1;32m     50\u001b[0m     \u001b[0;32mif\u001b[0m \u001b[0mindex\u001b[0m \u001b[0;32mis\u001b[0m \u001b[0;32mNone\u001b[0m\u001b[0;34m:\u001b[0m\u001b[0;34m\u001b[0m\u001b[0;34m\u001b[0m\u001b[0m\n\u001b[0;32m---> 51\u001b[0;31m         \u001b[0mindex\u001b[0m \u001b[0;34m=\u001b[0m \u001b[0mextract_index\u001b[0m\u001b[0;34m(\u001b[0m\u001b[0marrays\u001b[0m\u001b[0;34m)\u001b[0m\u001b[0;34m\u001b[0m\u001b[0;34m\u001b[0m\u001b[0m\n\u001b[0m\u001b[1;32m     52\u001b[0m     \u001b[0;32melse\u001b[0m\u001b[0;34m:\u001b[0m\u001b[0;34m\u001b[0m\u001b[0;34m\u001b[0m\u001b[0m\n\u001b[1;32m     53\u001b[0m         \u001b[0mindex\u001b[0m \u001b[0;34m=\u001b[0m \u001b[0mensure_index\u001b[0m\u001b[0;34m(\u001b[0m\u001b[0mindex\u001b[0m\u001b[0;34m)\u001b[0m\u001b[0;34m\u001b[0m\u001b[0;34m\u001b[0m\u001b[0m\n",
      "\u001b[0;32m/opt/anaconda3/lib/python3.7/site-packages/pandas/core/internals/construction.py\u001b[0m in \u001b[0;36mextract_index\u001b[0;34m(data)\u001b[0m\n\u001b[1;32m    315\u001b[0m             \u001b[0mlengths\u001b[0m \u001b[0;34m=\u001b[0m \u001b[0mlist\u001b[0m\u001b[0;34m(\u001b[0m\u001b[0mset\u001b[0m\u001b[0;34m(\u001b[0m\u001b[0mraw_lengths\u001b[0m\u001b[0;34m)\u001b[0m\u001b[0;34m)\u001b[0m\u001b[0;34m\u001b[0m\u001b[0;34m\u001b[0m\u001b[0m\n\u001b[1;32m    316\u001b[0m             \u001b[0;32mif\u001b[0m \u001b[0mlen\u001b[0m\u001b[0;34m(\u001b[0m\u001b[0mlengths\u001b[0m\u001b[0;34m)\u001b[0m \u001b[0;34m>\u001b[0m \u001b[0;36m1\u001b[0m\u001b[0;34m:\u001b[0m\u001b[0;34m\u001b[0m\u001b[0;34m\u001b[0m\u001b[0m\n\u001b[0;32m--> 317\u001b[0;31m                 \u001b[0;32mraise\u001b[0m \u001b[0mValueError\u001b[0m\u001b[0;34m(\u001b[0m\u001b[0;34m'arrays must all be same length'\u001b[0m\u001b[0;34m)\u001b[0m\u001b[0;34m\u001b[0m\u001b[0;34m\u001b[0m\u001b[0m\n\u001b[0m\u001b[1;32m    318\u001b[0m \u001b[0;34m\u001b[0m\u001b[0m\n\u001b[1;32m    319\u001b[0m             \u001b[0;32mif\u001b[0m \u001b[0mhave_dicts\u001b[0m\u001b[0;34m:\u001b[0m\u001b[0;34m\u001b[0m\u001b[0;34m\u001b[0m\u001b[0m\n",
      "\u001b[0;31mValueError\u001b[0m: arrays must all be same length"
     ]
    }
   ],
   "source": [
    "Predictions_f=pd.DataFrame({\"Prediction\": predictions_end, \"Actual\": y.ravel()})\n",
    "Predictions_f"
   ]
  },
  {
   "cell_type": "markdown",
   "metadata": {},
   "source": [
    "## GRADIENT BOOST MODEL"
   ]
  },
  {
   "cell_type": "code",
   "execution_count": 137,
   "metadata": {},
   "outputs": [
    {
     "data": {
      "text/plain": [
       "array([[-18182.99304],\n",
       "       [-15860.78098],\n",
       "       [-12429.20455],\n",
       "       [-14721.98639],\n",
       "       [-14186.08089]])"
      ]
     },
     "execution_count": 137,
     "metadata": {},
     "output_type": "execute_result"
    }
   ],
   "source": [
    "# Define features set\n",
    "X = MAIN_df.copy()\n",
    "X.drop({\"sales\"}, axis=1, inplace=True)\n",
    "X.head()\n",
    "\n",
    "# Define target vector\n",
    "y = MAIN_df[\"sales\"].values.reshape(-1, 1)\n",
    "y[:5]\n",
    "\n"
   ]
  },
  {
   "cell_type": "code",
   "execution_count": 138,
   "metadata": {},
   "outputs": [],
   "source": [
    "# Splitting into Train and Test sets\n",
    "X_train, X_test, y_train, y_test = train_test_split(X,\n",
    "                                                    y,\n",
    "                                                    random_state=78)\n",
    "\n"
   ]
  },
  {
   "cell_type": "code",
   "execution_count": 140,
   "metadata": {},
   "outputs": [
    {
     "data": {
      "text/html": [
       "<div>\n",
       "<style scoped>\n",
       "    .dataframe tbody tr th:only-of-type {\n",
       "        vertical-align: middle;\n",
       "    }\n",
       "\n",
       "    .dataframe tbody tr th {\n",
       "        vertical-align: top;\n",
       "    }\n",
       "\n",
       "    .dataframe thead th {\n",
       "        text-align: right;\n",
       "    }\n",
       "</style>\n",
       "<table border=\"1\" class=\"dataframe\">\n",
       "  <thead>\n",
       "    <tr style=\"text-align: right;\">\n",
       "      <th></th>\n",
       "      <th>Prediction</th>\n",
       "      <th>Actual</th>\n",
       "    </tr>\n",
       "  </thead>\n",
       "  <tbody>\n",
       "    <tr>\n",
       "      <th>0</th>\n",
       "      <td>-9682.831053</td>\n",
       "      <td>-24116.553180</td>\n",
       "    </tr>\n",
       "    <tr>\n",
       "      <th>1</th>\n",
       "      <td>9448.612192</td>\n",
       "      <td>13296.818400</td>\n",
       "    </tr>\n",
       "    <tr>\n",
       "      <th>2</th>\n",
       "      <td>78034.484778</td>\n",
       "      <td>87065.740710</td>\n",
       "    </tr>\n",
       "    <tr>\n",
       "      <th>3</th>\n",
       "      <td>5503.467099</td>\n",
       "      <td>10382.970910</td>\n",
       "    </tr>\n",
       "    <tr>\n",
       "      <th>4</th>\n",
       "      <td>-17318.629922</td>\n",
       "      <td>4820.265943</td>\n",
       "    </tr>\n",
       "    <tr>\n",
       "      <th>5</th>\n",
       "      <td>-50741.570408</td>\n",
       "      <td>-93826.982850</td>\n",
       "    </tr>\n",
       "    <tr>\n",
       "      <th>6</th>\n",
       "      <td>-23015.430577</td>\n",
       "      <td>-4767.364590</td>\n",
       "    </tr>\n",
       "    <tr>\n",
       "      <th>7</th>\n",
       "      <td>23470.089879</td>\n",
       "      <td>30654.609980</td>\n",
       "    </tr>\n",
       "    <tr>\n",
       "      <th>8</th>\n",
       "      <td>-11030.680757</td>\n",
       "      <td>-4139.194174</td>\n",
       "    </tr>\n",
       "    <tr>\n",
       "      <th>9</th>\n",
       "      <td>-12044.958789</td>\n",
       "      <td>-10241.500530</td>\n",
       "    </tr>\n",
       "    <tr>\n",
       "      <th>10</th>\n",
       "      <td>-8274.191009</td>\n",
       "      <td>-14045.354160</td>\n",
       "    </tr>\n",
       "    <tr>\n",
       "      <th>11</th>\n",
       "      <td>24630.207102</td>\n",
       "      <td>21482.947170</td>\n",
       "    </tr>\n",
       "    <tr>\n",
       "      <th>12</th>\n",
       "      <td>-18605.724245</td>\n",
       "      <td>-54482.408990</td>\n",
       "    </tr>\n",
       "    <tr>\n",
       "      <th>13</th>\n",
       "      <td>37877.952156</td>\n",
       "      <td>24356.842720</td>\n",
       "    </tr>\n",
       "  </tbody>\n",
       "</table>\n",
       "</div>"
      ],
      "text/plain": [
       "      Prediction        Actual\n",
       "0   -9682.831053 -24116.553180\n",
       "1    9448.612192  13296.818400\n",
       "2   78034.484778  87065.740710\n",
       "3    5503.467099  10382.970910\n",
       "4  -17318.629922   4820.265943\n",
       "5  -50741.570408 -93826.982850\n",
       "6  -23015.430577  -4767.364590\n",
       "7   23470.089879  30654.609980\n",
       "8  -11030.680757  -4139.194174\n",
       "9  -12044.958789 -10241.500530\n",
       "10  -8274.191009 -14045.354160\n",
       "11  24630.207102  21482.947170\n",
       "12 -18605.724245 -54482.408990\n",
       "13  37877.952156  24356.842720"
      ]
     },
     "execution_count": 140,
     "metadata": {},
     "output_type": "execute_result"
    }
   ],
   "source": [
    "# Create a regression object\n",
    "learning_rates = [0.05, 0.1, 0.25, 0.5, 0.75, 1]\n",
    "for learning_rate in learning_rates:\n",
    "    regressor = GradientBoostingRegressor(n_estimators=20,\n",
    "                                            learning_rate=learning_rate,\n",
    "                                            max_features=5,\n",
    "                                            max_depth=3,\n",
    "                                            random_state=0)\n",
    "# Fit the model\n",
    "regressor.fit(X_train, y_train.ravel())\n",
    "    \n",
    "# Make Prediction\n",
    "predictions = regressor.predict(X_test)\n",
    "pd.DataFrame({\"Prediction\": predictions, \"Actual\": y_test.ravel()}).head(20)"
   ]
  },
  {
   "cell_type": "code",
   "execution_count": null,
   "metadata": {},
   "outputs": [],
   "source": [
    "# Choose a learning rate and create regression\n",
    "classifier = GradientBoostingRegressor(n_estimators=20,\n",
    "                                        learning_rate=0.75,\n",
    "                                        max_features=5,\n",
    "                                        max_depth=3,\n",
    "                                        random_state=0)\n",
    "\n",
    "# Fit the model\n",
    "classifier.fit(X_train, y_train.ravel())\n",
    "\n",
    "# Make Prediction\n",
    "predictions = classifier.predict(X_test)\n",
    "predict=pd.DataFrame({\"Prediction\": predictions, \"Actual\": y_test.ravel()}).head(20)\n",
    "predict.plot()"
   ]
  },
  {
   "cell_type": "markdown",
   "metadata": {},
   "source": [
    "## EVALUATING THE MODEL"
   ]
  },
  {
   "cell_type": "code",
   "execution_count": 141,
   "metadata": {},
   "outputs": [
    {
     "data": {
      "text/plain": [
       "0.7951030399567943"
      ]
     },
     "execution_count": 141,
     "metadata": {},
     "output_type": "execute_result"
    }
   ],
   "source": [
    "r2_score(y_test, predictions)\n"
   ]
  },
  {
   "cell_type": "code",
   "execution_count": 142,
   "metadata": {},
   "outputs": [
    {
     "data": {
      "text/plain": [
       "330251457.8774289"
      ]
     },
     "execution_count": 142,
     "metadata": {},
     "output_type": "execute_result"
    }
   ],
   "source": [
    "mse = mean_squared_error(y_test, predictions)\n",
    "mse"
   ]
  },
  {
   "cell_type": "code",
   "execution_count": 143,
   "metadata": {},
   "outputs": [
    {
     "data": {
      "text/plain": [
       "18172.82195690666"
      ]
     },
     "execution_count": 143,
     "metadata": {},
     "output_type": "execute_result"
    }
   ],
   "source": [
    "mse= mean_squared_error(y_test, predictions)\n",
    "rmse= np.sqrt(mse)\n",
    "rmse"
   ]
  },
  {
   "cell_type": "code",
   "execution_count": null,
   "metadata": {},
   "outputs": [],
   "source": []
  },
  {
   "cell_type": "markdown",
   "metadata": {},
   "source": [
    "## GRADIENT BOOST PREDICTIVE"
   ]
  },
  {
   "cell_type": "code",
   "execution_count": 144,
   "metadata": {},
   "outputs": [
    {
     "data": {
      "text/html": [
       "<div>\n",
       "<style scoped>\n",
       "    .dataframe tbody tr th:only-of-type {\n",
       "        vertical-align: middle;\n",
       "    }\n",
       "\n",
       "    .dataframe tbody tr th {\n",
       "        vertical-align: top;\n",
       "    }\n",
       "\n",
       "    .dataframe thead th {\n",
       "        text-align: right;\n",
       "    }\n",
       "</style>\n",
       "<table border=\"1\" class=\"dataframe\">\n",
       "  <thead>\n",
       "    <tr style=\"text-align: right;\">\n",
       "      <th></th>\n",
       "      <th>NYT_sentiment</th>\n",
       "      <th>unemployment_rate</th>\n",
       "      <th>CPI</th>\n",
       "      <th>Consumer_debt_service</th>\n",
       "      <th>GDP_growth</th>\n",
       "      <th>GDP</th>\n",
       "      <th>Gold_Returns</th>\n",
       "    </tr>\n",
       "    <tr>\n",
       "      <th>DATE</th>\n",
       "      <th></th>\n",
       "      <th></th>\n",
       "      <th></th>\n",
       "      <th></th>\n",
       "      <th></th>\n",
       "      <th></th>\n",
       "      <th></th>\n",
       "    </tr>\n",
       "  </thead>\n",
       "  <tbody>\n",
       "    <tr>\n",
       "      <th>11/1/1993</th>\n",
       "      <td>0.762175</td>\n",
       "      <td>6.6</td>\n",
       "      <td>-4.077295</td>\n",
       "      <td>4.755414</td>\n",
       "      <td>2.6</td>\n",
       "      <td>-676.804025</td>\n",
       "      <td>0.069956</td>\n",
       "    </tr>\n",
       "    <tr>\n",
       "      <th>11/1/1994</th>\n",
       "      <td>0.667100</td>\n",
       "      <td>5.6</td>\n",
       "      <td>-4.587534</td>\n",
       "      <td>5.120072</td>\n",
       "      <td>4.1</td>\n",
       "      <td>-618.354534</td>\n",
       "      <td>0.058500</td>\n",
       "    </tr>\n",
       "    <tr>\n",
       "      <th>11/1/1995</th>\n",
       "      <td>0.485533</td>\n",
       "      <td>5.6</td>\n",
       "      <td>-4.990644</td>\n",
       "      <td>5.594352</td>\n",
       "      <td>2.2</td>\n",
       "      <td>-742.978904</td>\n",
       "      <td>-0.006632</td>\n",
       "    </tr>\n",
       "    <tr>\n",
       "      <th>11/1/1996</th>\n",
       "      <td>0.722600</td>\n",
       "      <td>5.4</td>\n",
       "      <td>-4.278919</td>\n",
       "      <td>5.777011</td>\n",
       "      <td>4.4</td>\n",
       "      <td>-621.669592</td>\n",
       "      <td>-0.011389</td>\n",
       "    </tr>\n",
       "    <tr>\n",
       "      <th>11/1/1997</th>\n",
       "      <td>0.855950</td>\n",
       "      <td>4.6</td>\n",
       "      <td>-5.541533</td>\n",
       "      <td>5.705666</td>\n",
       "      <td>4.5</td>\n",
       "      <td>-467.952693</td>\n",
       "      <td>-0.168962</td>\n",
       "    </tr>\n",
       "  </tbody>\n",
       "</table>\n",
       "</div>"
      ],
      "text/plain": [
       "           NYT_sentiment  unemployment_rate       CPI  Consumer_debt_service  \\\n",
       "DATE                                                                           \n",
       "11/1/1993       0.762175                6.6 -4.077295               4.755414   \n",
       "11/1/1994       0.667100                5.6 -4.587534               5.120072   \n",
       "11/1/1995       0.485533                5.6 -4.990644               5.594352   \n",
       "11/1/1996       0.722600                5.4 -4.278919               5.777011   \n",
       "11/1/1997       0.855950                4.6 -5.541533               5.705666   \n",
       "\n",
       "           GDP_growth         GDP  Gold_Returns  \n",
       "DATE                                             \n",
       "11/1/1993         2.6 -676.804025      0.069956  \n",
       "11/1/1994         4.1 -618.354534      0.058500  \n",
       "11/1/1995         2.2 -742.978904     -0.006632  \n",
       "11/1/1996         4.4 -621.669592     -0.011389  \n",
       "11/1/1997         4.5 -467.952693     -0.168962  "
      ]
     },
     "execution_count": 144,
     "metadata": {},
     "output_type": "execute_result"
    }
   ],
   "source": [
    "# Define features set\n",
    "X = Main_2.copy()\n",
    "X.drop({\"sales\",'shifted_sales','Retail_Index_Returns', 'consumer_sentiments', 'gas_prices'}, axis=1, inplace=True)\n",
    "\n",
    "X.head()\n"
   ]
  },
  {
   "cell_type": "code",
   "execution_count": 145,
   "metadata": {},
   "outputs": [
    {
     "data": {
      "text/plain": [
       "array([[-18182.99304],\n",
       "       [-15860.78098],\n",
       "       [-12429.20455],\n",
       "       [-14721.98639],\n",
       "       [-14186.08089]])"
      ]
     },
     "execution_count": 145,
     "metadata": {},
     "output_type": "execute_result"
    }
   ],
   "source": [
    "# Define target vector\n",
    "y = Main_2[\"shifted_sales\"].values.reshape(-1, 1)\n",
    "y[:5]\n"
   ]
  },
  {
   "cell_type": "code",
   "execution_count": 146,
   "metadata": {},
   "outputs": [],
   "source": [
    "# Splitting into Train and Test sets\n",
    "X_train, X_test, y_train, y_test = train_test_split(X,\n",
    "                                                    y,\n",
    "                                                    random_state=78)\n",
    "\n"
   ]
  },
  {
   "cell_type": "code",
   "execution_count": 147,
   "metadata": {},
   "outputs": [
    {
     "data": {
      "text/html": [
       "<div>\n",
       "<style scoped>\n",
       "    .dataframe tbody tr th:only-of-type {\n",
       "        vertical-align: middle;\n",
       "    }\n",
       "\n",
       "    .dataframe tbody tr th {\n",
       "        vertical-align: top;\n",
       "    }\n",
       "\n",
       "    .dataframe thead th {\n",
       "        text-align: right;\n",
       "    }\n",
       "</style>\n",
       "<table border=\"1\" class=\"dataframe\">\n",
       "  <thead>\n",
       "    <tr style=\"text-align: right;\">\n",
       "      <th></th>\n",
       "      <th>Prediction</th>\n",
       "      <th>Actual</th>\n",
       "    </tr>\n",
       "  </thead>\n",
       "  <tbody>\n",
       "    <tr>\n",
       "      <th>0</th>\n",
       "      <td>-3671.929670</td>\n",
       "      <td>-24116.553180</td>\n",
       "    </tr>\n",
       "    <tr>\n",
       "      <th>1</th>\n",
       "      <td>9386.449853</td>\n",
       "      <td>-10306.371500</td>\n",
       "    </tr>\n",
       "    <tr>\n",
       "      <th>2</th>\n",
       "      <td>69954.907480</td>\n",
       "      <td>87065.740710</td>\n",
       "    </tr>\n",
       "    <tr>\n",
       "      <th>3</th>\n",
       "      <td>6930.361035</td>\n",
       "      <td>8986.414982</td>\n",
       "    </tr>\n",
       "    <tr>\n",
       "      <th>4</th>\n",
       "      <td>-9237.287671</td>\n",
       "      <td>4820.265943</td>\n",
       "    </tr>\n",
       "    <tr>\n",
       "      <th>5</th>\n",
       "      <td>-119454.222917</td>\n",
       "      <td>-93826.982850</td>\n",
       "    </tr>\n",
       "    <tr>\n",
       "      <th>6</th>\n",
       "      <td>5708.302902</td>\n",
       "      <td>-4767.364590</td>\n",
       "    </tr>\n",
       "    <tr>\n",
       "      <th>7</th>\n",
       "      <td>22488.905814</td>\n",
       "      <td>30654.609980</td>\n",
       "    </tr>\n",
       "    <tr>\n",
       "      <th>8</th>\n",
       "      <td>10303.897186</td>\n",
       "      <td>-4139.194174</td>\n",
       "    </tr>\n",
       "    <tr>\n",
       "      <th>9</th>\n",
       "      <td>15381.116935</td>\n",
       "      <td>-10241.500530</td>\n",
       "    </tr>\n",
       "    <tr>\n",
       "      <th>10</th>\n",
       "      <td>3534.274363</td>\n",
       "      <td>-14045.354160</td>\n",
       "    </tr>\n",
       "    <tr>\n",
       "      <th>11</th>\n",
       "      <td>12544.210806</td>\n",
       "      <td>10382.970910</td>\n",
       "    </tr>\n",
       "    <tr>\n",
       "      <th>12</th>\n",
       "      <td>-122241.492730</td>\n",
       "      <td>-54482.408990</td>\n",
       "    </tr>\n",
       "    <tr>\n",
       "      <th>13</th>\n",
       "      <td>-5405.245158</td>\n",
       "      <td>24356.842720</td>\n",
       "    </tr>\n",
       "  </tbody>\n",
       "</table>\n",
       "</div>"
      ],
      "text/plain": [
       "       Prediction        Actual\n",
       "0    -3671.929670 -24116.553180\n",
       "1     9386.449853 -10306.371500\n",
       "2    69954.907480  87065.740710\n",
       "3     6930.361035   8986.414982\n",
       "4    -9237.287671   4820.265943\n",
       "5  -119454.222917 -93826.982850\n",
       "6     5708.302902  -4767.364590\n",
       "7    22488.905814  30654.609980\n",
       "8    10303.897186  -4139.194174\n",
       "9    15381.116935 -10241.500530\n",
       "10    3534.274363 -14045.354160\n",
       "11   12544.210806  10382.970910\n",
       "12 -122241.492730 -54482.408990\n",
       "13   -5405.245158  24356.842720"
      ]
     },
     "execution_count": 147,
     "metadata": {},
     "output_type": "execute_result"
    }
   ],
   "source": [
    "# Create a regression object\n",
    "learning_rates = [0.05, 0.1, 0.25, 0.5, 0.75, 1]\n",
    "for learning_rate in learning_rates:\n",
    "    regressor = GradientBoostingRegressor(n_estimators=20,\n",
    "                                            learning_rate=learning_rate,\n",
    "                                            max_features=5,\n",
    "                                            max_depth=3,\n",
    "                                            random_state=0)\n",
    "# Fit the model\n",
    "regressor.fit(X_train, y_train.ravel())\n",
    "    \n",
    "# Make Prediction\n",
    "predictions = regressor.predict(X_test)\n",
    "pd.DataFrame({\"Prediction\": predictions, \"Actual\": y_test.ravel()}).head(20)"
   ]
  },
  {
   "cell_type": "code",
   "execution_count": 148,
   "metadata": {},
   "outputs": [
    {
     "data": {
      "text/plain": [
       "0.5995808818136175"
      ]
     },
     "execution_count": 148,
     "metadata": {},
     "output_type": "execute_result"
    }
   ],
   "source": [
    "r2_score(y_test, predictions)\n"
   ]
  },
  {
   "cell_type": "code",
   "execution_count": 149,
   "metadata": {},
   "outputs": [
    {
     "data": {
      "text/plain": [
       "627821243.6266602"
      ]
     },
     "execution_count": 149,
     "metadata": {},
     "output_type": "execute_result"
    }
   ],
   "source": [
    "mse = mean_squared_error(y_test, predictions)\n",
    "mse"
   ]
  },
  {
   "cell_type": "code",
   "execution_count": 150,
   "metadata": {},
   "outputs": [
    {
     "data": {
      "text/plain": [
       "25056.361340519103"
      ]
     },
     "execution_count": 150,
     "metadata": {},
     "output_type": "execute_result"
    }
   ],
   "source": [
    "mse= mean_squared_error(y_test, predictions)\n",
    "rmse= np.sqrt(mse)\n",
    "rmse"
   ]
  },
  {
   "cell_type": "code",
   "execution_count": null,
   "metadata": {},
   "outputs": [],
   "source": []
  },
  {
   "cell_type": "code",
   "execution_count": null,
   "metadata": {},
   "outputs": [],
   "source": []
  },
  {
   "cell_type": "code",
   "execution_count": null,
   "metadata": {},
   "outputs": [],
   "source": []
  },
  {
   "cell_type": "code",
   "execution_count": null,
   "metadata": {},
   "outputs": [],
   "source": [
    "\n"
   ]
  },
  {
   "cell_type": "code",
   "execution_count": null,
   "metadata": {},
   "outputs": [],
   "source": []
  },
  {
   "cell_type": "code",
   "execution_count": null,
   "metadata": {},
   "outputs": [],
   "source": []
  },
  {
   "cell_type": "code",
   "execution_count": null,
   "metadata": {},
   "outputs": [],
   "source": []
  },
  {
   "cell_type": "code",
   "execution_count": null,
   "metadata": {},
   "outputs": [],
   "source": []
  },
  {
   "cell_type": "code",
   "execution_count": null,
   "metadata": {},
   "outputs": [],
   "source": []
  },
  {
   "cell_type": "code",
   "execution_count": null,
   "metadata": {},
   "outputs": [],
   "source": []
  },
  {
   "cell_type": "code",
   "execution_count": null,
   "metadata": {},
   "outputs": [],
   "source": []
  },
  {
   "cell_type": "code",
   "execution_count": null,
   "metadata": {},
   "outputs": [],
   "source": []
  },
  {
   "cell_type": "code",
   "execution_count": null,
   "metadata": {},
   "outputs": [],
   "source": []
  },
  {
   "cell_type": "code",
   "execution_count": null,
   "metadata": {},
   "outputs": [],
   "source": []
  }
 ],
 "metadata": {
  "kernelspec": {
   "display_name": "Python [conda env:root] *",
   "language": "python",
   "name": "conda-root-py"
  },
  "language_info": {
   "codemirror_mode": {
    "name": "ipython",
    "version": 3
   },
   "file_extension": ".py",
   "mimetype": "text/x-python",
   "name": "python",
   "nbconvert_exporter": "python",
   "pygments_lexer": "ipython3",
   "version": "3.7.6"
  }
 },
 "nbformat": 4,
 "nbformat_minor": 4
}
