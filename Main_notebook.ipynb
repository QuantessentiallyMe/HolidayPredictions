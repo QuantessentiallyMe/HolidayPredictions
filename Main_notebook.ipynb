{
 "cells": [
  {
   "cell_type": "code",
   "execution_count": null,
   "metadata": {},
   "outputs": [],
   "source": []
  },
  {
   "cell_type": "markdown",
   "metadata": {},
   "source": [
    "# USING THE NEW YORK TIME API, WE WILL ANALYZE SENTIMENT OF THE LAST TWO MONTHS OF THE YEAR FROM 1992-2019 TO PREDICT SENTIMENT FOR 2020."
   ]
  },
  {
   "cell_type": "code",
   "execution_count": 71,
   "metadata": {},
   "outputs": [
    {
     "data": {
      "text/plain": [
       "True"
      ]
     },
     "execution_count": 71,
     "metadata": {},
     "output_type": "execute_result"
    }
   ],
   "source": [
    "import os\n",
    "import pandas as pd\n",
    "from dotenv import load_dotenv\n",
    "from nytimesarticle import articleAPI\n",
    "import nltk\n",
    "from nltk.sentiment.vader import SentimentIntensityAnalyzer\n",
    "from numpy.random import seed\n",
    "seed(1)\n",
    "from tensorflow import random\n",
    "random.set_seed(2)\n",
    "from pathlib import Path\n",
    "\n",
    "import numpy as np\n",
    "import hvplot.pandas\n",
    "\n",
    "from matplotlib import pyplot as plt\n",
    "import seaborn as sns\n",
    "\n",
    "from sklearn import tree\n",
    "from sklearn.preprocessing import StandardScaler\n",
    "from sklearn.model_selection import train_test_split\n",
    "from sklearn.metrics import confusion_matrix, accuracy_score, classification_report\n",
    "\n",
    "from sklearn.linear_model import LinearRegression\n",
    "from sklearn import metrics\n",
    "from sklearn.metrics import mean_squared_error, r2_score\n",
    "\n",
    "# Needed for decision tree visualization\n",
    "import pydotplus\n",
    "from IPython.display import Image\n",
    "\n",
    "from sklearn.ensemble import RandomForestRegressor\n",
    "\n",
    "# Needed for decision tree visualization\n",
    "import pydotplus\n",
    "from IPython.display import Image\n",
    "\n",
    "from sklearn.ensemble import GradientBoostingRegressor\n",
    "\n",
    "%matplotlib inline\n",
    "load_dotenv()"
   ]
  },
  {
   "cell_type": "code",
   "execution_count": 81,
   "metadata": {},
   "outputs": [
    {
     "data": {
      "text/plain": [
       "<nytimesarticle.articleAPI at 0x1a1508019c8>"
      ]
     },
     "execution_count": 81,
     "metadata": {},
     "output_type": "execute_result"
    }
   ],
   "source": [
    "#called api key\n",
    "nyt_api_key = os.getenv(\"NYT_API\")\n",
    "\n",
    "api= articleAPI(nyt_api_key)\n",
    "\n",
    "api"
   ]
  },
  {
   "cell_type": "code",
   "execution_count": null,
   "metadata": {},
   "outputs": [],
   "source": []
  },
  {
   "cell_type": "code",
   "execution_count": 82,
   "metadata": {},
   "outputs": [],
   "source": [
    "# pulled articles from NYT (90s)\n",
    "articles_92 = api.search(q=\"holiday sales\",begin_date=19921101, end_date=19921231)\n",
    "articles_93 = api.search(q=\"holiday sales\",begin_date=19931101, end_date=19931231)\n",
    "articles_94 = api.search(q=\"holiday sales\",begin_date=19941101, end_date=19941231)\n",
    "articles_95 = api.search(q=\"holiday sales\",begin_date=19951101, end_date=19951231)\n",
    "articles_96 = api.search(q=\"holiday sales\",begin_date=19961101, end_date=19961231)\n",
    "articles_97 = api.search(q=\"holiday sales\",begin_date=19971101, end_date=19971231)\n",
    "articles_98 = api.search(q=\"holiday sales\",begin_date=19981101, end_date=19981231)\n",
    "articles_99 = api.search(q=\"holiday sales\",begin_date=19991101, end_date=19991231)"
   ]
  },
  {
   "cell_type": "code",
   "execution_count": null,
   "metadata": {},
   "outputs": [],
   "source": []
  },
  {
   "cell_type": "code",
   "execution_count": 83,
   "metadata": {},
   "outputs": [],
   "source": [
    "# pulled articles from NYT(00s)\n",
    "articles_00 = api.search(q=\"holiday sales\",begin_date=20001101, end_date=20001231)\n",
    "articles_01 = api.search(q=\"holiday sales\",begin_date=20011101, end_date=20011231)\n",
    "articles_02 = api.search(q=\"holiday sales\",begin_date=20021101, end_date=20021231)\n",
    "articles_03 = api.search(q=\"holiday sales\",begin_date=20031101, end_date=20031231)\n",
    "articles_04 = api.search(q=\"holiday sales\",begin_date=20041101, end_date=20041231)\n",
    "articles_05 = api.search(q=\"holiday sales\",begin_date=20051101, end_date=20051231)\n",
    "articles_06 = api.search(q=\"holiday sales\",begin_date=20061101, end_date=20061231)\n",
    "articles_07 = api.search(q=\"holiday sales\",begin_date=20071101, end_date=20071231)\n",
    "articles_08 = api.search(q=\"holiday sales\",begin_date=20081101, end_date=20081231)\n",
    "articles_09 = api.search(q=\"holiday sales\",begin_date=20091101, end_date=20091231)\n"
   ]
  },
  {
   "cell_type": "code",
   "execution_count": 84,
   "metadata": {},
   "outputs": [],
   "source": [
    "#pulled articles for NYT (00-19)\n",
    "articles_10 = api.search(q=\"holiday sales\",begin_date=20101101, end_date=20101231)\n",
    "articles_11 = api.search(q=\"holiday sales\",begin_date=20111101, end_date=20111231)\n",
    "articles_12 = api.search(q=\"holiday sales\",begin_date=20121101, end_date=20121231)\n",
    "articles_13 = api.search(q=\"holiday sales\",begin_date=20131101, end_date=20131231)\n",
    "articles_14 = api.search(q=\"holiday sales\",begin_date=20141101, end_date=20141231)\n",
    "articles_15 = api.search(q=\"holiday sales\",begin_date=20151101, end_date=20151231)\n",
    "articles_16 = api.search(q=\"holiday sales\",begin_date=20161101, end_date=20161231)\n",
    "articles_17 = api.search(q=\"holiday sales\",begin_date=20171101, end_date=20171231)\n",
    "articles_18 = api.search(q=\"holiday sales\",begin_date=20181101, end_date=20181231)\n",
    "articles_19 = api.search(q=\"holiday sales\",begin_date=20191101, end_date=20191231)\n"
   ]
  },
  {
   "cell_type": "code",
   "execution_count": null,
   "metadata": {},
   "outputs": [],
   "source": [
    "\n"
   ]
  },
  {
   "cell_type": "code",
   "execution_count": 85,
   "metadata": {},
   "outputs": [
    {
     "ename": "KeyError",
     "evalue": "\"None of ['pub_date'] are in the columns\"",
     "output_type": "error",
     "traceback": [
      "\u001b[1;31m---------------------------------------------------------------------------\u001b[0m",
      "\u001b[1;31mKeyError\u001b[0m                                  Traceback (most recent call last)",
      "\u001b[1;32m<ipython-input-85-40afaa44404e>\u001b[0m in \u001b[0;36m<module>\u001b[1;34m\u001b[0m\n\u001b[0;32m      1\u001b[0m \u001b[1;31m# Dataframe for 92\u001b[0m\u001b[1;33m\u001b[0m\u001b[1;33m\u001b[0m\u001b[1;33m\u001b[0m\u001b[0m\n\u001b[0;32m      2\u001b[0m \u001b[0marticles92\u001b[0m\u001b[1;33m=\u001b[0m \u001b[0marticles_92\u001b[0m\u001b[1;33m[\u001b[0m\u001b[1;34m'response'\u001b[0m\u001b[1;33m]\u001b[0m\u001b[1;33m\u001b[0m\u001b[1;33m\u001b[0m\u001b[0m\n\u001b[1;32m----> 3\u001b[1;33m articles_df_92 = pd.DataFrame(articles92['docs']).set_index('pub_date').drop(columns = ['_id','byline', 'document_type','multimedia','news_desk'\n\u001b[0m\u001b[0;32m      4\u001b[0m                                                                          \u001b[1;33m,\u001b[0m\u001b[1;34m'print_page'\u001b[0m\u001b[1;33m,\u001b[0m\u001b[1;34m'print_section'\u001b[0m\u001b[1;33m,\u001b[0m\u001b[1;34m'snippet'\u001b[0m\u001b[1;33m,\u001b[0m\u001b[1;34m'source'\u001b[0m\u001b[1;33m,\u001b[0m\u001b[1;34m'subsection_name'\u001b[0m\u001b[1;33m\u001b[0m\u001b[1;33m\u001b[0m\u001b[0m\n\u001b[0;32m      5\u001b[0m                                                                          ,'type_of_material', 'uri','web_url','word_count','section_name'])\n",
      "\u001b[1;32m~\\anaconda3\\lib\\site-packages\\pandas\\core\\frame.py\u001b[0m in \u001b[0;36mset_index\u001b[1;34m(self, keys, drop, append, inplace, verify_integrity)\u001b[0m\n\u001b[0;32m   4301\u001b[0m \u001b[1;33m\u001b[0m\u001b[0m\n\u001b[0;32m   4302\u001b[0m         \u001b[1;32mif\u001b[0m \u001b[0mmissing\u001b[0m\u001b[1;33m:\u001b[0m\u001b[1;33m\u001b[0m\u001b[1;33m\u001b[0m\u001b[0m\n\u001b[1;32m-> 4303\u001b[1;33m             \u001b[1;32mraise\u001b[0m \u001b[0mKeyError\u001b[0m\u001b[1;33m(\u001b[0m\u001b[1;34mf\"None of {missing} are in the columns\"\u001b[0m\u001b[1;33m)\u001b[0m\u001b[1;33m\u001b[0m\u001b[1;33m\u001b[0m\u001b[0m\n\u001b[0m\u001b[0;32m   4304\u001b[0m \u001b[1;33m\u001b[0m\u001b[0m\n\u001b[0;32m   4305\u001b[0m         \u001b[1;32mif\u001b[0m \u001b[0minplace\u001b[0m\u001b[1;33m:\u001b[0m\u001b[1;33m\u001b[0m\u001b[1;33m\u001b[0m\u001b[0m\n",
      "\u001b[1;31mKeyError\u001b[0m: \"None of ['pub_date'] are in the columns\""
     ]
    }
   ],
   "source": [
    "# Dataframe for 92\n",
    "articles92= articles_92['response']\n",
    "articles_df_92 = pd.DataFrame(articles92['docs']).set_index('pub_date').drop(columns = ['_id','byline', 'document_type','multimedia','news_desk'\n",
    "                                                                         ,'print_page','print_section','snippet','source','subsection_name'\n",
    "                                                                         ,'type_of_material', 'uri','web_url','word_count','section_name'])\n",
    "\n",
    "articles_df_92.head()"
   ]
  },
  {
   "cell_type": "code",
   "execution_count": null,
   "metadata": {},
   "outputs": [],
   "source": [
    "# Dataframe for 93\n",
    "articles93= articles_93['response']\n",
    "articles_df_93 = pd.DataFrame(articles93['docs']).set_index('pub_date').drop(columns = ['_id','byline', 'document_type','multimedia','news_desk'\n",
    "                                                                         ,'print_page','print_section','snippet','source'\n",
    "                                                                         ,'type_of_material', 'uri','web_url','word_count','section_name'])\n",
    "articles_df_93.head()"
   ]
  },
  {
   "cell_type": "code",
   "execution_count": null,
   "metadata": {},
   "outputs": [],
   "source": [
    "# Dataframe for 94\n",
    "articles94= articles_94['response']\n",
    "articles_df_94 = pd.DataFrame(articles94['docs']).set_index('pub_date').drop(columns = ['_id','byline', 'document_type','multimedia','news_desk'\n",
    "                                                                         ,'print_page','print_section','snippet','source','subsection_name'\n",
    "                                                                         ,'type_of_material', 'uri','web_url','word_count','section_name'])\n",
    "articles_df_94.head()"
   ]
  },
  {
   "cell_type": "code",
   "execution_count": null,
   "metadata": {},
   "outputs": [],
   "source": [
    "# Dataframe for 95\n",
    "articles95= articles_95['response']\n",
    "articles_df_95 = pd.DataFrame(articles95['docs']).set_index('pub_date').drop(columns = ['_id','byline', 'document_type','multimedia','news_desk'\n",
    "                                                                         ,'print_page','print_section','snippet','source'\n",
    "                                                                         ,'type_of_material', 'uri','web_url','word_count','section_name'])\n",
    "articles_df_95.head()"
   ]
  },
  {
   "cell_type": "code",
   "execution_count": null,
   "metadata": {},
   "outputs": [],
   "source": [
    "# Dataframe for 96\n",
    "articles96= articles_96['response']\n",
    "articles_df_96 = pd.DataFrame(articles96['docs']).set_index('pub_date').drop(columns = ['_id','byline', 'document_type','multimedia','news_desk'\n",
    "                                                                         ,'print_page','print_section','snippet','source'\n",
    "                                                                         ,'type_of_material', 'uri','web_url','word_count','section_name'])\n",
    "articles_df_96.head()"
   ]
  },
  {
   "cell_type": "code",
   "execution_count": null,
   "metadata": {},
   "outputs": [],
   "source": [
    "# Dataframe for 97\n",
    "articles97= articles_97['response']\n",
    "articles_df_97 = pd.DataFrame(articles97['docs']).set_index('pub_date').drop(columns = ['_id','byline', 'document_type','multimedia','news_desk'\n",
    "                                                                         ,'print_page','print_section','snippet','source'\n",
    "                                                                         ,'type_of_material', 'uri','web_url','word_count','section_name'])\n",
    "articles_df_97.head()"
   ]
  },
  {
   "cell_type": "code",
   "execution_count": null,
   "metadata": {},
   "outputs": [],
   "source": [
    "# Dataframe for 98\n",
    "articles98= articles_98['response']\n",
    "articles_df_98 = pd.DataFrame(articles98['docs']).set_index('pub_date').drop(columns = ['_id','byline', 'document_type','multimedia','news_desk'\n",
    "                                                                         ,'print_page','print_section','snippet','source'\n",
    "                                                                         ,'type_of_material', 'uri','web_url','word_count','section_name'])\n",
    "articles_df_98.head()"
   ]
  },
  {
   "cell_type": "code",
   "execution_count": null,
   "metadata": {},
   "outputs": [],
   "source": []
  },
  {
   "cell_type": "code",
   "execution_count": null,
   "metadata": {},
   "outputs": [],
   "source": [
    "# Dataframe for 99\n",
    "articles99= articles_99['response']\n",
    "articles_df_99 = pd.DataFrame(articles99['docs']).set_index('pub_date').drop(columns = ['_id','byline', 'document_type','multimedia','news_desk'\n",
    "                                                                         ,'print_page','print_section','snippet','source'\n",
    "                                                                         ,'type_of_material', 'uri','web_url','word_count','section_name'])\n",
    "articles_df_99.head()"
   ]
  },
  {
   "cell_type": "code",
   "execution_count": null,
   "metadata": {},
   "outputs": [],
   "source": [
    "# Dataframe for 00\n",
    "articles00= articles_00['response']\n",
    "articles_df_00 = pd.DataFrame(articles00['docs']).set_index('pub_date').drop(columns = ['_id','byline', 'document_type','multimedia','news_desk'\n",
    "                                                                         ,'print_page','print_section','snippet','source'\n",
    "                                                                         ,'type_of_material', 'uri','web_url','word_count','section_name'])\n",
    "articles_df_00.head()"
   ]
  },
  {
   "cell_type": "code",
   "execution_count": null,
   "metadata": {},
   "outputs": [],
   "source": [
    "# Dataframe for 01\n",
    "articles01= articles_01['response']\n",
    "articles_df_01 = pd.DataFrame(articles01['docs']).set_index('pub_date').drop(columns = ['_id','byline', 'document_type','multimedia','news_desk'\n",
    "                                                                         ,'print_page','print_section','snippet','source'\n",
    "                                                                         ,'type_of_material', 'uri','web_url','word_count','section_name'])\n",
    "articles_df_01.head()"
   ]
  },
  {
   "cell_type": "code",
   "execution_count": null,
   "metadata": {},
   "outputs": [],
   "source": []
  },
  {
   "cell_type": "code",
   "execution_count": null,
   "metadata": {},
   "outputs": [],
   "source": [
    "# Dataframe for 02\n",
    "articles02= articles_02['response']\n",
    "articles_df_02 = pd.DataFrame(articles02['docs']).set_index('pub_date').drop(columns = ['_id','byline', 'document_type','multimedia','news_desk'\n",
    "                                                                         ,'print_page','print_section','snippet','source'\n",
    "                                                                         ,'type_of_material', 'uri','web_url','word_count','section_name'])\n",
    "articles_df_02.head()"
   ]
  },
  {
   "cell_type": "code",
   "execution_count": null,
   "metadata": {},
   "outputs": [],
   "source": [
    "# Dataframe for 03\n",
    "articles03= articles_03['response']\n",
    "articles_df_03 = pd.DataFrame(articles03['docs']).set_index('pub_date').drop(columns = ['_id','byline', 'document_type','multimedia','news_desk'\n",
    "                                                                         ,'print_page','print_section','snippet','source'\n",
    "                                                                         ,'type_of_material', 'uri','web_url','word_count','section_name'])\n",
    "articles_df_03.head()"
   ]
  },
  {
   "cell_type": "code",
   "execution_count": null,
   "metadata": {},
   "outputs": [],
   "source": [
    "# Dataframe for 04\n",
    "articles04= articles_04['response']\n",
    "articles_df_04 = pd.DataFrame(articles04['docs']).set_index('pub_date').drop(columns = ['_id','byline', 'document_type','multimedia','news_desk'\n",
    "                                                                         ,'print_page','print_section','snippet','source'\n",
    "                                                                         ,'type_of_material', 'uri','web_url','word_count','section_name'])\n",
    "articles_df_04.head()"
   ]
  },
  {
   "cell_type": "code",
   "execution_count": null,
   "metadata": {},
   "outputs": [],
   "source": [
    "# Dataframe for 05\n",
    "articles05= articles_05['response']\n",
    "articles_df_05 = pd.DataFrame(articles05['docs']).set_index('pub_date').drop(columns = ['_id','byline', 'document_type','multimedia','news_desk'\n",
    "                                                                         ,'print_page','print_section','snippet','source','subsection_name'\n",
    "                                                                         ,'type_of_material', 'uri','web_url','word_count','section_name'])\n",
    "articles_df_05.head()"
   ]
  },
  {
   "cell_type": "code",
   "execution_count": null,
   "metadata": {},
   "outputs": [],
   "source": [
    "# Dataframe for 06\n",
    "articles06= articles_06['response']\n",
    "articles_df_06 = pd.DataFrame(articles06['docs']).set_index('pub_date').drop(columns = ['_id','byline', 'document_type','multimedia','news_desk'\n",
    "                                                                         ,'print_page','print_section','snippet','source','subsection_name'\n",
    "                                                                         ,'type_of_material', 'uri','web_url','word_count','section_name'])\n",
    "articles_df_06.head()"
   ]
  },
  {
   "cell_type": "code",
   "execution_count": null,
   "metadata": {},
   "outputs": [],
   "source": [
    "# Dataframe for 07\n",
    "articles07= articles_07['response']\n",
    "articles_df_07 = pd.DataFrame(articles07['docs']).set_index('pub_date').drop(columns = ['_id','byline', 'document_type','multimedia','news_desk'\n",
    "                                                                         ,'print_page','print_section','snippet','source','subsection_name'\n",
    "                                                                         ,'type_of_material', 'uri','web_url','word_count','section_name'])\n",
    "articles_df_07.head()"
   ]
  },
  {
   "cell_type": "code",
   "execution_count": null,
   "metadata": {},
   "outputs": [],
   "source": [
    "# Dataframe for 08\n",
    "articles08= articles_08['response']\n",
    "articles_df_08 = pd.DataFrame(articles08['docs']).set_index('pub_date').drop(columns = ['_id','byline', 'document_type','multimedia','news_desk'\n",
    "                                                                         ,'print_page','print_section','snippet','source','subsection_name'\n",
    "                                                                         ,'type_of_material', 'uri','web_url','word_count','section_name'])\n",
    "articles_df_08.head()"
   ]
  },
  {
   "cell_type": "code",
   "execution_count": null,
   "metadata": {},
   "outputs": [],
   "source": [
    "# Dataframe for 09\n",
    "articles09= articles_09['response']\n",
    "articles_df_09 = pd.DataFrame(articles09['docs']).set_index('pub_date').drop(columns = ['_id','byline', 'document_type','multimedia','news_desk'\n",
    "                                                                         ,'print_page','print_section','snippet','source','subsection_name'\n",
    "                                                                         ,'type_of_material', 'uri','web_url','word_count','section_name'])\n",
    "articles_df_09.head()"
   ]
  },
  {
   "cell_type": "code",
   "execution_count": null,
   "metadata": {},
   "outputs": [],
   "source": [
    "# Dataframe for 10\n",
    "articles10= articles_10['response']\n",
    "articles_df_10 = pd.DataFrame(articles10['docs']).set_index('pub_date').drop(columns = ['_id','byline', 'document_type','multimedia','news_desk'\n",
    "                                                                         ,'print_page','print_section','snippet','source','subsection_name'\n",
    "                                                                         ,'type_of_material', 'uri','web_url','word_count','section_name'])\n",
    "articles_df_10.head()"
   ]
  },
  {
   "cell_type": "code",
   "execution_count": null,
   "metadata": {},
   "outputs": [],
   "source": [
    "# Dataframe for 11\n",
    "articles11= articles_11['response']\n",
    "articles_df_11 = pd.DataFrame(articles11['docs']).set_index('pub_date').drop(columns = ['_id','byline', 'document_type','multimedia','news_desk'\n",
    "                                                                         ,'print_page','print_section','snippet','source','subsection_name'\n",
    "                                                                         ,'type_of_material', 'uri','web_url','word_count','section_name'])\n",
    "articles_df_11.head()"
   ]
  },
  {
   "cell_type": "code",
   "execution_count": null,
   "metadata": {},
   "outputs": [],
   "source": [
    "# Dataframe for 12\n",
    "articles12= articles_12['response']\n",
    "articles_df_12 = pd.DataFrame(articles12['docs']).set_index('pub_date').drop(columns = ['_id','byline', 'document_type','multimedia','news_desk'\n",
    "                                                                         ,'print_page','print_section','snippet','source','subsection_name'\n",
    "                                                                         ,'type_of_material', 'uri','web_url','word_count','section_name'])\n",
    "articles_df_12.head()"
   ]
  },
  {
   "cell_type": "code",
   "execution_count": null,
   "metadata": {},
   "outputs": [],
   "source": [
    "# Dataframe for 13\n",
    "articles13= articles_13['response']\n",
    "articles_df_13 = pd.DataFrame(articles13['docs']).set_index('pub_date').drop(columns = ['_id','byline', 'document_type','multimedia','news_desk'\n",
    "                                                                         ,'print_page','print_section','snippet','source'\n",
    "                                                                         ,'type_of_material', 'uri','web_url','word_count','section_name'])\n",
    "articles_df_13.head()"
   ]
  },
  {
   "cell_type": "code",
   "execution_count": null,
   "metadata": {},
   "outputs": [],
   "source": [
    "# Dataframe for 14\n",
    "articles14= articles_14['response']\n",
    "articles_df_14 = pd.DataFrame(articles14['docs']).set_index('pub_date').drop(columns = ['_id','byline', 'document_type','multimedia','news_desk'\n",
    "                                                                         ,'print_page','print_section','snippet','source','subsection_name'\n",
    "                                                                         ,'type_of_material', 'uri','web_url','word_count','section_name'])\n",
    "articles_df_14.head()"
   ]
  },
  {
   "cell_type": "code",
   "execution_count": null,
   "metadata": {},
   "outputs": [],
   "source": [
    "# Dataframe for 15\n",
    "articles15= articles_15['response']\n",
    "articles_df_15 = pd.DataFrame(articles15['docs']).set_index('pub_date').drop(columns = ['_id','byline', 'document_type','multimedia','news_desk'\n",
    "                                                                         ,'print_page','print_section','snippet','source','subsection_name'\n",
    "                                                                         ,'type_of_material', 'uri','web_url','word_count','section_name'])\n",
    "articles_df_15.head()"
   ]
  },
  {
   "cell_type": "code",
   "execution_count": null,
   "metadata": {},
   "outputs": [],
   "source": [
    "# Dataframe for 16\n",
    "articles16= articles_16['response']\n",
    "articles_df_16 = pd.DataFrame(articles16['docs']).set_index('pub_date').drop(columns = ['_id','byline', 'document_type','multimedia','news_desk'\n",
    "                                                                         ,'print_page','print_section','snippet','source','subsection_name'\n",
    "                                                                         ,'type_of_material', 'uri','web_url','word_count','section_name'])\n",
    "articles_df_16.head()"
   ]
  },
  {
   "cell_type": "code",
   "execution_count": null,
   "metadata": {},
   "outputs": [],
   "source": [
    "# Dataframe for 17\n",
    "articles17= articles_17['response']\n",
    "articles_df_17 = pd.DataFrame(articles17['docs']).set_index('pub_date').drop(columns = ['_id','byline', 'document_type','multimedia','news_desk'\n",
    "                                                                         ,'print_page','print_section','snippet','source','subsection_name'\n",
    "                                                                         ,'type_of_material', 'uri','web_url','word_count','section_name'])\n",
    "articles_df_17.head()"
   ]
  },
  {
   "cell_type": "code",
   "execution_count": null,
   "metadata": {},
   "outputs": [],
   "source": [
    "# Dataframe for 18\n",
    "articles18= articles_18['response']\n",
    "articles_df_18 = pd.DataFrame(articles18['docs']).set_index('pub_date').drop(columns = ['_id','byline', 'document_type','multimedia','news_desk'\n",
    "                                                                         ,'print_page','print_section','snippet','source','subsection_name'\n",
    "                                                                         ,'type_of_material', 'uri','web_url','word_count','section_name'])\n",
    "articles_df_18.head()"
   ]
  },
  {
   "cell_type": "code",
   "execution_count": null,
   "metadata": {},
   "outputs": [],
   "source": [
    "# Dataframe for 19\n",
    "articles19= articles_19['response']\n",
    "articles_df_19 = pd.DataFrame(articles19['docs']).set_index('pub_date').drop(columns = ['_id','byline', 'document_type','multimedia','news_desk'\n",
    "                                                                         ,'print_page','print_section','snippet','source','subsection_name'\n",
    "                                                                         ,'type_of_material', 'uri','web_url','word_count','section_name'])\n",
    "articles_df_19.head()"
   ]
  },
  {
   "cell_type": "code",
   "execution_count": null,
   "metadata": {},
   "outputs": [],
   "source": []
  },
  {
   "cell_type": "code",
   "execution_count": null,
   "metadata": {},
   "outputs": [],
   "source": [
    "#concat all dataframes into one\n",
    "\n",
    "NYT_articles= pd.concat([articles_df_92,articles_df_93,articles_df_94, articles_df_95, articles_df_96,articles_df_97,articles_df_98,articles_df_99,articles_df_00\n",
    "                        ,articles_df_01,articles_df_02, articles_df_03, articles_df_04, articles_df_05\n",
    "                        ,articles_df_06, articles_df_07, articles_df_08, articles_df_09\n",
    "                        , articles_df_10,articles_df_11, articles_df_12, articles_df_13,articles_df_14,articles_df_15\n",
    "                        ,articles_df_16, articles_df_17, articles_df_18,articles_df_19])\n",
    "NYT_articles.head()"
   ]
  },
  {
   "cell_type": "code",
   "execution_count": null,
   "metadata": {},
   "outputs": [],
   "source": [
    "# clean up data\n",
    "\n",
    "NYT_articles.isnull().sum()\n"
   ]
  },
  {
   "cell_type": "code",
   "execution_count": null,
   "metadata": {},
   "outputs": [],
   "source": [
    "# create a dataframe with just the abstract.\n",
    "\n",
    "NYT_abstract= NYT_articles.drop(columns=['headline','keywords','lead_paragraph'])\n",
    "NYT_abstract.head()"
   ]
  },
  {
   "cell_type": "code",
   "execution_count": null,
   "metadata": {},
   "outputs": [],
   "source": [
    "NYT_abstract.reset_index().head()"
   ]
  },
  {
   "cell_type": "code",
   "execution_count": null,
   "metadata": {},
   "outputs": [],
   "source": [
    "# function to get sentiment from dataframe NYT_abstract\n",
    "\n",
    "def nltk_sentiment(sentence):\n",
    "    from nltk.sentiment.vader import SentimentIntensityAnalyzer\n",
    "    \n",
    "    nltk_sentiment = SentimentIntensityAnalyzer()\n",
    "    score = nltk_sentiment.polarity_scores(sentence)\n",
    "    return score"
   ]
  },
  {
   "cell_type": "code",
   "execution_count": null,
   "metadata": {},
   "outputs": [],
   "source": [
    "# created sentiment scores for \"abstract\" and a new dataframe with scores.\n",
    "\n",
    "nltk_results=[nltk_sentiment(abstract) for abstract in NYT_abstract[\"abstract\"]]\n",
    "results_df = pd.DataFrame(nltk_results)\n",
    "\n",
    "nltk_df = results_df.join(NYT_abstract.reset_index())\n",
    "nltk_df= nltk_df[['pub_date', 'abstract','compound', 'neg', 'neu', 'pos']]\n",
    "nltk_df.head()"
   ]
  },
  {
   "cell_type": "code",
   "execution_count": null,
   "metadata": {},
   "outputs": [],
   "source": [
    "nltk_df.to_csv(\"NYT_nlk_updated\")"
   ]
  },
  {
   "cell_type": "code",
   "execution_count": null,
   "metadata": {},
   "outputs": [],
   "source": [
    "nltk_df.describe()"
   ]
  },
  {
   "cell_type": "code",
   "execution_count": null,
   "metadata": {},
   "outputs": [],
   "source": [
    "nltk_df.to_csv(\"NYT_updated.csv\")"
   ]
  },
  {
   "cell_type": "code",
   "execution_count": null,
   "metadata": {},
   "outputs": [],
   "source": []
  },
  {
   "cell_type": "code",
   "execution_count": 72,
   "metadata": {},
   "outputs": [
    {
     "data": {
      "text/html": [
       "<div>\n",
       "<style scoped>\n",
       "    .dataframe tbody tr th:only-of-type {\n",
       "        vertical-align: middle;\n",
       "    }\n",
       "\n",
       "    .dataframe tbody tr th {\n",
       "        vertical-align: top;\n",
       "    }\n",
       "\n",
       "    .dataframe thead th {\n",
       "        text-align: right;\n",
       "    }\n",
       "</style>\n",
       "<table border=\"1\" class=\"dataframe\">\n",
       "  <thead>\n",
       "    <tr style=\"text-align: right;\">\n",
       "      <th></th>\n",
       "      <th>compound</th>\n",
       "    </tr>\n",
       "    <tr>\n",
       "      <th>DATE</th>\n",
       "      <th></th>\n",
       "    </tr>\n",
       "  </thead>\n",
       "  <tbody>\n",
       "    <tr>\n",
       "      <th>11/1/1992</th>\n",
       "      <td>0.812100</td>\n",
       "    </tr>\n",
       "    <tr>\n",
       "      <th>11/1/1993</th>\n",
       "      <td>0.762175</td>\n",
       "    </tr>\n",
       "    <tr>\n",
       "      <th>11/1/1994</th>\n",
       "      <td>0.667100</td>\n",
       "    </tr>\n",
       "    <tr>\n",
       "      <th>11/1/1995</th>\n",
       "      <td>0.485533</td>\n",
       "    </tr>\n",
       "    <tr>\n",
       "      <th>11/1/1996</th>\n",
       "      <td>0.722600</td>\n",
       "    </tr>\n",
       "  </tbody>\n",
       "</table>\n",
       "</div>"
      ],
      "text/plain": [
       "           compound\n",
       "DATE               \n",
       "11/1/1992  0.812100\n",
       "11/1/1993  0.762175\n",
       "11/1/1994  0.667100\n",
       "11/1/1995  0.485533\n",
       "11/1/1996  0.722600"
      ]
     },
     "execution_count": 72,
     "metadata": {},
     "output_type": "execute_result"
    }
   ],
   "source": [
    "# loading full data\n",
    "\n",
    "file_path=Path(\"NEW_Nov_Dec_NLTK_Average_Sentiment_Score_2.csv\")\n",
    "NYTIMES_df=pd.read_csv(file_path,infer_datetime_format=True,parse_dates=True)\n",
    "NYTIMES_df=NYTIMES_df.set_index('DATE').sort_values('DATE',ascending=True)\n",
    "NYTIMES_df.head()"
   ]
  },
  {
   "cell_type": "markdown",
   "metadata": {},
   "source": [
    "# importing Nov Dec retail sales with all the features"
   ]
  },
  {
   "cell_type": "code",
   "execution_count": 73,
   "metadata": {},
   "outputs": [],
   "source": [
    "\n",
    "file_path=Path(\"nov_dec_featuress.csv\")\n",
    "Nov_dec_df=pd.read_csv(file_path, index_col=\"DATE\",infer_datetime_format=True,parse_dates=True)\n",
    "#Nov_dec_df=Nov_dec_df.set_index('DATE').sort_values('DATE',ascending=True)\n",
    "Nov_dec_df=Nov_dec_df.sort_values('DATE',ascending=True)\n"
   ]
  },
  {
   "cell_type": "code",
   "execution_count": 74,
   "metadata": {},
   "outputs": [
    {
     "data": {
      "text/html": [
       "<div>\n",
       "<style scoped>\n",
       "    .dataframe tbody tr th:only-of-type {\n",
       "        vertical-align: middle;\n",
       "    }\n",
       "\n",
       "    .dataframe tbody tr th {\n",
       "        vertical-align: top;\n",
       "    }\n",
       "\n",
       "    .dataframe thead th {\n",
       "        text-align: right;\n",
       "    }\n",
       "</style>\n",
       "<table border=\"1\" class=\"dataframe\">\n",
       "  <thead>\n",
       "    <tr style=\"text-align: right;\">\n",
       "      <th></th>\n",
       "      <th>y_monthly_retail</th>\n",
       "      <th>gas_prices</th>\n",
       "      <th>consumer_sentiments</th>\n",
       "      <th>unemployment_rate</th>\n",
       "      <th>CPI</th>\n",
       "      <th>dow_index</th>\n",
       "      <th>Consumer_debt_service</th>\n",
       "      <th>Pct_chng_prv_yr</th>\n",
       "      <th>GDPC1</th>\n",
       "    </tr>\n",
       "    <tr>\n",
       "      <th>DATE</th>\n",
       "      <th></th>\n",
       "      <th></th>\n",
       "      <th></th>\n",
       "      <th></th>\n",
       "      <th></th>\n",
       "      <th></th>\n",
       "      <th></th>\n",
       "      <th></th>\n",
       "      <th></th>\n",
       "    </tr>\n",
       "  </thead>\n",
       "  <tbody>\n",
       "    <tr>\n",
       "      <th>2018-11-01</th>\n",
       "      <td>446894.0</td>\n",
       "      <td>2.64725</td>\n",
       "      <td>97.5</td>\n",
       "      <td>3.7</td>\n",
       "      <td>252.662</td>\n",
       "      <td>97.196</td>\n",
       "      <td>5.520130</td>\n",
       "      <td>2.5</td>\n",
       "      <td>18813.923</td>\n",
       "    </tr>\n",
       "    <tr>\n",
       "      <th>2018-12-01</th>\n",
       "      <td>435953.0</td>\n",
       "      <td>2.36560</td>\n",
       "      <td>98.3</td>\n",
       "      <td>3.9</td>\n",
       "      <td>252.653</td>\n",
       "      <td>95.735</td>\n",
       "      <td>5.520130</td>\n",
       "      <td>2.5</td>\n",
       "      <td>18813.923</td>\n",
       "    </tr>\n",
       "    <tr>\n",
       "      <th>2019-11-01</th>\n",
       "      <td>460760.0</td>\n",
       "      <td>2.59775</td>\n",
       "      <td>96.8</td>\n",
       "      <td>3.5</td>\n",
       "      <td>257.824</td>\n",
       "      <td>98.202</td>\n",
       "      <td>5.614131</td>\n",
       "      <td>2.3</td>\n",
       "      <td>19253.959</td>\n",
       "    </tr>\n",
       "    <tr>\n",
       "      <th>2019-12-01</th>\n",
       "      <td>460512.0</td>\n",
       "      <td>2.55500</td>\n",
       "      <td>99.3</td>\n",
       "      <td>3.5</td>\n",
       "      <td>258.444</td>\n",
       "      <td>96.058</td>\n",
       "      <td>5.614131</td>\n",
       "      <td>2.3</td>\n",
       "      <td>19253.959</td>\n",
       "    </tr>\n",
       "    <tr>\n",
       "      <th>NaT</th>\n",
       "      <td>NaN</td>\n",
       "      <td>NaN</td>\n",
       "      <td>NaN</td>\n",
       "      <td>NaN</td>\n",
       "      <td>NaN</td>\n",
       "      <td>93.688</td>\n",
       "      <td>4.972469</td>\n",
       "      <td>-9.0</td>\n",
       "      <td>17302.511</td>\n",
       "    </tr>\n",
       "  </tbody>\n",
       "</table>\n",
       "</div>"
      ],
      "text/plain": [
       "            y_monthly_retail  gas_prices  consumer_sentiments  \\\n",
       "DATE                                                            \n",
       "2018-11-01          446894.0     2.64725                 97.5   \n",
       "2018-12-01          435953.0     2.36560                 98.3   \n",
       "2019-11-01          460760.0     2.59775                 96.8   \n",
       "2019-12-01          460512.0     2.55500                 99.3   \n",
       "NaT                      NaN         NaN                  NaN   \n",
       "\n",
       "            unemployment_rate      CPI  dow_index  Consumer_debt_service  \\\n",
       "DATE                                                                       \n",
       "2018-11-01                3.7  252.662     97.196               5.520130   \n",
       "2018-12-01                3.9  252.653     95.735               5.520130   \n",
       "2019-11-01                3.5  257.824     98.202               5.614131   \n",
       "2019-12-01                3.5  258.444     96.058               5.614131   \n",
       "NaT                       NaN      NaN     93.688               4.972469   \n",
       "\n",
       "            Pct_chng_prv_yr      GDPC1  \n",
       "DATE                                    \n",
       "2018-11-01              2.5  18813.923  \n",
       "2018-12-01              2.5  18813.923  \n",
       "2019-11-01              2.3  19253.959  \n",
       "2019-12-01              2.3  19253.959  \n",
       "NaT                    -9.0  17302.511  "
      ]
     },
     "execution_count": 74,
     "metadata": {},
     "output_type": "execute_result"
    }
   ],
   "source": [
    "Nov_dec_df.tail()"
   ]
  },
  {
   "cell_type": "code",
   "execution_count": 75,
   "metadata": {},
   "outputs": [
    {
     "data": {
      "text/html": [
       "<div>\n",
       "<style scoped>\n",
       "    .dataframe tbody tr th:only-of-type {\n",
       "        vertical-align: middle;\n",
       "    }\n",
       "\n",
       "    .dataframe tbody tr th {\n",
       "        vertical-align: top;\n",
       "    }\n",
       "\n",
       "    .dataframe thead th {\n",
       "        text-align: right;\n",
       "    }\n",
       "</style>\n",
       "<table border=\"1\" class=\"dataframe\">\n",
       "  <thead>\n",
       "    <tr style=\"text-align: right;\">\n",
       "      <th></th>\n",
       "      <th>compound</th>\n",
       "      <th>y_monthly_retail</th>\n",
       "      <th>gas_prices</th>\n",
       "      <th>consumer_sentiments</th>\n",
       "      <th>unemployment_rate</th>\n",
       "      <th>CPI</th>\n",
       "      <th>dow_index</th>\n",
       "      <th>Consumer_debt_service</th>\n",
       "      <th>Pct_chng_prv_yr</th>\n",
       "      <th>GDPC1</th>\n",
       "    </tr>\n",
       "    <tr>\n",
       "      <th>DATE</th>\n",
       "      <th></th>\n",
       "      <th></th>\n",
       "      <th></th>\n",
       "      <th></th>\n",
       "      <th></th>\n",
       "      <th></th>\n",
       "      <th></th>\n",
       "      <th></th>\n",
       "      <th></th>\n",
       "      <th></th>\n",
       "    </tr>\n",
       "  </thead>\n",
       "  <tbody>\n",
       "    <tr>\n",
       "      <th>1992-11-01</th>\n",
       "      <td>0.812100</td>\n",
       "      <td>153583.0</td>\n",
       "      <td>1.11120</td>\n",
       "      <td>85.3</td>\n",
       "      <td>7.4</td>\n",
       "      <td>142.1</td>\n",
       "      <td>91.12</td>\n",
       "      <td>4.660212</td>\n",
       "      <td>4.4</td>\n",
       "      <td>9834.510</td>\n",
       "    </tr>\n",
       "    <tr>\n",
       "      <th>1993-11-01</th>\n",
       "      <td>0.762175</td>\n",
       "      <td>166594.0</td>\n",
       "      <td>1.06640</td>\n",
       "      <td>81.2</td>\n",
       "      <td>6.6</td>\n",
       "      <td>146.0</td>\n",
       "      <td>96.43</td>\n",
       "      <td>4.755414</td>\n",
       "      <td>2.6</td>\n",
       "      <td>10091.049</td>\n",
       "    </tr>\n",
       "    <tr>\n",
       "      <th>1994-11-01</th>\n",
       "      <td>0.667100</td>\n",
       "      <td>180703.0</td>\n",
       "      <td>1.11575</td>\n",
       "      <td>91.6</td>\n",
       "      <td>5.6</td>\n",
       "      <td>149.8</td>\n",
       "      <td>89.19</td>\n",
       "      <td>5.120072</td>\n",
       "      <td>4.1</td>\n",
       "      <td>10506.372</td>\n",
       "    </tr>\n",
       "    <tr>\n",
       "      <th>1995-11-01</th>\n",
       "      <td>0.485533</td>\n",
       "      <td>189055.0</td>\n",
       "      <td>1.06225</td>\n",
       "      <td>88.2</td>\n",
       "      <td>5.6</td>\n",
       "      <td>153.7</td>\n",
       "      <td>85.37</td>\n",
       "      <td>5.594352</td>\n",
       "      <td>2.2</td>\n",
       "      <td>10737.478</td>\n",
       "    </tr>\n",
       "    <tr>\n",
       "      <th>1996-11-01</th>\n",
       "      <td>0.722600</td>\n",
       "      <td>200174.0</td>\n",
       "      <td>1.23225</td>\n",
       "      <td>99.2</td>\n",
       "      <td>5.4</td>\n",
       "      <td>158.7</td>\n",
       "      <td>87.88</td>\n",
       "      <td>5.777011</td>\n",
       "      <td>4.4</td>\n",
       "      <td>11212.205</td>\n",
       "    </tr>\n",
       "  </tbody>\n",
       "</table>\n",
       "</div>"
      ],
      "text/plain": [
       "            compound  y_monthly_retail  gas_prices  consumer_sentiments  \\\n",
       "DATE                                                                      \n",
       "1992-11-01  0.812100          153583.0     1.11120                 85.3   \n",
       "1993-11-01  0.762175          166594.0     1.06640                 81.2   \n",
       "1994-11-01  0.667100          180703.0     1.11575                 91.6   \n",
       "1995-11-01  0.485533          189055.0     1.06225                 88.2   \n",
       "1996-11-01  0.722600          200174.0     1.23225                 99.2   \n",
       "\n",
       "            unemployment_rate    CPI  dow_index  Consumer_debt_service  \\\n",
       "DATE                                                                     \n",
       "1992-11-01                7.4  142.1      91.12               4.660212   \n",
       "1993-11-01                6.6  146.0      96.43               4.755414   \n",
       "1994-11-01                5.6  149.8      89.19               5.120072   \n",
       "1995-11-01                5.6  153.7      85.37               5.594352   \n",
       "1996-11-01                5.4  158.7      87.88               5.777011   \n",
       "\n",
       "            Pct_chng_prv_yr      GDPC1  \n",
       "DATE                                    \n",
       "1992-11-01              4.4   9834.510  \n",
       "1993-11-01              2.6  10091.049  \n",
       "1994-11-01              4.1  10506.372  \n",
       "1995-11-01              2.2  10737.478  \n",
       "1996-11-01              4.4  11212.205  "
      ]
     },
     "execution_count": 75,
     "metadata": {},
     "output_type": "execute_result"
    }
   ],
   "source": [
    "Main_df= NYTIMES_df.join(Nov_dec_df,sort=False)\n",
    "Main_df.head()"
   ]
  },
  {
   "cell_type": "code",
   "execution_count": 76,
   "metadata": {},
   "outputs": [
    {
     "data": {
      "text/html": [
       "<div>\n",
       "<style scoped>\n",
       "    .dataframe tbody tr th:only-of-type {\n",
       "        vertical-align: middle;\n",
       "    }\n",
       "\n",
       "    .dataframe tbody tr th {\n",
       "        vertical-align: top;\n",
       "    }\n",
       "\n",
       "    .dataframe thead th {\n",
       "        text-align: right;\n",
       "    }\n",
       "</style>\n",
       "<table border=\"1\" class=\"dataframe\">\n",
       "  <thead>\n",
       "    <tr style=\"text-align: right;\">\n",
       "      <th></th>\n",
       "      <th>compound</th>\n",
       "      <th>y_monthly_retail</th>\n",
       "      <th>gas_prices</th>\n",
       "      <th>consumer_sentiments</th>\n",
       "      <th>unemployment_rate</th>\n",
       "      <th>CPI</th>\n",
       "      <th>dow_index</th>\n",
       "      <th>Consumer_debt_service</th>\n",
       "      <th>Pct_chng_prv_yr</th>\n",
       "      <th>GDPC1</th>\n",
       "    </tr>\n",
       "    <tr>\n",
       "      <th>DATE</th>\n",
       "      <th></th>\n",
       "      <th></th>\n",
       "      <th></th>\n",
       "      <th></th>\n",
       "      <th></th>\n",
       "      <th></th>\n",
       "      <th></th>\n",
       "      <th></th>\n",
       "      <th></th>\n",
       "      <th></th>\n",
       "    </tr>\n",
       "  </thead>\n",
       "  <tbody>\n",
       "    <tr>\n",
       "      <th>2015-12-01</th>\n",
       "      <td>-0.421500</td>\n",
       "      <td>397123.0</td>\n",
       "      <td>2.03750</td>\n",
       "      <td>92.6</td>\n",
       "      <td>5.0</td>\n",
       "      <td>237.761</td>\n",
       "      <td>98.745</td>\n",
       "      <td>5.399252</td>\n",
       "      <td>2.2</td>\n",
       "      <td>17514.062</td>\n",
       "    </tr>\n",
       "    <tr>\n",
       "      <th>2016-12-01</th>\n",
       "      <td>0.302650</td>\n",
       "      <td>412753.0</td>\n",
       "      <td>2.25425</td>\n",
       "      <td>98.2</td>\n",
       "      <td>4.7</td>\n",
       "      <td>242.712</td>\n",
       "      <td>102.286</td>\n",
       "      <td>5.591750</td>\n",
       "      <td>2.1</td>\n",
       "      <td>17876.179</td>\n",
       "    </tr>\n",
       "    <tr>\n",
       "      <th>2017-12-01</th>\n",
       "      <td>0.000000</td>\n",
       "      <td>433877.0</td>\n",
       "      <td>2.47675</td>\n",
       "      <td>95.9</td>\n",
       "      <td>4.1</td>\n",
       "      <td>247.847</td>\n",
       "      <td>91.826</td>\n",
       "      <td>5.576678</td>\n",
       "      <td>2.7</td>\n",
       "      <td>18359.432</td>\n",
       "    </tr>\n",
       "    <tr>\n",
       "      <th>2018-12-01</th>\n",
       "      <td>0.346600</td>\n",
       "      <td>435953.0</td>\n",
       "      <td>2.36560</td>\n",
       "      <td>98.3</td>\n",
       "      <td>3.9</td>\n",
       "      <td>252.653</td>\n",
       "      <td>95.735</td>\n",
       "      <td>5.520130</td>\n",
       "      <td>2.5</td>\n",
       "      <td>18813.923</td>\n",
       "    </tr>\n",
       "    <tr>\n",
       "      <th>2019-12-01</th>\n",
       "      <td>0.222725</td>\n",
       "      <td>460512.0</td>\n",
       "      <td>2.55500</td>\n",
       "      <td>99.3</td>\n",
       "      <td>3.5</td>\n",
       "      <td>258.444</td>\n",
       "      <td>96.058</td>\n",
       "      <td>5.614131</td>\n",
       "      <td>2.3</td>\n",
       "      <td>19253.959</td>\n",
       "    </tr>\n",
       "  </tbody>\n",
       "</table>\n",
       "</div>"
      ],
      "text/plain": [
       "            compound  y_monthly_retail  gas_prices  consumer_sentiments  \\\n",
       "DATE                                                                      \n",
       "2015-12-01 -0.421500          397123.0     2.03750                 92.6   \n",
       "2016-12-01  0.302650          412753.0     2.25425                 98.2   \n",
       "2017-12-01  0.000000          433877.0     2.47675                 95.9   \n",
       "2018-12-01  0.346600          435953.0     2.36560                 98.3   \n",
       "2019-12-01  0.222725          460512.0     2.55500                 99.3   \n",
       "\n",
       "            unemployment_rate      CPI  dow_index  Consumer_debt_service  \\\n",
       "DATE                                                                       \n",
       "2015-12-01                5.0  237.761     98.745               5.399252   \n",
       "2016-12-01                4.7  242.712    102.286               5.591750   \n",
       "2017-12-01                4.1  247.847     91.826               5.576678   \n",
       "2018-12-01                3.9  252.653     95.735               5.520130   \n",
       "2019-12-01                3.5  258.444     96.058               5.614131   \n",
       "\n",
       "            Pct_chng_prv_yr      GDPC1  \n",
       "DATE                                    \n",
       "2015-12-01              2.2  17514.062  \n",
       "2016-12-01              2.1  17876.179  \n",
       "2017-12-01              2.7  18359.432  \n",
       "2018-12-01              2.5  18813.923  \n",
       "2019-12-01              2.3  19253.959  "
      ]
     },
     "execution_count": 76,
     "metadata": {},
     "output_type": "execute_result"
    }
   ],
   "source": [
    "Main_df.tail()"
   ]
  },
  {
   "cell_type": "code",
   "execution_count": 77,
   "metadata": {},
   "outputs": [],
   "source": [
    "all_months=pd.read_csv(Path(\"..//HolidaySales/DataSets/features.csv\"),  index_col=\"DATE\",infer_datetime_format=True,parse_dates=True)"
   ]
  },
  {
   "cell_type": "markdown",
   "metadata": {},
   "source": [
    "# Exploratory Data Analysis "
   ]
  },
  {
   "cell_type": "code",
   "execution_count": 78,
   "metadata": {},
   "outputs": [
    {
     "data": {
      "text/plain": [
       "<AxesSubplot:title={'center':'Holiday Sales'}, xlabel='DATE'>"
      ]
     },
     "execution_count": 78,
     "metadata": {},
     "output_type": "execute_result"
    },
    {
     "data": {
      "image/png": "[encoded data removed]",
      "text/plain": [
       "<Figure size 864x576 with 1 Axes>"
      ]
     },
     "metadata": {
      "needs_background": "light"
     },
     "output_type": "display_data"
    }
   ],
   "source": [
    "#Holiday Sales\n",
    "Main_df[[\"y_monthly_retail\"]].plot(figsize=(12, 8), title=\"Holiday Sales\")"
   ]
  },
  {
   "cell_type": "code",
   "execution_count": 79,
   "metadata": {},
   "outputs": [
    {
     "data": {
      "text/plain": [
       "<AxesSubplot:title={'center':'Holiday Sales all Months'}, xlabel='DATE'>"
      ]
     },
     "execution_count": 79,
     "metadata": {},
     "output_type": "execute_result"
    },
    {
     "data": {
      "image/png": "[encoded data removed]",
      "text/plain": [
       "<Figure size 864x576 with 1 Axes>"
      ]
     },
     "metadata": {
      "needs_background": "light"
     },
     "output_type": "display_data"
    }
   ],
   "source": [
    "all_months[[\"y_monthly_retail\"]].plot(figsize=(12, 8), title=\"Holiday Sales all Months\")"
   ]
  },
  {
   "cell_type": "code",
   "execution_count": 80,
   "metadata": {},
   "outputs": [
    {
     "ename": "AttributeError",
     "evalue": "'function' object has no attribute 'plot'",
     "output_type": "error",
     "traceback": [
      "\u001b[0;31m---------------------------------------------------------------------------\u001b[0m",
      "\u001b[0;31mAttributeError\u001b[0m                            Traceback (most recent call last)",
      "\u001b[0;32m<ipython-input-80-bda4bd0f4714>\u001b[0m in \u001b[0;36m<module>\u001b[0;34m\u001b[0m\n\u001b[1;32m      1\u001b[0m \u001b[0;31m#NYT times sentiments graphs\u001b[0m\u001b[0;34m\u001b[0m\u001b[0;34m\u001b[0m\u001b[0;34m\u001b[0m\u001b[0m\n\u001b[0;32m----> 2\u001b[0;31m \u001b[0mMain_df\u001b[0m\u001b[0;34m.\u001b[0m\u001b[0mcompound\u001b[0m\u001b[0;34m.\u001b[0m\u001b[0mplot\u001b[0m\u001b[0;34m(\u001b[0m\u001b[0;34m)\u001b[0m\u001b[0;34m\u001b[0m\u001b[0;34m\u001b[0m\u001b[0m\n\u001b[0m",
      "\u001b[0;31mAttributeError\u001b[0m: 'function' object has no attribute 'plot'"
     ]
    }
   ],
   "source": [
    "#NYT times sentiments graphs\n",
    "Main_df.compound.plot()"
   ]
  },
  {
   "cell_type": "code",
   "execution_count": 81,
   "metadata": {},
   "outputs": [
    {
     "name": "stderr",
     "output_type": "stream",
     "text": [
      "/opt/anaconda3/lib/python3.7/site-packages/seaborn/distributions.py:2551: FutureWarning: `distplot` is a deprecated function and will be removed in a future version. Please adapt your code to use either `displot` (a figure-level function with similar flexibility) or `histplot` (an axes-level function for histograms).\n",
      "  warnings.warn(msg, FutureWarning)\n"
     ]
    },
    {
     "data": {
      "text/plain": [
       "<AxesSubplot:xlabel='y_monthly_retail', ylabel='Density'>"
      ]
     },
     "execution_count": 81,
     "metadata": {},
     "output_type": "execute_result"
    },
    {
     "data": {
      "image/png": "[encoded data removed]",
      "text/plain": [
       "<Figure size 432x288 with 1 Axes>"
      ]
     },
     "metadata": {
      "needs_background": "light"
     },
     "output_type": "display_data"
    }
   ],
   "source": [
    "sns.distplot(Main_df.y_monthly_retail)"
   ]
  },
  {
   "cell_type": "code",
   "execution_count": 82,
   "metadata": {},
   "outputs": [
    {
     "name": "stderr",
     "output_type": "stream",
     "text": [
      "/opt/anaconda3/lib/python3.7/site-packages/seaborn/distributions.py:2551: FutureWarning: `distplot` is a deprecated function and will be removed in a future version. Please adapt your code to use either `displot` (a figure-level function with similar flexibility) or `histplot` (an axes-level function for histograms).\n",
      "  warnings.warn(msg, FutureWarning)\n"
     ]
    },
    {
     "data": {
      "text/plain": [
       "<AxesSubplot:xlabel='gas_prices', ylabel='Density'>"
      ]
     },
     "execution_count": 82,
     "metadata": {},
     "output_type": "execute_result"
    },
    {
     "data": {
      "image/png": "[encoded data removed]",
      "text/plain": [
       "<Figure size 432x288 with 1 Axes>"
      ]
     },
     "metadata": {
      "needs_background": "light"
     },
     "output_type": "display_data"
    }
   ],
   "source": [
    "sns.distplot(Main_df.gas_prices)"
   ]
  },
  {
   "cell_type": "code",
   "execution_count": 83,
   "metadata": {},
   "outputs": [
    {
     "name": "stderr",
     "output_type": "stream",
     "text": [
      "/opt/anaconda3/lib/python3.7/site-packages/seaborn/distributions.py:2551: FutureWarning: `distplot` is a deprecated function and will be removed in a future version. Please adapt your code to use either `displot` (a figure-level function with similar flexibility) or `histplot` (an axes-level function for histograms).\n",
      "  warnings.warn(msg, FutureWarning)\n"
     ]
    },
    {
     "data": {
      "text/plain": [
       "<AxesSubplot:xlabel='CPI', ylabel='Density'>"
      ]
     },
     "execution_count": 83,
     "metadata": {},
     "output_type": "execute_result"
    },
    {
     "data": {
      "image/png": "[encoded data removed]",
      "text/plain": [
       "<Figure size 432x288 with 1 Axes>"
      ]
     },
     "metadata": {
      "needs_background": "light"
     },
     "output_type": "display_data"
    }
   ],
   "source": [
    "sns.distplot(Main_df.CPI)"
   ]
  },
  {
   "cell_type": "code",
   "execution_count": 84,
   "metadata": {},
   "outputs": [
    {
     "name": "stderr",
     "output_type": "stream",
     "text": [
      "/opt/anaconda3/lib/python3.7/site-packages/seaborn/distributions.py:2551: FutureWarning: `distplot` is a deprecated function and will be removed in a future version. Please adapt your code to use either `displot` (a figure-level function with similar flexibility) or `histplot` (an axes-level function for histograms).\n",
      "  warnings.warn(msg, FutureWarning)\n"
     ]
    },
    {
     "data": {
      "text/plain": [
       "<AxesSubplot:xlabel='GDPC1', ylabel='Density'>"
      ]
     },
     "execution_count": 84,
     "metadata": {},
     "output_type": "execute_result"
    },
    {
     "data": {
      "image/png": "[encoded data removed]",
      "text/plain": [
       "<Figure size 432x288 with 1 Axes>"
      ]
     },
     "metadata": {
      "needs_background": "light"
     },
     "output_type": "display_data"
    }
   ],
   "source": [
    "sns.distplot(Main_df.GDPC1)"
   ]
  },
  {
   "cell_type": "markdown",
   "metadata": {},
   "source": [
    "# Application of Hodrick-Prescott filter on the dataframe"
   ]
  },
  {
   "cell_type": "code",
   "execution_count": 85,
   "metadata": {},
   "outputs": [],
   "source": [
    "#Hodrick-Prescott filter on columns \"y_monthly_retail\" , \"CPI\", 'GDP_growth', 'GDPC1'\n",
    "import statsmodels.api as sm\n",
    "ts_noise1, ts_trend1 = sm.tsa.filters.hpfilter(Main_df['y_monthly_retail'])\n",
    "ts_noise2, ts_trend2 = sm.tsa.filters.hpfilter(Main_df['CPI'])\n",
    "ts_noise4, ts_trend4 = sm.tsa.filters.hpfilter(Main_df['GDPC1'])"
   ]
  },
  {
   "cell_type": "code",
   "execution_count": 86,
   "metadata": {},
   "outputs": [
    {
     "data": {
      "text/html": [
       "<div>\n",
       "<style scoped>\n",
       "    .dataframe tbody tr th:only-of-type {\n",
       "        vertical-align: middle;\n",
       "    }\n",
       "\n",
       "    .dataframe tbody tr th {\n",
       "        vertical-align: top;\n",
       "    }\n",
       "\n",
       "    .dataframe thead th {\n",
       "        text-align: right;\n",
       "    }\n",
       "</style>\n",
       "<table border=\"1\" class=\"dataframe\">\n",
       "  <thead>\n",
       "    <tr style=\"text-align: right;\">\n",
       "      <th></th>\n",
       "      <th>NYT_sentiment</th>\n",
       "      <th>gas_prices</th>\n",
       "      <th>consumer_sentiments</th>\n",
       "      <th>unemployment_rate</th>\n",
       "      <th>CPI</th>\n",
       "      <th>retail_index</th>\n",
       "      <th>Consumer_debt_service</th>\n",
       "      <th>GDP_growth</th>\n",
       "      <th>sales</th>\n",
       "      <th>GDP</th>\n",
       "    </tr>\n",
       "    <tr>\n",
       "      <th>DATE</th>\n",
       "      <th></th>\n",
       "      <th></th>\n",
       "      <th></th>\n",
       "      <th></th>\n",
       "      <th></th>\n",
       "      <th></th>\n",
       "      <th></th>\n",
       "      <th></th>\n",
       "      <th></th>\n",
       "      <th></th>\n",
       "    </tr>\n",
       "  </thead>\n",
       "  <tbody>\n",
       "    <tr>\n",
       "      <th>2015-12-01</th>\n",
       "      <td>-0.421500</td>\n",
       "      <td>2.03750</td>\n",
       "      <td>92.6</td>\n",
       "      <td>5.0</td>\n",
       "      <td>2.003644</td>\n",
       "      <td>98.745</td>\n",
       "      <td>5.399252</td>\n",
       "      <td>2.2</td>\n",
       "      <td>8444.025888</td>\n",
       "      <td>257.481420</td>\n",
       "    </tr>\n",
       "    <tr>\n",
       "      <th>2016-12-01</th>\n",
       "      <td>0.302650</td>\n",
       "      <td>2.25425</td>\n",
       "      <td>98.2</td>\n",
       "      <td>4.7</td>\n",
       "      <td>2.737403</td>\n",
       "      <td>102.286</td>\n",
       "      <td>5.591750</td>\n",
       "      <td>2.1</td>\n",
       "      <td>13296.818400</td>\n",
       "      <td>305.310794</td>\n",
       "    </tr>\n",
       "    <tr>\n",
       "      <th>2017-12-01</th>\n",
       "      <td>0.000000</td>\n",
       "      <td>2.47675</td>\n",
       "      <td>95.9</td>\n",
       "      <td>4.1</td>\n",
       "      <td>3.636880</td>\n",
       "      <td>91.826</td>\n",
       "      <td>5.576678</td>\n",
       "      <td>2.7</td>\n",
       "      <td>23557.309410</td>\n",
       "      <td>471.852246</td>\n",
       "    </tr>\n",
       "    <tr>\n",
       "      <th>2018-12-01</th>\n",
       "      <td>0.346600</td>\n",
       "      <td>2.36560</td>\n",
       "      <td>98.3</td>\n",
       "      <td>3.9</td>\n",
       "      <td>4.197560</td>\n",
       "      <td>95.735</td>\n",
       "      <td>5.520130</td>\n",
       "      <td>2.5</td>\n",
       "      <td>14725.149369</td>\n",
       "      <td>608.339093</td>\n",
       "    </tr>\n",
       "    <tr>\n",
       "      <th>2019-12-01</th>\n",
       "      <td>0.222725</td>\n",
       "      <td>2.55500</td>\n",
       "      <td>99.3</td>\n",
       "      <td>3.5</td>\n",
       "      <td>5.739651</td>\n",
       "      <td>96.058</td>\n",
       "      <td>5.614131</td>\n",
       "      <td>2.3</td>\n",
       "      <td>28358.265413</td>\n",
       "      <td>729.914743</td>\n",
       "    </tr>\n",
       "  </tbody>\n",
       "</table>\n",
       "</div>"
      ],
      "text/plain": [
       "            NYT_sentiment  gas_prices  consumer_sentiments  unemployment_rate  \\\n",
       "DATE                                                                            \n",
       "2015-12-01      -0.421500     2.03750                 92.6                5.0   \n",
       "2016-12-01       0.302650     2.25425                 98.2                4.7   \n",
       "2017-12-01       0.000000     2.47675                 95.9                4.1   \n",
       "2018-12-01       0.346600     2.36560                 98.3                3.9   \n",
       "2019-12-01       0.222725     2.55500                 99.3                3.5   \n",
       "\n",
       "                 CPI  retail_index  Consumer_debt_service  GDP_growth  \\\n",
       "DATE                                                                    \n",
       "2015-12-01  2.003644        98.745               5.399252         2.2   \n",
       "2016-12-01  2.737403       102.286               5.591750         2.1   \n",
       "2017-12-01  3.636880        91.826               5.576678         2.7   \n",
       "2018-12-01  4.197560        95.735               5.520130         2.5   \n",
       "2019-12-01  5.739651        96.058               5.614131         2.3   \n",
       "\n",
       "                   sales         GDP  \n",
       "DATE                                  \n",
       "2015-12-01   8444.025888  257.481420  \n",
       "2016-12-01  13296.818400  305.310794  \n",
       "2017-12-01  23557.309410  471.852246  \n",
       "2018-12-01  14725.149369  608.339093  \n",
       "2019-12-01  28358.265413  729.914743  "
      ]
     },
     "execution_count": 86,
     "metadata": {},
     "output_type": "execute_result"
    }
   ],
   "source": [
    "Main_df['Sales']= ts_noise1\n",
    "Main_df['CPI']= ts_noise2\n",
    "Main_df['GDP']= ts_noise4\n",
    "Main_df= Main_df.drop(columns={'y_monthly_retail','GDPC1'})\n",
    "Main_df= Main_df.rename(columns={'Pct_chng_prv_yr':'GDP_growth', 'Sales':'sales', 'compound':'NYT_sentiment', 'dow_index':'retail_index'})\n",
    "Main_df.tail()"
   ]
  },
  {
   "cell_type": "code",
   "execution_count": 87,
   "metadata": {},
   "outputs": [],
   "source": [
    "Main_df.to_csv(\"Main_df.csv\")"
   ]
  },
  {
   "cell_type": "code",
   "execution_count": 88,
   "metadata": {},
   "outputs": [
    {
     "data": {
      "text/html": [
       "<div>\n",
       "<style scoped>\n",
       "    .dataframe tbody tr th:only-of-type {\n",
       "        vertical-align: middle;\n",
       "    }\n",
       "\n",
       "    .dataframe tbody tr th {\n",
       "        vertical-align: top;\n",
       "    }\n",
       "\n",
       "    .dataframe thead th {\n",
       "        text-align: right;\n",
       "    }\n",
       "</style>\n",
       "<table border=\"1\" class=\"dataframe\">\n",
       "  <thead>\n",
       "    <tr style=\"text-align: right;\">\n",
       "      <th></th>\n",
       "      <th>NYT_sentiment</th>\n",
       "      <th>gas_prices</th>\n",
       "      <th>consumer_sentiments</th>\n",
       "      <th>unemployment_rate</th>\n",
       "      <th>CPI</th>\n",
       "      <th>Retail_Index_Returns</th>\n",
       "      <th>Consumer_debt_service</th>\n",
       "      <th>GDP_growth</th>\n",
       "      <th>sales</th>\n",
       "      <th>GDP</th>\n",
       "      <th>Gold_Returns</th>\n",
       "    </tr>\n",
       "    <tr>\n",
       "      <th>DATE</th>\n",
       "      <th></th>\n",
       "      <th></th>\n",
       "      <th></th>\n",
       "      <th></th>\n",
       "      <th></th>\n",
       "      <th></th>\n",
       "      <th></th>\n",
       "      <th></th>\n",
       "      <th></th>\n",
       "      <th></th>\n",
       "      <th></th>\n",
       "    </tr>\n",
       "  </thead>\n",
       "  <tbody>\n",
       "    <tr>\n",
       "      <th>11/1/1992</th>\n",
       "      <td>0.812100</td>\n",
       "      <td>1.11120</td>\n",
       "      <td>85.3</td>\n",
       "      <td>7.4</td>\n",
       "      <td>-3.664766</td>\n",
       "      <td>0.000000</td>\n",
       "      <td>4.660212</td>\n",
       "      <td>4.4</td>\n",
       "      <td>-18182.99304</td>\n",
       "      <td>-576.109447</td>\n",
       "      <td>0.000000</td>\n",
       "    </tr>\n",
       "    <tr>\n",
       "      <th>11/1/1993</th>\n",
       "      <td>0.762175</td>\n",
       "      <td>1.06640</td>\n",
       "      <td>81.2</td>\n",
       "      <td>6.6</td>\n",
       "      <td>-4.077295</td>\n",
       "      <td>0.058275</td>\n",
       "      <td>4.755414</td>\n",
       "      <td>2.6</td>\n",
       "      <td>-15860.78098</td>\n",
       "      <td>-676.804025</td>\n",
       "      <td>0.069956</td>\n",
       "    </tr>\n",
       "    <tr>\n",
       "      <th>11/1/1994</th>\n",
       "      <td>0.667100</td>\n",
       "      <td>1.11575</td>\n",
       "      <td>91.6</td>\n",
       "      <td>5.6</td>\n",
       "      <td>-4.587534</td>\n",
       "      <td>-0.075080</td>\n",
       "      <td>5.120072</td>\n",
       "      <td>4.1</td>\n",
       "      <td>-12429.20455</td>\n",
       "      <td>-618.354534</td>\n",
       "      <td>0.058500</td>\n",
       "    </tr>\n",
       "    <tr>\n",
       "      <th>11/1/1995</th>\n",
       "      <td>0.485533</td>\n",
       "      <td>1.06225</td>\n",
       "      <td>88.2</td>\n",
       "      <td>5.6</td>\n",
       "      <td>-4.990644</td>\n",
       "      <td>-0.042830</td>\n",
       "      <td>5.594352</td>\n",
       "      <td>2.2</td>\n",
       "      <td>-14721.98639</td>\n",
       "      <td>-742.978904</td>\n",
       "      <td>-0.006632</td>\n",
       "    </tr>\n",
       "    <tr>\n",
       "      <th>11/1/1996</th>\n",
       "      <td>0.722600</td>\n",
       "      <td>1.23225</td>\n",
       "      <td>99.2</td>\n",
       "      <td>5.4</td>\n",
       "      <td>-4.278919</td>\n",
       "      <td>0.029401</td>\n",
       "      <td>5.777011</td>\n",
       "      <td>4.4</td>\n",
       "      <td>-14186.08089</td>\n",
       "      <td>-621.669592</td>\n",
       "      <td>-0.011389</td>\n",
       "    </tr>\n",
       "  </tbody>\n",
       "</table>\n",
       "</div>"
      ],
      "text/plain": [
       "           NYT_sentiment  gas_prices  consumer_sentiments  unemployment_rate  \\\n",
       "DATE                                                                           \n",
       "11/1/1992       0.812100     1.11120                 85.3                7.4   \n",
       "11/1/1993       0.762175     1.06640                 81.2                6.6   \n",
       "11/1/1994       0.667100     1.11575                 91.6                5.6   \n",
       "11/1/1995       0.485533     1.06225                 88.2                5.6   \n",
       "11/1/1996       0.722600     1.23225                 99.2                5.4   \n",
       "\n",
       "                CPI  Retail_Index_Returns  Consumer_debt_service  GDP_growth  \\\n",
       "DATE                                                                           \n",
       "11/1/1992 -3.664766              0.000000               4.660212         4.4   \n",
       "11/1/1993 -4.077295              0.058275               4.755414         2.6   \n",
       "11/1/1994 -4.587534             -0.075080               5.120072         4.1   \n",
       "11/1/1995 -4.990644             -0.042830               5.594352         2.2   \n",
       "11/1/1996 -4.278919              0.029401               5.777011         4.4   \n",
       "\n",
       "                 sales         GDP  Gold_Returns  \n",
       "DATE                                              \n",
       "11/1/1992 -18182.99304 -576.109447      0.000000  \n",
       "11/1/1993 -15860.78098 -676.804025      0.069956  \n",
       "11/1/1994 -12429.20455 -618.354534      0.058500  \n",
       "11/1/1995 -14721.98639 -742.978904     -0.006632  \n",
       "11/1/1996 -14186.08089 -621.669592     -0.011389  "
      ]
     },
     "execution_count": 88,
     "metadata": {},
     "output_type": "execute_result"
    }
   ],
   "source": [
    "#combiing our Main_df dataframe with Gold returns\n",
    "file_path=Path(\"MAIN_DF_WITH_GOLD.csv\")\n",
    "MAIN_df=pd.read_csv(file_path,infer_datetime_format=True,parse_dates=True)\n",
    "MAIN_df=MAIN_df.set_index('DATE').sort_values('DATE',ascending=True).drop(columns={'Unnamed: 0'})\n",
    "MAIN_df.head()"
   ]
  },
  {
   "cell_type": "code",
   "execution_count": 89,
   "metadata": {},
   "outputs": [
    {
     "data": {
      "text/plain": [
       "Index(['NYT_sentiment', 'gas_prices', 'consumer_sentiments',\n",
       "       'unemployment_rate', 'CPI', 'Retail_Index_Returns',\n",
       "       'Consumer_debt_service', 'GDP_growth', 'sales', 'GDP', 'Gold_Returns'],\n",
       "      dtype='object')"
      ]
     },
     "execution_count": 89,
     "metadata": {},
     "output_type": "execute_result"
    }
   ],
   "source": [
    "MAIN_df.columns"
   ]
  },
  {
   "cell_type": "code",
   "execution_count": 90,
   "metadata": {},
   "outputs": [
    {
     "data": {
      "text/plain": [
       "<seaborn.axisgrid.PairGrid at 0x7f937ddbf490>"
      ]
     },
     "execution_count": 90,
     "metadata": {},
     "output_type": "execute_result"
    },
    {
     "data": {
      "image/png": "[encoded data removed]",
      "text/plain": [
       "<Figure size 3528x504 with 10 Axes>"
      ]
     },
     "metadata": {
      "needs_background": "light"
     },
     "output_type": "display_data"
    }
   ],
   "source": [
    "sns.pairplot(MAIN_df, x_vars=['NYT_sentiment','gas_prices', 'consumer_sentiments','unemployment_rate','CPI','Retail_Index_Returns','Consumer_debt_service','GDP_growth','GDP', 'Gold_Returns'], y_vars='sales', height=7, aspect=.7, kind='reg')"
   ]
  },
  {
   "cell_type": "code",
   "execution_count": 91,
   "metadata": {},
   "outputs": [
    {
     "data": {
      "text/plain": [
       "0.965211349955966"
      ]
     },
     "execution_count": 91,
     "metadata": {},
     "output_type": "execute_result"
    }
   ],
   "source": [
    "#quantified pearson corelation values between sales and other features(GDPCI)\n",
    "MAIN_df.CPI.corr(MAIN_df.sales)"
   ]
  },
  {
   "cell_type": "code",
   "execution_count": 92,
   "metadata": {},
   "outputs": [
    {
     "data": {
      "text/plain": [
       "0.9884916815568923"
      ]
     },
     "execution_count": 92,
     "metadata": {},
     "output_type": "execute_result"
    }
   ],
   "source": [
    "MAIN_df.GDP.corr(MAIN_df.sales)"
   ]
  },
  {
   "cell_type": "code",
   "execution_count": 93,
   "metadata": {},
   "outputs": [
    {
     "data": {
      "text/html": [
       "<div>\n",
       "<style scoped>\n",
       "    .dataframe tbody tr th:only-of-type {\n",
       "        vertical-align: middle;\n",
       "    }\n",
       "\n",
       "    .dataframe tbody tr th {\n",
       "        vertical-align: top;\n",
       "    }\n",
       "\n",
       "    .dataframe thead th {\n",
       "        text-align: right;\n",
       "    }\n",
       "</style>\n",
       "<table border=\"1\" class=\"dataframe\">\n",
       "  <thead>\n",
       "    <tr style=\"text-align: right;\">\n",
       "      <th></th>\n",
       "      <th>NYT_sentiment</th>\n",
       "      <th>gas_prices</th>\n",
       "      <th>consumer_sentiments</th>\n",
       "      <th>unemployment_rate</th>\n",
       "      <th>CPI</th>\n",
       "      <th>Retail_Index_Returns</th>\n",
       "      <th>Consumer_debt_service</th>\n",
       "      <th>GDP_growth</th>\n",
       "      <th>sales</th>\n",
       "      <th>GDP</th>\n",
       "      <th>Gold_Returns</th>\n",
       "    </tr>\n",
       "  </thead>\n",
       "  <tbody>\n",
       "    <tr>\n",
       "      <th>NYT_sentiment</th>\n",
       "      <td>1.000000</td>\n",
       "      <td>-0.359748</td>\n",
       "      <td>0.141274</td>\n",
       "      <td>0.041893</td>\n",
       "      <td>-0.183963</td>\n",
       "      <td>0.065903</td>\n",
       "      <td>-0.114457</td>\n",
       "      <td>0.345912</td>\n",
       "      <td>-0.197558</td>\n",
       "      <td>-0.181612</td>\n",
       "      <td>-0.070163</td>\n",
       "    </tr>\n",
       "    <tr>\n",
       "      <th>gas_prices</th>\n",
       "      <td>-0.359748</td>\n",
       "      <td>1.000000</td>\n",
       "      <td>-0.491512</td>\n",
       "      <td>0.325284</td>\n",
       "      <td>0.682532</td>\n",
       "      <td>-0.010009</td>\n",
       "      <td>-0.302524</td>\n",
       "      <td>-0.367889</td>\n",
       "      <td>0.599383</td>\n",
       "      <td>0.590662</td>\n",
       "      <td>0.283855</td>\n",
       "    </tr>\n",
       "    <tr>\n",
       "      <th>consumer_sentiments</th>\n",
       "      <td>0.141274</td>\n",
       "      <td>-0.491512</td>\n",
       "      <td>1.000000</td>\n",
       "      <td>-0.772300</td>\n",
       "      <td>-0.201631</td>\n",
       "      <td>0.074400</td>\n",
       "      <td>0.267027</td>\n",
       "      <td>0.732948</td>\n",
       "      <td>-0.003984</td>\n",
       "      <td>-0.054932</td>\n",
       "      <td>-0.283533</td>\n",
       "    </tr>\n",
       "    <tr>\n",
       "      <th>unemployment_rate</th>\n",
       "      <td>0.041893</td>\n",
       "      <td>0.325284</td>\n",
       "      <td>-0.772300</td>\n",
       "      <td>1.000000</td>\n",
       "      <td>-0.021729</td>\n",
       "      <td>-0.111256</td>\n",
       "      <td>-0.483871</td>\n",
       "      <td>-0.381928</td>\n",
       "      <td>-0.243156</td>\n",
       "      <td>-0.204064</td>\n",
       "      <td>0.203592</td>\n",
       "    </tr>\n",
       "    <tr>\n",
       "      <th>CPI</th>\n",
       "      <td>-0.183963</td>\n",
       "      <td>0.682532</td>\n",
       "      <td>-0.201631</td>\n",
       "      <td>-0.021729</td>\n",
       "      <td>1.000000</td>\n",
       "      <td>0.087599</td>\n",
       "      <td>-0.059089</td>\n",
       "      <td>-0.324210</td>\n",
       "      <td>0.965211</td>\n",
       "      <td>0.969799</td>\n",
       "      <td>0.276589</td>\n",
       "    </tr>\n",
       "    <tr>\n",
       "      <th>Retail_Index_Returns</th>\n",
       "      <td>0.065903</td>\n",
       "      <td>-0.010009</td>\n",
       "      <td>0.074400</td>\n",
       "      <td>-0.111256</td>\n",
       "      <td>0.087599</td>\n",
       "      <td>1.000000</td>\n",
       "      <td>-0.111948</td>\n",
       "      <td>-0.102468</td>\n",
       "      <td>0.054107</td>\n",
       "      <td>0.067469</td>\n",
       "      <td>-0.392724</td>\n",
       "    </tr>\n",
       "    <tr>\n",
       "      <th>Consumer_debt_service</th>\n",
       "      <td>-0.114457</td>\n",
       "      <td>-0.302524</td>\n",
       "      <td>0.267027</td>\n",
       "      <td>-0.483871</td>\n",
       "      <td>-0.059089</td>\n",
       "      <td>-0.111948</td>\n",
       "      <td>1.000000</td>\n",
       "      <td>-0.060483</td>\n",
       "      <td>0.076767</td>\n",
       "      <td>0.128035</td>\n",
       "      <td>0.195521</td>\n",
       "    </tr>\n",
       "    <tr>\n",
       "      <th>GDP_growth</th>\n",
       "      <td>0.345912</td>\n",
       "      <td>-0.367889</td>\n",
       "      <td>0.732948</td>\n",
       "      <td>-0.381928</td>\n",
       "      <td>-0.324210</td>\n",
       "      <td>-0.102468</td>\n",
       "      <td>-0.060483</td>\n",
       "      <td>1.000000</td>\n",
       "      <td>-0.179655</td>\n",
       "      <td>-0.242846</td>\n",
       "      <td>-0.265495</td>\n",
       "    </tr>\n",
       "    <tr>\n",
       "      <th>sales</th>\n",
       "      <td>-0.197558</td>\n",
       "      <td>0.599383</td>\n",
       "      <td>-0.003984</td>\n",
       "      <td>-0.243156</td>\n",
       "      <td>0.965211</td>\n",
       "      <td>0.054107</td>\n",
       "      <td>0.076767</td>\n",
       "      <td>-0.179655</td>\n",
       "      <td>1.000000</td>\n",
       "      <td>0.988492</td>\n",
       "      <td>0.258122</td>\n",
       "    </tr>\n",
       "    <tr>\n",
       "      <th>GDP</th>\n",
       "      <td>-0.181612</td>\n",
       "      <td>0.590662</td>\n",
       "      <td>-0.054932</td>\n",
       "      <td>-0.204064</td>\n",
       "      <td>0.969799</td>\n",
       "      <td>0.067469</td>\n",
       "      <td>0.128035</td>\n",
       "      <td>-0.242846</td>\n",
       "      <td>0.988492</td>\n",
       "      <td>1.000000</td>\n",
       "      <td>0.297074</td>\n",
       "    </tr>\n",
       "    <tr>\n",
       "      <th>Gold_Returns</th>\n",
       "      <td>-0.070163</td>\n",
       "      <td>0.283855</td>\n",
       "      <td>-0.283533</td>\n",
       "      <td>0.203592</td>\n",
       "      <td>0.276589</td>\n",
       "      <td>-0.392724</td>\n",
       "      <td>0.195521</td>\n",
       "      <td>-0.265495</td>\n",
       "      <td>0.258122</td>\n",
       "      <td>0.297074</td>\n",
       "      <td>1.000000</td>\n",
       "    </tr>\n",
       "  </tbody>\n",
       "</table>\n",
       "</div>"
      ],
      "text/plain": [
       "                       NYT_sentiment  gas_prices  consumer_sentiments  \\\n",
       "NYT_sentiment               1.000000   -0.359748             0.141274   \n",
       "gas_prices                 -0.359748    1.000000            -0.491512   \n",
       "consumer_sentiments         0.141274   -0.491512             1.000000   \n",
       "unemployment_rate           0.041893    0.325284            -0.772300   \n",
       "CPI                        -0.183963    0.682532            -0.201631   \n",
       "Retail_Index_Returns        0.065903   -0.010009             0.074400   \n",
       "Consumer_debt_service      -0.114457   -0.302524             0.267027   \n",
       "GDP_growth                  0.345912   -0.367889             0.732948   \n",
       "sales                      -0.197558    0.599383            -0.003984   \n",
       "GDP                        -0.181612    0.590662            -0.054932   \n",
       "Gold_Returns               -0.070163    0.283855            -0.283533   \n",
       "\n",
       "                       unemployment_rate       CPI  Retail_Index_Returns  \\\n",
       "NYT_sentiment                   0.041893 -0.183963              0.065903   \n",
       "gas_prices                      0.325284  0.682532             -0.010009   \n",
       "consumer_sentiments            -0.772300 -0.201631              0.074400   \n",
       "unemployment_rate               1.000000 -0.021729             -0.111256   \n",
       "CPI                            -0.021729  1.000000              0.087599   \n",
       "Retail_Index_Returns           -0.111256  0.087599              1.000000   \n",
       "Consumer_debt_service          -0.483871 -0.059089             -0.111948   \n",
       "GDP_growth                     -0.381928 -0.324210             -0.102468   \n",
       "sales                          -0.243156  0.965211              0.054107   \n",
       "GDP                            -0.204064  0.969799              0.067469   \n",
       "Gold_Returns                    0.203592  0.276589             -0.392724   \n",
       "\n",
       "                       Consumer_debt_service  GDP_growth     sales       GDP  \\\n",
       "NYT_sentiment                      -0.114457    0.345912 -0.197558 -0.181612   \n",
       "gas_prices                         -0.302524   -0.367889  0.599383  0.590662   \n",
       "consumer_sentiments                 0.267027    0.732948 -0.003984 -0.054932   \n",
       "unemployment_rate                  -0.483871   -0.381928 -0.243156 -0.204064   \n",
       "CPI                                -0.059089   -0.324210  0.965211  0.969799   \n",
       "Retail_Index_Returns               -0.111948   -0.102468  0.054107  0.067469   \n",
       "Consumer_debt_service               1.000000   -0.060483  0.076767  0.128035   \n",
       "GDP_growth                         -0.060483    1.000000 -0.179655 -0.242846   \n",
       "sales                               0.076767   -0.179655  1.000000  0.988492   \n",
       "GDP                                 0.128035   -0.242846  0.988492  1.000000   \n",
       "Gold_Returns                        0.195521   -0.265495  0.258122  0.297074   \n",
       "\n",
       "                       Gold_Returns  \n",
       "NYT_sentiment             -0.070163  \n",
       "gas_prices                 0.283855  \n",
       "consumer_sentiments       -0.283533  \n",
       "unemployment_rate          0.203592  \n",
       "CPI                        0.276589  \n",
       "Retail_Index_Returns      -0.392724  \n",
       "Consumer_debt_service      0.195521  \n",
       "GDP_growth                -0.265495  \n",
       "sales                      0.258122  \n",
       "GDP                        0.297074  \n",
       "Gold_Returns               1.000000  "
      ]
     },
     "execution_count": 93,
     "metadata": {},
     "output_type": "execute_result"
    }
   ],
   "source": [
    "MAIN_df.corr()"
   ]
  },
  {
   "cell_type": "code",
   "execution_count": 94,
   "metadata": {},
   "outputs": [
    {
     "data": {
      "text/plain": [
       "<AxesSubplot:>"
      ]
     },
     "execution_count": 94,
     "metadata": {},
     "output_type": "execute_result"
    },
    {
     "data": {
      "image/png": "[encoded data removed]",
      "text/plain": [
       "<Figure size 432x288 with 2 Axes>"
      ]
     },
     "metadata": {
      "needs_background": "light"
     },
     "output_type": "display_data"
    }
   ],
   "source": [
    "#heath map of the dataframe\n",
    "sns.heatmap(MAIN_df.corr(),annot=True)"
   ]
  },
  {
   "cell_type": "code",
   "execution_count": null,
   "metadata": {},
   "outputs": [],
   "source": []
  },
  {
   "cell_type": "code",
   "execution_count": null,
   "metadata": {},
   "outputs": [],
   "source": []
  },
  {
   "cell_type": "code",
   "execution_count": null,
   "metadata": {},
   "outputs": [],
   "source": []
  },
  {
   "cell_type": "code",
   "execution_count": null,
   "metadata": {},
   "outputs": [],
   "source": []
  },
  {
   "cell_type": "code",
   "execution_count": null,
   "metadata": {},
   "outputs": [],
   "source": []
  },
  {
   "cell_type": "markdown",
   "metadata": {},
   "source": [
    "# Regression Model"
   ]
  },
  {
   "cell_type": "code",
   "execution_count": 95,
   "metadata": {},
   "outputs": [],
   "source": [
    "#Xy split- training and testing\n",
    "X=MAIN_df.copy()"
   ]
  },
  {
   "cell_type": "code",
   "execution_count": 96,
   "metadata": {},
   "outputs": [],
   "source": [
    "X.drop({\"sales\"}, axis=1, inplace=True)"
   ]
  },
  {
   "cell_type": "code",
   "execution_count": 97,
   "metadata": {},
   "outputs": [],
   "source": [
    "y=MAIN_df['sales'].values.reshape(-1,1)"
   ]
  },
  {
   "cell_type": "code",
   "execution_count": 98,
   "metadata": {},
   "outputs": [],
   "source": [
    "\n",
    "X_train, X_test, y_train, y_test=train_test_split(X,y,random_state=1)"
   ]
  },
  {
   "cell_type": "code",
   "execution_count": 99,
   "metadata": {},
   "outputs": [],
   "source": [
    "Linreg=LinearRegression()"
   ]
  },
  {
   "cell_type": "code",
   "execution_count": 100,
   "metadata": {},
   "outputs": [
    {
     "data": {
      "text/plain": [
       "LinearRegression()"
      ]
     },
     "execution_count": 100,
     "metadata": {},
     "output_type": "execute_result"
    }
   ],
   "source": [
    "Linreg.fit(X_train, y_train)"
   ]
  },
  {
   "cell_type": "code",
   "execution_count": 101,
   "metadata": {},
   "outputs": [
    {
     "data": {
      "text/plain": [
       "array([[-11648.10453745],\n",
       "       [-12778.4832838 ],\n",
       "       [ -5309.7576766 ],\n",
       "       [ 24439.51509415],\n",
       "       [-76529.48920006],\n",
       "       [-62110.66137452],\n",
       "       [-20965.61450299],\n",
       "       [ -6991.77600811],\n",
       "       [ 13202.94837475],\n",
       "       [ 20076.80509959],\n",
       "       [  -217.34049184],\n",
       "       [ 47343.18330168],\n",
       "       [-19659.01658021],\n",
       "       [  4688.23636716]])"
      ]
     },
     "execution_count": 101,
     "metadata": {},
     "output_type": "execute_result"
    }
   ],
   "source": [
    "y_pred=Linreg.predict(X_test)\n",
    "y_pred[:]"
   ]
  },
  {
   "cell_type": "code",
   "execution_count": 102,
   "metadata": {},
   "outputs": [
    {
     "data": {
      "text/plain": [
       "array([[-11648.10453745],\n",
       "       [-12778.4832838 ],\n",
       "       [ -5309.7576766 ],\n",
       "       [ 24439.51509415],\n",
       "       [-76529.48920006],\n",
       "       [-62110.66137452],\n",
       "       [-20965.61450299],\n",
       "       [ -6991.77600811],\n",
       "       [ 13202.94837475],\n",
       "       [ 20076.80509959],\n",
       "       [  -217.34049184],\n",
       "       [ 47343.18330168],\n",
       "       [-19659.01658021],\n",
       "       [  4688.23636716]])"
      ]
     },
     "execution_count": 102,
     "metadata": {},
     "output_type": "execute_result"
    }
   ],
   "source": [
    "y_pred"
   ]
  },
  {
   "cell_type": "code",
   "execution_count": 103,
   "metadata": {},
   "outputs": [
    {
     "data": {
      "text/plain": [
       "DATE\n",
       "1992-11-01    171765.993040\n",
       "1993-11-01    182454.780982\n",
       "1994-11-01    193132.204553\n",
       "1995-11-01    203776.986394\n",
       "1996-11-01    214360.080895\n",
       "1997-11-01    224843.241201\n",
       "1998-11-01    235179.354159\n",
       "1999-11-01    245311.364590\n",
       "2000-11-01    255173.438969\n",
       "2001-11-01    264696.764165\n",
       "2002-11-01    273809.500527\n",
       "2003-11-01    282437.194174\n",
       "2004-11-01    290498.990288\n",
       "2005-11-01    297911.447052\n",
       "2006-11-01    304594.671410\n",
       "2007-11-01    310478.390023\n",
       "2008-11-01    315504.047257\n",
       "2009-11-01    319632.246612\n",
       "2010-11-01    322814.734057\n",
       "2011-11-01    324995.157281\n",
       "2012-11-01    326120.176640\n",
       "2013-11-01    326151.675517\n",
       "2014-11-01    325074.595309\n",
       "2015-11-01    322903.669492\n",
       "2016-11-01    319695.259294\n",
       "2017-11-01    315551.571774\n",
       "2018-11-01    310629.230079\n",
       "2019-11-01    305157.538251\n",
       "1992-12-01    299450.965810\n",
       "1993-12-01    293921.233816\n",
       "1994-12-01    288890.165226\n",
       "1995-12-01    284600.982851\n",
       "1996-12-01    281229.805646\n",
       "1997-12-01    278894.110705\n",
       "1998-12-01    277661.408992\n",
       "1999-12-01    277555.754527\n",
       "2000-12-01    278567.149824\n",
       "2001-12-01    280665.553176\n",
       "2002-12-01    283803.479657\n",
       "2003-12-01    287918.371495\n",
       "2004-12-01    292936.499995\n",
       "2005-12-01    298777.694978\n",
       "2006-12-01    305366.052826\n",
       "2007-12-01    312634.854491\n",
       "2008-12-01    320530.807764\n",
       "2009-12-01    329015.341777\n",
       "2010-12-01    338033.319532\n",
       "2011-12-01    347516.727570\n",
       "2012-12-01    357392.369728\n",
       "2013-12-01    367588.585018\n",
       "2014-12-01    378038.029091\n",
       "2015-12-01    388678.974112\n",
       "2016-12-01    399456.181600\n",
       "2017-12-01    410319.690590\n",
       "2018-12-01    421227.850631\n",
       "2019-12-01    432153.734587\n",
       "Name: y_monthly_retail_trend, dtype: float64"
      ]
     },
     "execution_count": 103,
     "metadata": {},
     "output_type": "execute_result"
    }
   ],
   "source": [
    "ts_trend1"
   ]
  },
  {
   "cell_type": "code",
   "execution_count": 104,
   "metadata": {},
   "outputs": [
    {
     "data": {
      "text/plain": [
       "4587.893268471552"
      ]
     },
     "execution_count": 104,
     "metadata": {},
     "output_type": "execute_result"
    }
   ],
   "source": [
    "#mean absolute error\n",
    "mae=(metrics.mean_absolute_error(y_test, y_pred))\n",
    "mae"
   ]
  },
  {
   "cell_type": "code",
   "execution_count": 105,
   "metadata": {},
   "outputs": [
    {
     "data": {
      "text/plain": [
       "37832238.890298314"
      ]
     },
     "execution_count": 105,
     "metadata": {},
     "output_type": "execute_result"
    }
   ],
   "source": [
    "#mean squared error\n",
    "mse=(metrics.mean_squared_error(y_test, y_pred))\n",
    "mse"
   ]
  },
  {
   "cell_type": "code",
   "execution_count": 106,
   "metadata": {},
   "outputs": [
    {
     "data": {
      "text/plain": [
       "6150.791728736905"
      ]
     },
     "execution_count": 106,
     "metadata": {},
     "output_type": "execute_result"
    }
   ],
   "source": [
    "#root mean squared error\n",
    "rmse=(np.sqrt(metrics.mean_squared_error(y_test, y_pred)))\n",
    "rmse"
   ]
  },
  {
   "cell_type": "code",
   "execution_count": 107,
   "metadata": {},
   "outputs": [
    {
     "data": {
      "text/plain": [
       "0.9665721053648395"
      ]
     },
     "execution_count": 107,
     "metadata": {},
     "output_type": "execute_result"
    }
   ],
   "source": [
    "#r2\n",
    "r2=r2_score(y_test, y_pred)\n",
    "r2"
   ]
  },
  {
   "cell_type": "code",
   "execution_count": 108,
   "metadata": {},
   "outputs": [],
   "source": [
    "## out of sample-shifted up"
   ]
  },
  {
   "cell_type": "code",
   "execution_count": null,
   "metadata": {},
   "outputs": [],
   "source": []
  },
  {
   "cell_type": "code",
   "execution_count": null,
   "metadata": {},
   "outputs": [],
   "source": []
  },
  {
   "cell_type": "code",
   "execution_count": null,
   "metadata": {},
   "outputs": [],
   "source": []
  },
  {
   "cell_type": "code",
   "execution_count": null,
   "metadata": {},
   "outputs": [],
   "source": []
  },
  {
   "cell_type": "markdown",
   "metadata": {},
   "source": [
    "## DECISION TREE"
   ]
  },
  {
   "cell_type": "code",
   "execution_count": null,
   "metadata": {},
   "outputs": [],
   "source": [
    "# Define features set\n",
    "X = MAIN_df.copy()\n",
    "X.drop({\"sales\"}, axis=1, inplace=True)\n",
    "\n",
    "X.head()\n"
   ]
  },
  {
   "cell_type": "code",
   "execution_count": null,
   "metadata": {},
   "outputs": [],
   "source": [
    "# Define target vector\n",
    "y = MAIN_df[\"sales\"].values.reshape(-1, 1)\n",
    "y[:5]\n"
   ]
  },
  {
   "cell_type": "code",
   "execution_count": null,
   "metadata": {},
   "outputs": [],
   "source": [
    "# Splitting into Train and Test sets\n",
    "X_train, X_test, y_train, y_test = train_test_split(X, y, random_state=78)\n"
   ]
  },
  {
   "cell_type": "code",
   "execution_count": null,
   "metadata": {},
   "outputs": [],
   "source": [
    "# Creating the decision tree classifier instance\n",
    "model = tree.DecisionTreeRegressor()\n",
    "# Fitting the model\n",
    "DecisionRegressor = model.fit(X_train, y_train)\n",
    "\n",
    "\n"
   ]
  },
  {
   "cell_type": "code",
   "execution_count": null,
   "metadata": {},
   "outputs": [],
   "source": [
    "# Making predictions using the testing data\n",
    "predictions = DecisionRegressor.predict(X_test)\n",
    "\n"
   ]
  },
  {
   "cell_type": "code",
   "execution_count": null,
   "metadata": {},
   "outputs": [],
   "source": [
    "Predictions_tree=pd.DataFrame({\"Prediction\": predictions, \"Actual\": y_test.ravel()}).head(20)\n",
    "Predictions_tree.head()"
   ]
  },
  {
   "cell_type": "code",
   "execution_count": null,
   "metadata": {},
   "outputs": [],
   "source": [
    "Predictions_tree.plot()"
   ]
  },
  {
   "cell_type": "code",
   "execution_count": null,
   "metadata": {},
   "outputs": [],
   "source": [
    "from sklearn.metrics import r2_score,mean_squared_error\n",
    "r2_score(y_test, predictions)\n"
   ]
  },
  {
   "cell_type": "code",
   "execution_count": null,
   "metadata": {},
   "outputs": [],
   "source": [
    "mse = mean_squared_error(y_test, predictions)\n",
    "mse"
   ]
  },
  {
   "cell_type": "code",
   "execution_count": null,
   "metadata": {},
   "outputs": [],
   "source": [
    "mse= mean_squared_error(y_test, predictions)\n",
    "rmse= np.sqrt(mse)\n",
    "rmse"
   ]
  },
  {
   "cell_type": "markdown",
   "metadata": {},
   "source": [
    "## NEW DF FOR PREDICTIVE MODEL"
   ]
  },
  {
   "cell_type": "code",
   "execution_count": null,
   "metadata": {},
   "outputs": [],
   "source": [
    "Main_2= MAIN_df.copy()\n",
    "Main_2['shifted_sales']= Main_2.sales.shift()\n",
    "Main_2=Main_2.dropna()\n",
    "Main_2=Main_2.reset_index()\n",
    "Main_2.head()"
   ]
  },
  {
   "cell_type": "code",
   "execution_count": null,
   "metadata": {},
   "outputs": [],
   "source": [
    "Main_2['DATE'] =pd.to_datetime(Main_2.DATE)\n",
    "Main_2= Main_2.set_index(\"DATE\")\n",
    "\n",
    "Main_2.head()"
   ]
  },
  {
   "cell_type": "code",
   "execution_count": null,
   "metadata": {},
   "outputs": [],
   "source": [
    "Main_2= Main_2.sort_index()\n",
    "Main_2.head()"
   ]
  },
  {
   "cell_type": "markdown",
   "metadata": {},
   "source": [
    "# DECISION TREE MODEL PREDICTIVE MODEL (SHIFTED Y)"
   ]
  },
  {
   "cell_type": "code",
   "execution_count": null,
   "metadata": {},
   "outputs": [],
   "source": [
    "# Define features set\n",
    "X = Main_2.copy()\n",
    "X.drop({\"sales\",'shifted_sales','Retail_Index_Returns', 'consumer_sentiments', 'gas_prices'}, axis=1, inplace=True)\n",
    "\n",
    "X.head()\n"
   ]
  },
  {
   "cell_type": "code",
   "execution_count": null,
   "metadata": {},
   "outputs": [],
   "source": [
    "# Define target vector\n",
    "y = Main_2[\"shifted_sales\"].values.reshape(-1, 1)\n",
    "y[:5]\n"
   ]
  },
  {
   "cell_type": "code",
   "execution_count": null,
   "metadata": {},
   "outputs": [],
   "source": [
    "# Splitting into Train and Test sets\n",
    "X_train, X_test, y_train, y_test = train_test_split(X, y, random_state=78)\n"
   ]
  },
  {
   "cell_type": "code",
   "execution_count": null,
   "metadata": {},
   "outputs": [],
   "source": [
    "X_test.shape"
   ]
  },
  {
   "cell_type": "code",
   "execution_count": null,
   "metadata": {},
   "outputs": [],
   "source": [
    "X_train.shape"
   ]
  },
  {
   "cell_type": "code",
   "execution_count": null,
   "metadata": {},
   "outputs": [],
   "source": [
    "# Creating the decision tree classifier instance\n",
    "model = tree.DecisionTreeRegressor()\n",
    "# Fitting the model\n",
    "DecisionRegressor = model.fit(X_train, y_train)\n",
    "\n",
    "\n"
   ]
  },
  {
   "cell_type": "code",
   "execution_count": null,
   "metadata": {},
   "outputs": [],
   "source": [
    "# Making predictions using the testing data\n",
    "predictions = DecisionRegressor.predict(X_test)\n",
    "\n"
   ]
  },
  {
   "cell_type": "code",
   "execution_count": null,
   "metadata": {},
   "outputs": [],
   "source": [
    "Predictions_tree=pd.DataFrame({\"Prediction\": predictions, \"Actual\": y_test.ravel()}).head(20)\n",
    "Predictions_tree.head()"
   ]
  },
  {
   "cell_type": "code",
   "execution_count": null,
   "metadata": {},
   "outputs": [],
   "source": []
  },
  {
   "cell_type": "code",
   "execution_count": null,
   "metadata": {},
   "outputs": [],
   "source": [
    "Predictions_tree.plot()"
   ]
  },
  {
   "cell_type": "code",
   "execution_count": null,
   "metadata": {},
   "outputs": [],
   "source": [
    "predictions"
   ]
  },
  {
   "cell_type": "code",
   "execution_count": null,
   "metadata": {},
   "outputs": [],
   "source": []
  },
  {
   "cell_type": "code",
   "execution_count": null,
   "metadata": {},
   "outputs": [],
   "source": [
    "from sklearn.metrics import r2_score,mean_squared_error\n",
    "r2_score(y_test, predictions)\n"
   ]
  },
  {
   "cell_type": "code",
   "execution_count": null,
   "metadata": {},
   "outputs": [],
   "source": [
    "mse = mean_squared_error(y_test, predictions)\n",
    "mse"
   ]
  },
  {
   "cell_type": "code",
   "execution_count": null,
   "metadata": {},
   "outputs": [],
   "source": [
    "mse= mean_squared_error(y_test, predictions)\n",
    "rmse= np.sqrt(mse)\n",
    "rmse"
   ]
  },
  {
   "cell_type": "code",
   "execution_count": null,
   "metadata": {},
   "outputs": [],
   "source": []
  },
  {
   "cell_type": "code",
   "execution_count": null,
   "metadata": {},
   "outputs": [],
   "source": []
  },
  {
   "cell_type": "markdown",
   "metadata": {},
   "source": [
    "# RANDOM FOREST MODEL"
   ]
  },
  {
   "cell_type": "code",
   "execution_count": null,
   "metadata": {},
   "outputs": [],
   "source": [
    "# Define features set\n",
    "X = Main_df.copy()\n",
    "X.drop({\"sales\"}, axis=1, inplace=True)\n",
    "X.head()\n",
    "\n",
    "# Define target vector\n",
    "y = Main_df[\"sales\"].values.reshape(-1, 1)\n",
    "y[:5]\n",
    "\n"
   ]
  },
  {
   "cell_type": "code",
   "execution_count": null,
   "metadata": {},
   "outputs": [],
   "source": [
    "# Splitting into Train and Test sets\n",
    "X_train, X_test, y_train, y_test = train_test_split(X, y, random_state=78)\n"
   ]
  },
  {
   "cell_type": "code",
   "execution_count": null,
   "metadata": {},
   "outputs": [],
   "source": []
  },
  {
   "cell_type": "markdown",
   "metadata": {},
   "source": [
    "## Fitting the Random Forest Model"
   ]
  },
  {
   "cell_type": "code",
   "execution_count": null,
   "metadata": {},
   "outputs": [],
   "source": [
    "# Create a random forest classifier\n",
    "rf_model = RandomForestRegressor(n_estimators=500, random_state=78)\n",
    "# Fitting the model\n",
    "rf_model = rf_model.fit(X_train, y_train)\n",
    "# Making predictions using the testing data\n",
    "predictions = rf_model.predict(X_test)\n"
   ]
  },
  {
   "cell_type": "code",
   "execution_count": null,
   "metadata": {},
   "outputs": [],
   "source": [
    "\n",
    "Predictions_forest=pd.DataFrame({\"Prediction\": predictions, \"Actual\": y_test.ravel()}).head(20)\n",
    "Predictions_forest.plot()"
   ]
  },
  {
   "cell_type": "markdown",
   "metadata": {},
   "source": [
    "## EVALUATING RANDOM FOREST"
   ]
  },
  {
   "cell_type": "code",
   "execution_count": null,
   "metadata": {},
   "outputs": [],
   "source": [
    "r2_score(y_test, predictions)\n"
   ]
  },
  {
   "cell_type": "code",
   "execution_count": null,
   "metadata": {},
   "outputs": [],
   "source": [
    "mse = mean_squared_error(y_test, predictions)\n",
    "mse"
   ]
  },
  {
   "cell_type": "code",
   "execution_count": null,
   "metadata": {},
   "outputs": [],
   "source": [
    "mse= mean_squared_error(y_test, predictions)\n",
    "rmse= np.sqrt(mse)\n",
    "rmse"
   ]
  },
  {
   "cell_type": "code",
   "execution_count": null,
   "metadata": {},
   "outputs": [],
   "source": []
  },
  {
   "cell_type": "markdown",
   "metadata": {},
   "source": [
    "## RANDOM FOREST PREDICTIVE MODEL"
   ]
  },
  {
   "cell_type": "code",
   "execution_count": null,
   "metadata": {},
   "outputs": [],
   "source": [
    "# Define features set\n",
    "X = Main_2.copy()\n",
    "X.drop({\"sales\",'shifted_sales','Retail_Index_Returns', 'consumer_sentiments', 'gas_prices'}, axis=1, inplace=True)\n",
    "\n",
    "X.head()\n"
   ]
  },
  {
   "cell_type": "code",
   "execution_count": null,
   "metadata": {},
   "outputs": [],
   "source": [
    "# Define target vector\n",
    "y = Main_2[\"shifted_sales\"].values.reshape(-1, 1)\n",
    "y[:5]\n"
   ]
  },
  {
   "cell_type": "code",
   "execution_count": null,
   "metadata": {},
   "outputs": [],
   "source": [
    "# Splitting into Train and Test sets\n",
    "X_train, X_test, y_train, y_test = train_test_split(X, y, random_state=78)\n"
   ]
  },
  {
   "cell_type": "code",
   "execution_count": null,
   "metadata": {},
   "outputs": [],
   "source": [
    "# Create a random forest classifier\n",
    "rf_model = RandomForestRegressor(n_estimators=500, random_state=78)\n",
    "# Fitting the model\n",
    "rf_model = rf_model.fit(X_train, y_train)\n",
    "# Making predictions using the testing data\n",
    "predictions_1 = rf_model.predict(X_test)\n"
   ]
  },
  {
   "cell_type": "code",
   "execution_count": null,
   "metadata": {},
   "outputs": [],
   "source": [
    "\n",
    "Predictions_forest=pd.DataFrame({\"Prediction\": predictions_1, \"Actual\": y_test.ravel()}).head(20)\n",
    "Predictions_forest.plot()"
   ]
  },
  {
   "cell_type": "code",
   "execution_count": null,
   "metadata": {},
   "outputs": [],
   "source": [
    "r2_score(y_test, predictions_1)\n"
   ]
  },
  {
   "cell_type": "code",
   "execution_count": null,
   "metadata": {},
   "outputs": [],
   "source": [
    "mse = mean_squared_error(y_test, predictions_1)\n",
    "mse"
   ]
  },
  {
   "cell_type": "code",
   "execution_count": null,
   "metadata": {},
   "outputs": [],
   "source": [
    "mse= mean_squared_error(y_test, predictions_1)\n",
    "rmse= np.sqrt(mse)\n",
    "rmse"
   ]
  },
  {
   "cell_type": "code",
   "execution_count": null,
   "metadata": {},
   "outputs": [],
   "source": [
    "X_P= Main_2.tail(2)\n",
    "X_P"
   ]
  },
  {
   "cell_type": "code",
   "execution_count": null,
   "metadata": {},
   "outputs": [],
   "source": [
    "predictions_end = rf_model.predict(X)\n",
    "predictions_end"
   ]
  },
  {
   "cell_type": "code",
   "execution_count": null,
   "metadata": {},
   "outputs": [],
   "source": [
    "Predictions_f=pd.DataFrame({\"Prediction\": predictions_end, \"Actual\": y.ravel()})\n",
    "Predictions_f"
   ]
  },
  {
   "cell_type": "code",
   "execution_count": null,
   "metadata": {},
   "outputs": [],
   "source": [
    "Main_2.shape"
   ]
  },
  {
   "cell_type": "markdown",
   "metadata": {},
   "source": [
    "## GRADIENT BOOST MODEL"
   ]
  },
  {
   "cell_type": "code",
   "execution_count": null,
   "metadata": {},
   "outputs": [],
   "source": [
    "# Define features set\n",
    "X = MAIN_df.copy()\n",
    "X.drop({\"sales\"}, axis=1, inplace=True)\n",
    "X.head()\n",
    "\n",
    "# Define target vector\n",
    "y = MAIN_df[\"sales\"].values.reshape(-1, 1)\n",
    "y[:5]\n",
    "\n"
   ]
  },
  {
   "cell_type": "code",
   "execution_count": null,
   "metadata": {},
   "outputs": [],
   "source": [
    "# Splitting into Train and Test sets\n",
    "X_train, X_test, y_train, y_test = train_test_split(X,\n",
    "                                                    y,\n",
    "                                                    random_state=78)\n",
    "\n"
   ]
  },
  {
   "cell_type": "code",
   "execution_count": null,
   "metadata": {},
   "outputs": [],
   "source": [
    "# Create a regression object\n",
    "learning_rates = [0.05, 0.1, 0.25, 0.5, 0.75, 1]\n",
    "for learning_rate in learning_rates:\n",
    "    regressor = GradientBoostingRegressor(n_estimators=20,\n",
    "                                            learning_rate=learning_rate,\n",
    "                                            max_features=5,\n",
    "                                            max_depth=3,\n",
    "                                            random_state=0)\n",
    "# Fit the model\n",
    "regressor.fit(X_train, y_train.ravel())\n",
    "    \n",
    "# Make Prediction\n",
    "predictions = regressor.predict(X_test)\n",
    "pd.DataFrame({\"Prediction\": predictions, \"Actual\": y_test.ravel()}).head(20)"
   ]
  },
  {
   "cell_type": "code",
   "execution_count": null,
   "metadata": {},
   "outputs": [],
   "source": [
    "# Choose a learning rate and create regression\n",
    "classifier = GradientBoostingRegressor(n_estimators=20,\n",
    "                                        learning_rate=0.75,\n",
    "                                        max_features=5,\n",
    "                                        max_depth=3,\n",
    "                                        random_state=0)\n",
    "\n",
    "# Fit the model\n",
    "classifier.fit(X_train, y_train.ravel())\n",
    "\n",
    "# Make Prediction\n",
    "predictions = classifier.predict(X_test)\n",
    "predict=pd.DataFrame({\"Prediction\": predictions, \"Actual\": y_test.ravel()}).head(20)\n",
    "predict.plot()"
   ]
  },
  {
   "cell_type": "markdown",
   "metadata": {},
   "source": [
    "## EVALUATING THE MODEL"
   ]
  },
  {
   "cell_type": "code",
   "execution_count": null,
   "metadata": {},
   "outputs": [],
   "source": [
    "r2_score(y_test, predictions)\n"
   ]
  },
  {
   "cell_type": "code",
   "execution_count": null,
   "metadata": {},
   "outputs": [],
   "source": [
    "mse = mean_squared_error(y_test, predictions)\n",
    "mse"
   ]
  },
  {
   "cell_type": "code",
   "execution_count": null,
   "metadata": {},
   "outputs": [],
   "source": [
    "mse= mean_squared_error(y_test, predictions)\n",
    "rmse= np.sqrt(mse)\n",
    "rmse"
   ]
  },
  {
   "cell_type": "code",
   "execution_count": null,
   "metadata": {},
   "outputs": [],
   "source": []
  },
  {
   "cell_type": "markdown",
   "metadata": {},
   "source": [
    "## GRADIENT BOOST PREDICTIVE"
   ]
  },
  {
   "cell_type": "code",
   "execution_count": null,
   "metadata": {},
   "outputs": [],
   "source": [
    "# Define features set\n",
    "X = Main_2.copy()\n",
    "X.drop({\"sales\",'shifted_sales','Retail_Index_Returns', 'consumer_sentiments', 'gas_prices'}, axis=1, inplace=True)\n",
    "\n",
    "X.head()\n"
   ]
  },
  {
   "cell_type": "code",
   "execution_count": null,
   "metadata": {},
   "outputs": [],
   "source": [
    "# Define target vector\n",
    "y = Main_2[\"shifted_sales\"].values.reshape(-1, 1)\n",
    "y[:5]\n"
   ]
  },
  {
   "cell_type": "code",
   "execution_count": null,
   "metadata": {},
   "outputs": [],
   "source": [
    "# Splitting into Train and Test sets\n",
    "X_train, X_test, y_train, y_test = train_test_split(X,\n",
    "                                                    y,\n",
    "                                                    random_state=78)\n",
    "\n"
   ]
  },
  {
   "cell_type": "code",
   "execution_count": null,
   "metadata": {},
   "outputs": [],
   "source": [
    "# Create a regression object\n",
    "learning_rates = [0.05, 0.1, 0.25, 0.5, 0.75, 1]\n",
    "for learning_rate in learning_rates:\n",
    "    regressor = GradientBoostingRegressor(n_estimators=20,\n",
    "                                            learning_rate=learning_rate,\n",
    "                                            max_features=5,\n",
    "                                            max_depth=3,\n",
    "                                            random_state=0)\n",
    "# Fit the model\n",
    "regressor.fit(X_train, y_train.ravel())\n",
    "    \n",
    "# Make Prediction\n",
    "predictions = regressor.predict(X_test)\n",
    "pd.DataFrame({\"Prediction\": predictions, \"Actual\": y_test.ravel()}).head(20)"
   ]
  },
  {
   "cell_type": "code",
   "execution_count": null,
   "metadata": {},
   "outputs": [],
   "source": [
    "r2_score(y_test, predictions)\n"
   ]
  },
  {
   "cell_type": "code",
   "execution_count": null,
   "metadata": {},
   "outputs": [],
   "source": [
    "mse = mean_squared_error(y_test, predictions)\n",
    "mse"
   ]
  },
  {
   "cell_type": "code",
   "execution_count": null,
   "metadata": {},
   "outputs": [],
   "source": [
    "mse= mean_squared_error(y_test, predictions)\n",
    "rmse= np.sqrt(mse)\n",
    "rmse"
   ]
  },
  {
   "cell_type": "code",
   "execution_count": null,
   "metadata": {},
   "outputs": [],
   "source": [
    "# Need the df with the dates in the right order below."
   ]
  },
  {
   "cell_type": "markdown",
   "metadata": {},
   "source": [
    "# **LSTM/ Gold vs. Retail Relationship Work**"
   ]
  },
  {
   "cell_type": "code",
   "execution_count": null,
   "metadata": {},
   "outputs": [],
   "source": [
    "import pandas as pd\n",
    "import numpy as np\n",
    "from pathlib import Path\n",
    "%matplotlib inline\n",
    "import matplotlib.pyplot as plt\n",
    "import statsmodels\n",
    "import statsmodels.tsa\n",
    "import statsmodels.tsa.stattools as ts \n",
    "from sklearn.preprocessing import MinMaxScaler\n",
    "from tensorflow.keras.models import Sequential\n",
    "from tensorflow.keras.layers import LSTM, Dense, Dropout\n",
    "from sklearn import metrics\n",
    "from sklearn.metrics import mean_squared_error, r2_score\n",
    "import seaborn as sns"
   ]
  },
  {
   "cell_type": "code",
   "execution_count": null,
   "metadata": {},
   "outputs": [],
   "source": [
    "# DataFrame of Monthly Gold Prices 1992-2020.\n",
    "file_path=Path(\"~/git/HolidaySales/DataSets/1992_To_2020_Monthly_Gold_clean.csv\")\n",
    "full_gold_df=pd.read_csv(file_path,infer_datetime_format=True,parse_dates=True,index_col=\"DATE\")"
   ]
  },
  {
   "cell_type": "code",
   "execution_count": null,
   "metadata": {},
   "outputs": [],
   "source": [
    "full_gold_df.head()"
   ]
  },
  {
   "cell_type": "code",
   "execution_count": null,
   "metadata": {},
   "outputs": [],
   "source": [
    "# DataFrame of ALL features not including NLP sentiment from 1992 to 2020 Monthly.\n",
    "file_path2=Path(\"~/git/HolidaySales/DataSets/features.csv\")\n",
    "features_df=pd.read_csv(file_path2,infer_datetime_format=True,parse_dates=True,index_col=\"DATE\")"
   ]
  },
  {
   "cell_type": "code",
   "execution_count": null,
   "metadata": {},
   "outputs": [],
   "source": [
    "features_df.head()"
   ]
  },
  {
   "cell_type": "code",
   "execution_count": null,
   "metadata": {},
   "outputs": [],
   "source": [
    "# DataFrame of ALL features not including NLP sentiment from 1992 to 2020 Nov.-Dec. only.\n",
    "file_path3=Path(\"~/git/HolidaySales/nov_dec_featuress.csv\")\n",
    "features_cut_df=pd.read_csv(file_path3,infer_datetime_format=True,parse_dates=True,index_col=\"DATE\")"
   ]
  },
  {
   "cell_type": "code",
   "execution_count": null,
   "metadata": {},
   "outputs": [],
   "source": [
    "features_cut_df.head()"
   ]
  },
  {
   "cell_type": "code",
   "execution_count": null,
   "metadata": {},
   "outputs": [],
   "source": [
    "# DataFrame of Nov-Dec NLTK Sentiment Scores.\n",
    "file_path4=Path(\"~/git/HolidaySales/NYT_updated.csv\")\n",
    "nltk_df=pd.read_csv(file_path4,infer_datetime_format=True,parse_dates=True,index_col=\"pub_date\")"
   ]
  },
  {
   "cell_type": "code",
   "execution_count": null,
   "metadata": {},
   "outputs": [],
   "source": [
    "# Organize and clean nltk data.\n",
    "nltk_df=nltk_df.drop(columns=[\"Unnamed: 0\"])\n",
    "nltk_df.head()"
   ]
  },
  {
   "cell_type": "code",
   "execution_count": null,
   "metadata": {},
   "outputs": [],
   "source": [
    "nltk_df=nltk_df.sort_index()"
   ]
  },
  {
   "cell_type": "code",
   "execution_count": null,
   "metadata": {},
   "outputs": [],
   "source": [
    "nltk_df.head()"
   ]
  },
  {
   "cell_type": "code",
   "execution_count": null,
   "metadata": {},
   "outputs": [],
   "source": [
    "nltk_df=nltk_df.drop(columns=[\"abstract\"])"
   ]
  },
  {
   "cell_type": "code",
   "execution_count": null,
   "metadata": {},
   "outputs": [],
   "source": [
    "nltk_df=nltk_df.drop(columns=[\"neg\",\"neu\",\"pos\"])"
   ]
  },
  {
   "cell_type": "code",
   "execution_count": null,
   "metadata": {},
   "outputs": [],
   "source": [
    "nltk_df.index.year"
   ]
  },
  {
   "cell_type": "code",
   "execution_count": null,
   "metadata": {},
   "outputs": [],
   "source": [
    "# Average the compound sentiment score for each month.\n",
    "nltk_df_grp=nltk_df.groupby([nltk_df.index.year,nltk_df.index.month]).mean()"
   ]
  },
  {
   "cell_type": "code",
   "execution_count": null,
   "metadata": {},
   "outputs": [],
   "source": [
    "nltk_df_grp"
   ]
  },
  {
   "cell_type": "code",
   "execution_count": null,
   "metadata": {},
   "outputs": [],
   "source": [
    "nltk_df_grp.index"
   ]
  },
  {
   "cell_type": "code",
   "execution_count": null,
   "metadata": {},
   "outputs": [],
   "source": [
    "nltk_df_grp.index=nltk_df_grp.index.to_flat_index()"
   ]
  },
  {
   "cell_type": "code",
   "execution_count": null,
   "metadata": {},
   "outputs": [],
   "source": [
    "nltk_df_grp.head()"
   ]
  },
  {
   "cell_type": "code",
   "execution_count": null,
   "metadata": {},
   "outputs": [],
   "source": [
    "#nltk_df_grp.to_csv(\"NEW_Nov_Dec_NLTK_Average_Sentiment_Score_Annual.csv\")"
   ]
  },
  {
   "cell_type": "code",
   "execution_count": null,
   "metadata": {},
   "outputs": [],
   "source": [
    "file_path5=Path(\"~/git/HolidaySales/NEW_Nov_Dec_NLTK_Average_Sentiment_Score_2.csv\")\n",
    "df=pd.read_csv(file_path5,infer_datetime_format=True,parse_dates=True,index_col=\"DATE\")"
   ]
  },
  {
   "cell_type": "code",
   "execution_count": null,
   "metadata": {},
   "outputs": [],
   "source": [
    "df.head()"
   ]
  },
  {
   "cell_type": "code",
   "execution_count": null,
   "metadata": {},
   "outputs": [],
   "source": [
    "# Get the full updated dataframe Nov/Dec ONLY w/Gold.\n",
    "file_path6=Path(\"~/git/HolidaySales/DataSets/Main_gold.csv\")\n",
    "main_df=pd.read_csv(file_path6,parse_dates=True,infer_datetime_format=True)"
   ]
  },
  {
   "cell_type": "code",
   "execution_count": null,
   "metadata": {},
   "outputs": [],
   "source": [
    "main_df.head()"
   ]
  },
  {
   "cell_type": "code",
   "execution_count": null,
   "metadata": {},
   "outputs": [],
   "source": [
    "# Returns for Dow Index.\n",
    "main_df[\"retail_index\"]=main_df[\"retail_index\"].pct_change()"
   ]
  },
  {
   "cell_type": "code",
   "execution_count": null,
   "metadata": {},
   "outputs": [],
   "source": [
    "# Returns for Gold.\n",
    "main_df[\"close\"]=main_df[\"close\"].pct_change()"
   ]
  },
  {
   "cell_type": "code",
   "execution_count": null,
   "metadata": {},
   "outputs": [],
   "source": [
    "main_df.head()"
   ]
  },
  {
   "cell_type": "code",
   "execution_count": null,
   "metadata": {},
   "outputs": [],
   "source": [
    "# FINAL DF WITH RETURNS FOR GOLD AND THE RETAIL INDEX NOV-DEC ONLY.\n",
    "file_path7=Path(\"~/git/HolidaySales/MAIN_DF_WITH_GOLD.csv\")\n",
    "main_df=pd.read_csv(file_path7,infer_datetime_format=True,parse_dates=True,index_col=\"DATE\")"
   ]
  },
  {
   "cell_type": "code",
   "execution_count": null,
   "metadata": {},
   "outputs": [],
   "source": [
    "main_df=main_df.sort_index()"
   ]
  },
  {
   "cell_type": "code",
   "execution_count": null,
   "metadata": {},
   "outputs": [],
   "source": [
    "main_df=main_df.drop(columns=[\"Unnamed: 0\"])\n",
    "main_df.head()"
   ]
  },
  {
   "cell_type": "code",
   "execution_count": null,
   "metadata": {},
   "outputs": [],
   "source": [
    "main_df.head()"
   ]
  },
  {
   "cell_type": "markdown",
   "metadata": {},
   "source": [
    "**I will now begin to analyze the relationship between the returns of the Dow Jones Retail Index and the returns of Gold. My goal/prediction is that there will be a negative correlation. They will move in opposite directions.**"
   ]
  },
  {
   "cell_type": "code",
   "execution_count": null,
   "metadata": {},
   "outputs": [],
   "source": [
    "retail_returns=main_df[\"Retail_Index_Returns\"]\n",
    "gold_returns=main_df[\"Gold_Returns\"]"
   ]
  },
  {
   "cell_type": "code",
   "execution_count": null,
   "metadata": {},
   "outputs": [],
   "source": [
    "# A plot of returns on of the retail index between November/December from 1992-2019.\n",
    "retail_returns.plot(figsize=(15,10),title=\"Dow Jones Retail Index Returns Nov-Dec 1992-2019\")"
   ]
  },
  {
   "cell_type": "code",
   "execution_count": null,
   "metadata": {},
   "outputs": [],
   "source": [
    "# A plot of returns on of the gold index between November/December from 1992-2019.\n",
    "gold_returns.plot(figsize=(15,10),title=\"Gold Returns Nov-Dec 1992-2019\")"
   ]
  },
  {
   "cell_type": "markdown",
   "metadata": {},
   "source": [
    "**Below I will be running a correlation test to analyze the relationship between the Nov-Dec Dow Retail Index Returns and Nov-Dec Gold Returns. My goal is to see them move as opposite as possible, the ideal would be a score of -1. I will also run one on the Nov-Dec Dow Retail Index and February and March of the preceding year Gold Returns testing the affect of Holiday Sales on Q4 GDP and Q4 GDP on the preceding years initial Q1 Gold offerings.**"
   ]
  },
  {
   "cell_type": "code",
   "execution_count": null,
   "metadata": {},
   "outputs": [],
   "source": [
    "retail_returns.corr(gold_returns)"
   ]
  },
  {
   "cell_type": "markdown",
   "metadata": {},
   "source": [
    "**Above one can see that there is a negative correlation as predicted. We have a score of -0.39. This is solely looking at November/December. I believe that it will be even more negative if we compare Nov/Dec retail to Gold February/March which is when the Q4 report is released.**"
   ]
  },
  {
   "cell_type": "code",
   "execution_count": null,
   "metadata": {},
   "outputs": [],
   "source": [
    "gold_returns_df=gold_returns.to_frame()"
   ]
  },
  {
   "cell_type": "code",
   "execution_count": null,
   "metadata": {},
   "outputs": [],
   "source": [
    "retail_returns_df=retail_returns.to_frame()"
   ]
  },
  {
   "cell_type": "code",
   "execution_count": null,
   "metadata": {},
   "outputs": [],
   "source": [
    "returns_df=gold_returns_df.merge(retail_returns_df, how='outer', left_index=True, right_index=True)"
   ]
  },
  {
   "cell_type": "markdown",
   "metadata": {},
   "source": [
    "**Here we see a plot of the gold returns and retail returns one can see that while gold has steeper movements, they are moving in opposite directions for the most part.**"
   ]
  },
  {
   "cell_type": "code",
   "execution_count": null,
   "metadata": {},
   "outputs": [],
   "source": [
    "returns_df.plot(figsize=(15,10),title=\"Gold vs. Dow Jones Retail Index Returns Nov-Dec 1992-2019\")"
   ]
  },
  {
   "cell_type": "code",
   "execution_count": null,
   "metadata": {},
   "outputs": [],
   "source": [
    "returns_df.corr()"
   ]
  },
  {
   "cell_type": "code",
   "execution_count": null,
   "metadata": {},
   "outputs": [],
   "source": [
    "#gold vs retail DF February/March 1993-2019.\n",
    "feb_gold_df=Path(\"~/git/HolidaySales/DataSets/gold_retail_febmar.csv\")\n",
    "f_m_gold_retail_df=pd.read_csv(feb_gold_df,parse_dates=True,infer_datetime_format=True,index_col=\"DATE\")"
   ]
  },
  {
   "cell_type": "code",
   "execution_count": null,
   "metadata": {},
   "outputs": [],
   "source": [
    "f_m_gold_retail_df=f_m_gold_retail_df.pct_change().dropna()"
   ]
  },
  {
   "cell_type": "code",
   "execution_count": null,
   "metadata": {},
   "outputs": [],
   "source": [
    "f_m_gold_retail_df=f_m_gold_retail_df.rename(columns={\"close\":\"Gold_Returns\",\"monthly_retail\":\"Retail_Index_Returns\"})"
   ]
  },
  {
   "cell_type": "code",
   "execution_count": null,
   "metadata": {},
   "outputs": [],
   "source": [
    "f_m_gold_retail_df.head()"
   ]
  },
  {
   "cell_type": "markdown",
   "metadata": {},
   "source": [
    "**Here I will show the relationship between both gold and the retail index returns during Feb/March of 1993-2019 looking at how the release of the previous years Q4 GDP which includes the Nov/Dec sales affects anything. I would believe that regardless of anything we should see a negative correation but it should be even stronger, but I believe the strongest is soon to come.**"
   ]
  },
  {
   "cell_type": "code",
   "execution_count": null,
   "metadata": {},
   "outputs": [],
   "source": [
    "f_m_gold_retail_df.corr()"
   ]
  },
  {
   "cell_type": "markdown",
   "metadata": {},
   "source": [
    "**I suspected that they would move in a stronger negative correlation but it actually has became more positive.**"
   ]
  },
  {
   "cell_type": "code",
   "execution_count": null,
   "metadata": {},
   "outputs": [],
   "source": [
    "f_m_gold_retail_df[\"Gold_Returns\"].plot(figsize=(15,10),title=\"Gold Returns Feb-Mar 1993-2019\")"
   ]
  },
  {
   "cell_type": "code",
   "execution_count": null,
   "metadata": {},
   "outputs": [],
   "source": [
    "f_m_gold_retail_df[\"Retail_Index_Returns\"].plot(figsize=(15,10),title=\"Dow Jones Retail Index Returns Feb-Mar 1993-2019\")"
   ]
  },
  {
   "cell_type": "code",
   "execution_count": null,
   "metadata": {},
   "outputs": [],
   "source": [
    "f_m_gold_retail_df.plot(figsize=(15,10),title=\"Gold vs. Retail Index Returns Feb-Mar 1993-2019\")"
   ]
  },
  {
   "cell_type": "markdown",
   "metadata": {},
   "source": [
    "**From this last graph we can see that there is much more volatility during this period for gold which makes sense with the theory. If you were going to invest from the good holiday sales you would have already done so before they started or sometime in the November to December period, but Feb/Mar would be the time when people would make more interesting decisions on gold after looking at the health of the economy from how spending as a whole and the Q4 GDP came out to be. A perfect example is how big of a spike up gold receive in 2008 when we were in economic turmoil.I believe the best analysis will be next when we look at the Nov/Dec Retail Index vs. the Feb/Mar Gold.**"
   ]
  },
  {
   "cell_type": "code",
   "execution_count": null,
   "metadata": {},
   "outputs": [],
   "source": [
    "f_m_gold_returns=f_m_gold_retail_df[\"Gold_Returns\"].reset_index()"
   ]
  },
  {
   "cell_type": "code",
   "execution_count": null,
   "metadata": {},
   "outputs": [],
   "source": [
    "f_m_gold_returns=f_m_gold_returns.drop(columns=[\"DATE\"])"
   ]
  },
  {
   "cell_type": "code",
   "execution_count": null,
   "metadata": {},
   "outputs": [],
   "source": [
    "retail_returns_data=retail_returns.reset_index()"
   ]
  },
  {
   "cell_type": "code",
   "execution_count": null,
   "metadata": {},
   "outputs": [],
   "source": [
    "retail_returns_data=retail_returns_data.drop(columns=[\"DATE\"])"
   ]
  },
  {
   "cell_type": "code",
   "execution_count": null,
   "metadata": {},
   "outputs": [],
   "source": [
    "retail_returns_data.head()"
   ]
  },
  {
   "cell_type": "code",
   "execution_count": null,
   "metadata": {},
   "outputs": [],
   "source": [
    "magic_df=pd.DataFrame({\"Retail\":retail_returns_data[\"Retail_Index_Returns\"],\"Gold\":f_m_gold_returns[\"Gold_Returns\"]})"
   ]
  },
  {
   "cell_type": "code",
   "execution_count": null,
   "metadata": {},
   "outputs": [],
   "source": [
    "magic_df.corr()"
   ]
  },
  {
   "cell_type": "markdown",
   "metadata": {},
   "source": [
    "**Not suprisingly we see here that our theory is correct. While we had somewhat of a positive correlation looking at the retail index and the gold returns during the same time period, when we compare the Feb/Mar returns of Gold for the proceeding year to the Nov/Dec returns for retail of the previous year, we can see that there is a negative correlation. We could definetly make the assumption that if one is looking at holiday sales predictions, if the numbers are looking good you should buy the retail index and sell gold and one could go as far as predicting to sell gold again in the February/March period of the next year, which is again the time frame we would expect the Q4 numbers to be released.**"
   ]
  },
  {
   "cell_type": "code",
   "execution_count": null,
   "metadata": {},
   "outputs": [],
   "source": [
    "magic_df[\"Retail\"].plot(figsize=(15,10),title=\"Retail Index Returns Nov-Dec 1992-2019\")"
   ]
  },
  {
   "cell_type": "code",
   "execution_count": null,
   "metadata": {},
   "outputs": [],
   "source": [
    "magic_df[\"Gold\"].plot(figsize=(15,10),title=\"Gold Feb-Mar 1993-2019\")"
   ]
  },
  {
   "cell_type": "code",
   "execution_count": null,
   "metadata": {},
   "outputs": [],
   "source": [
    "magic_df.plot(figsize=(15,10),title=\"Gold Feb-Mar 1993-2019 vs. Retail Index Returns Nov-Dec 1992-2019\")"
   ]
  },
  {
   "cell_type": "markdown",
   "metadata": {},
   "source": [
    "### **I will now create two LSTM models with the full features dataframe, one to make unsupervised predictions for holiday sales and another to make predictions of Gold prices.**"
   ]
  },
  {
   "cell_type": "code",
   "execution_count": null,
   "metadata": {},
   "outputs": [],
   "source": [
    "#Holiday Sales predictions.\n",
    "main_df.head()"
   ]
  },
  {
   "cell_type": "code",
   "execution_count": null,
   "metadata": {},
   "outputs": [],
   "source": [
    "# Create my features and target.\n",
    "y=main_df[\"sales\"].values\n",
    "X=main_df.drop(columns=[\"sales\"]).values"
   ]
  },
  {
   "cell_type": "code",
   "execution_count": null,
   "metadata": {},
   "outputs": [],
   "source": [
    "y[:2]"
   ]
  },
  {
   "cell_type": "code",
   "execution_count": null,
   "metadata": {},
   "outputs": [],
   "source": [
    "y=y.reshape(-1,1)"
   ]
  },
  {
   "cell_type": "code",
   "execution_count": null,
   "metadata": {},
   "outputs": [],
   "source": [
    "X=X.reshape(-1,10)"
   ]
  },
  {
   "cell_type": "code",
   "execution_count": null,
   "metadata": {},
   "outputs": [],
   "source": [
    "X.shape"
   ]
  },
  {
   "cell_type": "code",
   "execution_count": null,
   "metadata": {},
   "outputs": [],
   "source": [
    "X[:2]"
   ]
  },
  {
   "cell_type": "code",
   "execution_count": null,
   "metadata": {},
   "outputs": [],
   "source": [
    "y.shape"
   ]
  },
  {
   "cell_type": "code",
   "execution_count": null,
   "metadata": {},
   "outputs": [],
   "source": [
    "y[:2]"
   ]
  },
  {
   "cell_type": "code",
   "execution_count": null,
   "metadata": {},
   "outputs": [],
   "source": [
    "X.shape"
   ]
  },
  {
   "cell_type": "code",
   "execution_count": null,
   "metadata": {},
   "outputs": [],
   "source": [
    "# Split the data so I can use 70% of the data for training and the remainder for testing.\n",
    "split = int(0.7 * len(X))"
   ]
  },
  {
   "cell_type": "code",
   "execution_count": null,
   "metadata": {},
   "outputs": [],
   "source": [
    "X_train = X[: split]"
   ]
  },
  {
   "cell_type": "code",
   "execution_count": null,
   "metadata": {},
   "outputs": [],
   "source": [
    "X_test = X[split:]"
   ]
  },
  {
   "cell_type": "code",
   "execution_count": null,
   "metadata": {},
   "outputs": [],
   "source": [
    "y_train = y[: split]"
   ]
  },
  {
   "cell_type": "code",
   "execution_count": null,
   "metadata": {},
   "outputs": [],
   "source": [
    "y_test = y[split:]"
   ]
  },
  {
   "cell_type": "code",
   "execution_count": null,
   "metadata": {},
   "outputs": [],
   "source": [
    "# Use the MinMaxScaler to scale data between 0 and 1.\n",
    "scaler = MinMaxScaler()"
   ]
  },
  {
   "cell_type": "code",
   "execution_count": null,
   "metadata": {},
   "outputs": [],
   "source": [
    "scaler.fit(X)"
   ]
  },
  {
   "cell_type": "code",
   "execution_count": null,
   "metadata": {},
   "outputs": [],
   "source": [
    "X_train = scaler.transform(X_train)"
   ]
  },
  {
   "cell_type": "code",
   "execution_count": null,
   "metadata": {},
   "outputs": [],
   "source": [
    "X_test = scaler.transform(X_test)"
   ]
  },
  {
   "cell_type": "code",
   "execution_count": null,
   "metadata": {},
   "outputs": [],
   "source": [
    "scaler.fit(y)"
   ]
  },
  {
   "cell_type": "code",
   "execution_count": null,
   "metadata": {},
   "outputs": [],
   "source": [
    "y_train = scaler.transform(y_train)"
   ]
  },
  {
   "cell_type": "code",
   "execution_count": null,
   "metadata": {},
   "outputs": [],
   "source": [
    "y_test = scaler.transform(y_test)"
   ]
  },
  {
   "cell_type": "code",
   "execution_count": null,
   "metadata": {},
   "outputs": [],
   "source": [
    "y_test.shape"
   ]
  },
  {
   "cell_type": "code",
   "execution_count": null,
   "metadata": {},
   "outputs": [],
   "source": [
    "y_train.shape"
   ]
  },
  {
   "cell_type": "code",
   "execution_count": null,
   "metadata": {},
   "outputs": [],
   "source": [
    "X_test.shape"
   ]
  },
  {
   "cell_type": "code",
   "execution_count": null,
   "metadata": {},
   "outputs": [],
   "source": [
    "X_train.shape"
   ]
  },
  {
   "cell_type": "code",
   "execution_count": null,
   "metadata": {},
   "outputs": [],
   "source": [
    "X_train = X_train.reshape((X_train.shape[0], X_train.shape[1], 1))"
   ]
  },
  {
   "cell_type": "code",
   "execution_count": null,
   "metadata": {},
   "outputs": [],
   "source": [
    "X_test = X_test.reshape((X_test.shape[0], X_test.shape[1], 1))"
   ]
  },
  {
   "cell_type": "code",
   "execution_count": null,
   "metadata": {},
   "outputs": [],
   "source": [
    "# Create the instance of my Sequential model.\n",
    "model = Sequential()"
   ]
  },
  {
   "cell_type": "code",
   "execution_count": null,
   "metadata": {},
   "outputs": [],
   "source": [
    "number_units = 1000\n",
    "dropout_fraction = 0.2"
   ]
  },
  {
   "cell_type": "code",
   "execution_count": null,
   "metadata": {},
   "outputs": [],
   "source": [
    "# This is Layer 1.\n",
    "model.add(LSTM(units=number_units,return_sequences=True,input_shape=(X_train.shape[1],1)))\n",
    "model.add(Dropout(dropout_fraction))"
   ]
  },
  {
   "cell_type": "code",
   "execution_count": null,
   "metadata": {},
   "outputs": [],
   "source": [
    "# This is Layer 2.\n",
    "model.add(LSTM(units=number_units, return_sequences=True))\n",
    "model.add(Dropout(dropout_fraction))"
   ]
  },
  {
   "cell_type": "code",
   "execution_count": null,
   "metadata": {},
   "outputs": [],
   "source": [
    "# This is Layer 3.\n",
    "model.add(LSTM(units=number_units))\n",
    "model.add(Dropout(dropout_fraction))"
   ]
  },
  {
   "cell_type": "code",
   "execution_count": null,
   "metadata": {},
   "outputs": [],
   "source": [
    "# Here I create my output layer.\n",
    "model.add(Dense(1))"
   ]
  },
  {
   "cell_type": "code",
   "execution_count": null,
   "metadata": {},
   "outputs": [],
   "source": [
    "model.compile(optimizer=\"adam\",loss=\"mean_squared_error\")"
   ]
  },
  {
   "cell_type": "code",
   "execution_count": null,
   "metadata": {},
   "outputs": [],
   "source": [
    "model.summary()"
   ]
  },
  {
   "cell_type": "code",
   "execution_count": null,
   "metadata": {},
   "outputs": [],
   "source": [
    "model.fit(X_train,y_train,epochs=100,shuffle=False,batch_size=5,verbose=1)"
   ]
  },
  {
   "cell_type": "code",
   "execution_count": null,
   "metadata": {},
   "outputs": [],
   "source": [
    "model.evaluate(X_test,y_test)"
   ]
  },
  {
   "cell_type": "code",
   "execution_count": null,
   "metadata": {},
   "outputs": [],
   "source": [
    "predictions=model.predict(X_test)"
   ]
  },
  {
   "cell_type": "code",
   "execution_count": null,
   "metadata": {},
   "outputs": [],
   "source": [
    "predictions"
   ]
  },
  {
   "cell_type": "code",
   "execution_count": null,
   "metadata": {},
   "outputs": [],
   "source": [
    "# Recover the original prices instead of the scaled version\n",
    "predicted_sales = scaler.inverse_transform(predictions)\n",
    "real_sales = scaler.inverse_transform(y_test.reshape(-1, 1))"
   ]
  },
  {
   "cell_type": "code",
   "execution_count": null,
   "metadata": {},
   "outputs": [],
   "source": [
    "# Here I create a DataFrame of Real and Predicted values.\n",
    "sales_df = pd.DataFrame({\"Real\": real_sales.ravel(),\"Predicted\": predicted_sales.ravel()}, index = df.index[-len(real_sales): ]) \n",
    "sales_df.head()"
   ]
  },
  {
   "cell_type": "markdown",
   "metadata": {},
   "source": [
    "## **Model Evaluation**"
   ]
  },
  {
   "cell_type": "code",
   "execution_count": null,
   "metadata": {},
   "outputs": [],
   "source": [
    "sales_df.plot()"
   ]
  },
  {
   "cell_type": "code",
   "execution_count": null,
   "metadata": {},
   "outputs": [],
   "source": [
    "mse = mean_squared_error(sales_df[\"Real\"],sales_df[\"Predicted\"])\n",
    "rmse = np.sqrt(mse)\n",
    "std = np.std(sales_df[\"Real\"])\n",
    "r2=r2_score(sales_df[\"Real\"], sales_df[\"Predicted\"])"
   ]
  },
  {
   "cell_type": "code",
   "execution_count": null,
   "metadata": {},
   "outputs": [],
   "source": [
    "mse"
   ]
  },
  {
   "cell_type": "code",
   "execution_count": null,
   "metadata": {},
   "outputs": [],
   "source": [
    "rmse"
   ]
  },
  {
   "cell_type": "code",
   "execution_count": null,
   "metadata": {},
   "outputs": [],
   "source": [
    "std"
   ]
  },
  {
   "cell_type": "code",
   "execution_count": null,
   "metadata": {},
   "outputs": [],
   "source": [
    "r2"
   ]
  },
  {
   "cell_type": "markdown",
   "metadata": {},
   "source": [
    "### A second model trying to predict holiday sales, working to get a better r2."
   ]
  },
  {
   "cell_type": "code",
   "execution_count": null,
   "metadata": {},
   "outputs": [],
   "source": [
    "# Create the instance of my Sequential model.\n",
    "model_two = Sequential()"
   ]
  },
  {
   "cell_type": "code",
   "execution_count": null,
   "metadata": {},
   "outputs": [],
   "source": [
    "number_units = 1000\n",
    "dropout_fraction = 0.5"
   ]
  },
  {
   "cell_type": "code",
   "execution_count": null,
   "metadata": {},
   "outputs": [],
   "source": [
    "# This is Layer 1.\n",
    "model_two.add(LSTM(units=number_units,return_sequences=True,input_shape=(X_train.shape[1],1)))\n",
    "model_two.add(Dropout(dropout_fraction))"
   ]
  },
  {
   "cell_type": "code",
   "execution_count": null,
   "metadata": {},
   "outputs": [],
   "source": [
    "# This is Layer 2.\n",
    "model_two.add(LSTM(units=number_units, return_sequences=True))\n",
    "model_two.add(Dropout(dropout_fraction))"
   ]
  },
  {
   "cell_type": "code",
   "execution_count": null,
   "metadata": {},
   "outputs": [],
   "source": [
    "# This is Layer 3.\n",
    "model_two.add(LSTM(units=number_units, return_sequences=True))\n",
    "model_two.add(Dropout(dropout_fraction))"
   ]
  },
  {
   "cell_type": "code",
   "execution_count": null,
   "metadata": {},
   "outputs": [],
   "source": [
    "# This is Layer 4.\n",
    "model_two.add(LSTM(units=number_units))\n",
    "model_two.add(Dropout(dropout_fraction))"
   ]
  },
  {
   "cell_type": "code",
   "execution_count": null,
   "metadata": {},
   "outputs": [],
   "source": [
    "# Here I create my output layer.\n",
    "model_two.add(Dense(1))"
   ]
  },
  {
   "cell_type": "code",
   "execution_count": null,
   "metadata": {},
   "outputs": [],
   "source": [
    "model_two.compile(optimizer=\"adam\",loss=\"mean_squared_error\")"
   ]
  },
  {
   "cell_type": "code",
   "execution_count": null,
   "metadata": {},
   "outputs": [],
   "source": [
    "model_two.summary()"
   ]
  },
  {
   "cell_type": "code",
   "execution_count": null,
   "metadata": {},
   "outputs": [],
   "source": [
    "model_two.fit(X_train,y_train,epochs=100,shuffle=False,batch_size=5,verbose=1)"
   ]
  },
  {
   "cell_type": "code",
   "execution_count": null,
   "metadata": {},
   "outputs": [],
   "source": [
    "model_two.evaluate(X_test,y_test)"
   ]
  },
  {
   "cell_type": "code",
   "execution_count": null,
   "metadata": {},
   "outputs": [],
   "source": [
    "predictions_two=model_two.predict(X_test)"
   ]
  },
  {
   "cell_type": "code",
   "execution_count": null,
   "metadata": {},
   "outputs": [],
   "source": [
    "predictions_two"
   ]
  },
  {
   "cell_type": "code",
   "execution_count": null,
   "metadata": {},
   "outputs": [],
   "source": [
    "# Recover the original prices instead of the scaled version\n",
    "predicted_sales_two = scaler.inverse_transform(predictions_two)\n",
    "real_sales_two = scaler.inverse_transform(y_test.reshape(-1, 1))"
   ]
  },
  {
   "cell_type": "code",
   "execution_count": null,
   "metadata": {},
   "outputs": [],
   "source": [
    "# Here I create a DataFrame of Real and Predicted values.\n",
    "sales_two_df = pd.DataFrame({\"Real\": real_sales_two.ravel(),\"Predicted\": predicted_sales_two.ravel()}, index = df.index[-len(real_sales): ]) \n",
    "sales_two_df.head()"
   ]
  },
  {
   "cell_type": "markdown",
   "metadata": {},
   "source": [
    "## **Model Evaluation**"
   ]
  },
  {
   "cell_type": "code",
   "execution_count": null,
   "metadata": {},
   "outputs": [],
   "source": [
    "sales_df.plot()"
   ]
  },
  {
   "cell_type": "code",
   "execution_count": null,
   "metadata": {},
   "outputs": [],
   "source": [
    "sales_two_df.plot()"
   ]
  },
  {
   "cell_type": "markdown",
   "metadata": {},
   "source": [
    "**After making different changes to the units, dropout rate, number of layers, and optimizer, I have found that the best setup for me is in #1 with an r2 of 0.64 which isnt bad for a whole unsupervised situation.**"
   ]
  },
  {
   "cell_type": "code",
   "execution_count": null,
   "metadata": {},
   "outputs": [],
   "source": [
    "r2_two=r2_score(sales_two_df[\"Real\"], sales_two_df[\"Predicted\"])"
   ]
  },
  {
   "cell_type": "markdown",
   "metadata": {},
   "source": [
    "## **Trade Alogrithm**"
   ]
  },
  {
   "cell_type": "markdown",
   "metadata": {},
   "source": [
    "**Here we will simply be creating a function that will accept the best model prediction for sales and from there compare that prediction to the median value for holiday sales. If the prediction is above the median value the function would tell you to buy the retail index. From our previous correlation analysis above, we would also go a step further as well and say to sell gold.**"
   ]
  },
  {
   "cell_type": "code",
   "execution_count": null,
   "metadata": {},
   "outputs": [],
   "source": [
    "# Correlation between sales and Retail Index Returns.\n",
    "main_df[\"sales\"].corr(main_df[\"Retail_Index_Returns\"])"
   ]
  },
  {
   "cell_type": "markdown",
   "metadata": {},
   "source": [
    "**Above we can see that there is not the strongest correlation between the retail index returns and the sales but for the sake of theory and science, here we are.**"
   ]
  },
  {
   "cell_type": "code",
   "execution_count": null,
   "metadata": {},
   "outputs": [],
   "source": [
    "# Correlation between sales and Gold Returns.\n",
    "main_df[\"sales\"].corr(main_df[\"Gold_Returns\"])"
   ]
  },
  {
   "cell_type": "markdown",
   "metadata": {},
   "source": [
    "**This right here is pretty much ruining everything but again, theory is theory.**"
   ]
  },
  {
   "cell_type": "code",
   "execution_count": null,
   "metadata": {},
   "outputs": [],
   "source": [
    "def get_prediction():\n",
    "    "
   ]
  },
  {
   "cell_type": "raw",
   "metadata": {},
   "source": [
    "main_df[\"sales\"].corr(magic_df[\"Gold\"])"
   ]
  },
  {
   "cell_type": "code",
   "execution_count": null,
   "metadata": {},
   "outputs": [],
   "source": [
    "main_df.head()"
   ]
  },
  {
   "cell_type": "code",
   "execution_count": null,
   "metadata": {},
   "outputs": [],
   "source": []
  },
  {
   "cell_type": "code",
   "execution_count": null,
   "metadata": {},
   "outputs": [],
   "source": [
    "\n"
   ]
  },
  {
   "cell_type": "code",
   "execution_count": null,
   "metadata": {},
   "outputs": [],
   "source": []
  },
  {
   "cell_type": "code",
   "execution_count": null,
   "metadata": {},
   "outputs": [],
   "source": []
  },
  {
   "cell_type": "code",
   "execution_count": null,
   "metadata": {},
   "outputs": [],
   "source": []
  },
  {
   "cell_type": "code",
   "execution_count": null,
   "metadata": {},
   "outputs": [],
   "source": []
  },
  {
   "cell_type": "code",
   "execution_count": null,
   "metadata": {},
   "outputs": [],
   "source": []
  },
  {
   "cell_type": "code",
   "execution_count": null,
   "metadata": {},
   "outputs": [],
   "source": []
  },
  {
   "cell_type": "code",
   "execution_count": null,
   "metadata": {},
   "outputs": [],
   "source": []
  },
  {
   "cell_type": "code",
   "execution_count": null,
   "metadata": {},
   "outputs": [],
   "source": []
  },
  {
   "cell_type": "code",
   "execution_count": null,
   "metadata": {},
   "outputs": [],
   "source": []
  },
  {
   "cell_type": "code",
   "execution_count": null,
   "metadata": {},
   "outputs": [],
   "source": []
  }
 ],
 "metadata": {
  "kernelspec": {
   "display_name": "Python [conda env:root] *",
   "language": "python",
   "name": "conda-root-py"
  },
  "language_info": {
   "codemirror_mode": {
    "name": "ipython",
    "version": 3
   },
   "file_extension": ".py",
   "mimetype": "text/x-python",
   "name": "python",
   "nbconvert_exporter": "python",
   "pygments_lexer": "ipython3",
   "version": "3.7.6"
  }
 },
 "nbformat": 4,
 "nbformat_minor": 4
}
